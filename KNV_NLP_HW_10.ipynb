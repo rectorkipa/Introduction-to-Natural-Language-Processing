{
  "nbformat": 4,
  "nbformat_minor": 0,
  "metadata": {
    "accelerator": "GPU",
    "colab": {
      "provenance": []
    },
    "kernelspec": {
      "display_name": "Python 3",
      "name": "python3"
    }
  },
  "cells": [
    {
      "cell_type": "markdown",
      "metadata": {
        "id": "J0Qjg6vuaHNt"
      },
      "source": [
        "## Кривоногов Н.В., NLP, практическое задание № 10"
      ]
    },
    {
      "cell_type": "markdown",
      "source": [
        "Разобраться с моделькой перевода как она устроена (без механизма внимания), запустить для перевода с русского на английский (при желании можно взять другие пары языков)\n"
      ],
      "metadata": {
        "id": "HLwa4SbUuP50"
      }
    },
    {
      "cell_type": "code",
      "metadata": {
        "id": "tnxXKDjq3jEL"
      },
      "source": [
        "import tensorflow as tf\n",
        "\n",
        "import matplotlib.pyplot as plt\n",
        "import matplotlib.ticker as ticker\n",
        "from sklearn.model_selection import train_test_split\n",
        "\n",
        "import unicodedata\n",
        "import re\n",
        "import numpy as np\n",
        "import os\n",
        "import io\n",
        "import time"
      ],
      "execution_count": 1,
      "outputs": []
    },
    {
      "cell_type": "markdown",
      "metadata": {
        "id": "wfodePkj3jEa"
      },
      "source": [
        "## Download and prepare the dataset\n",
        "\n",
        "We'll use a language dataset provided by http://www.manythings.org/anki/"
      ]
    },
    {
      "cell_type": "code",
      "metadata": {
        "id": "CNvjhDyAKk3U",
        "colab": {
          "base_uri": "https://localhost:8080/"
        },
        "outputId": "1df17aac-99bb-4b70-ebc2-130558a3ae40"
      },
      "source": [
        "!wget http://www.manythings.org/anki/rus-eng.zip"
      ],
      "execution_count": 2,
      "outputs": [
        {
          "output_type": "stream",
          "name": "stdout",
          "text": [
            "--2023-09-06 18:18:12--  http://www.manythings.org/anki/rus-eng.zip\n",
            "Resolving www.manythings.org (www.manythings.org)... 173.254.30.110\n",
            "Connecting to www.manythings.org (www.manythings.org)|173.254.30.110|:80... connected.\n",
            "HTTP request sent, awaiting response... 200 OK\n",
            "Length: 15824155 (15M) [application/zip]\n",
            "Saving to: ‘rus-eng.zip’\n",
            "\n",
            "rus-eng.zip         100%[===================>]  15.09M  50.7MB/s    in 0.3s    \n",
            "\n",
            "2023-09-06 18:18:13 (50.7 MB/s) - ‘rus-eng.zip’ saved [15824155/15824155]\n",
            "\n"
          ]
        }
      ]
    },
    {
      "cell_type": "code",
      "metadata": {
        "id": "83bg17Lr-7XK",
        "colab": {
          "base_uri": "https://localhost:8080/"
        },
        "outputId": "e4e09387-789c-43c2-e096-7bea6a45504e"
      },
      "source": [
        "!mkdir rus-eng\n",
        "!unzip rus-eng.zip -d rus-eng/"
      ],
      "execution_count": 3,
      "outputs": [
        {
          "output_type": "stream",
          "name": "stdout",
          "text": [
            "Archive:  rus-eng.zip\n",
            "  inflating: rus-eng/rus.txt         \n",
            "  inflating: rus-eng/_about.txt      \n"
          ]
        }
      ]
    },
    {
      "cell_type": "code",
      "metadata": {
        "id": "7o5L92efMMhf",
        "colab": {
          "base_uri": "https://localhost:8080/"
        },
        "outputId": "013f82a1-fc20-40bc-b2a5-6eb6e266ea9f"
      },
      "source": [
        "!ls /content/rus-eng/ -lah"
      ],
      "execution_count": 4,
      "outputs": [
        {
          "output_type": "stream",
          "name": "stdout",
          "text": [
            "total 76M\n",
            "drwxr-xr-x 2 root root 4.0K Sep  6 18:18 .\n",
            "drwxr-xr-x 1 root root 4.0K Sep  6 18:18 ..\n",
            "-rw-r--r-- 1 root root 1.5K Jul 30 03:53 _about.txt\n",
            "-rw-r--r-- 1 root root  76M Jul 30 03:53 rus.txt\n"
          ]
        }
      ]
    },
    {
      "cell_type": "code",
      "metadata": {
        "id": "kRVATYOgJs1b"
      },
      "source": [
        "# Download the file\n",
        "path_to_file = \"/content/rus-eng/rus.txt\""
      ],
      "execution_count": 5,
      "outputs": []
    },
    {
      "cell_type": "code",
      "metadata": {
        "id": "rd0jw-eC3jEh"
      },
      "source": [
        "def preprocess_sentence(w):\n",
        "  w = w.lower().strip()\n",
        "\n",
        "  # creating a space between a word and the punctuation following it\n",
        "  # eg: \"he is a boy.\" => \"he is a boy .\"\n",
        "  # Reference:- https://stackoverflow.com/questions/3645931/python-padding-punctuation-with-white-spaces-keeping-punctuation\n",
        "  w = re.sub(r\"([?.!,])\", r\" \\1 \", w)\n",
        "  w = re.sub(r'[\" \"]+', \" \", w)\n",
        "\n",
        "  # replacing everything with space except (a-z, A-Z, \".\", \"?\", \"!\", \",\")\n",
        "  w = re.sub(r\"[^a-zA-Zа-яА-Я?.!,']+\", \" \", w)\n",
        "\n",
        "  w = w.strip()\n",
        "\n",
        "  # adding a start and an end token to the sentence\n",
        "  # so that the model know when to start and stop predicting.\n",
        "  w = '<start> ' + w + ' <end>'\n",
        "  return w"
      ],
      "execution_count": 6,
      "outputs": []
    },
    {
      "cell_type": "code",
      "metadata": {
        "id": "yV9lZXQXNbnH",
        "colab": {
          "base_uri": "https://localhost:8080/",
          "height": 35
        },
        "outputId": "aff53b99-802c-4cb3-e20d-5bb889cf7ba5"
      },
      "source": [
        "preprocess_sentence(\"I can't go.\")"
      ],
      "execution_count": 7,
      "outputs": [
        {
          "output_type": "execute_result",
          "data": {
            "text/plain": [
              "\"<start> i can't go . <end>\""
            ],
            "application/vnd.google.colaboratory.intrinsic+json": {
              "type": "string"
            }
          },
          "metadata": {},
          "execution_count": 7
        }
      ]
    },
    {
      "cell_type": "code",
      "metadata": {
        "id": "OHn4Dct23jEm"
      },
      "source": [
        "# 1. Remove the accents\n",
        "# 2. Clean the sentences\n",
        "# 3. Return word pairs in the format: [ENG, RUS]\n",
        "def create_dataset(path, num_examples):\n",
        "  lines = io.open(path, encoding='UTF-8').read().strip().split('\\n')\n",
        "\n",
        "  word_pairs = [[preprocess_sentence(w) for w in l.split('\\t')[:2]]  for l in lines[:num_examples]]\n",
        "\n",
        "  return zip(*word_pairs)"
      ],
      "execution_count": 8,
      "outputs": []
    },
    {
      "cell_type": "code",
      "metadata": {
        "id": "cTbSbBz55QtF",
        "colab": {
          "base_uri": "https://localhost:8080/"
        },
        "outputId": "b1954f5b-6909-4c52-856f-d312f0cde082"
      },
      "source": [
        "en, ru = create_dataset(path_to_file, None)\n",
        "print(en[0])\n",
        "print(ru[0])"
      ],
      "execution_count": 9,
      "outputs": [
        {
          "output_type": "stream",
          "name": "stdout",
          "text": [
            "<start> go . <end>\n",
            "<start> марш ! <end>\n"
          ]
        }
      ]
    },
    {
      "cell_type": "code",
      "metadata": {
        "id": "bIOn8RCNDJXG"
      },
      "source": [
        "def tokenize(lang):\n",
        "  lang_tokenizer = tf.keras.preprocessing.text.Tokenizer(\n",
        "      filters='')\n",
        "  lang_tokenizer.fit_on_texts(lang)\n",
        "\n",
        "  tensor = lang_tokenizer.texts_to_sequences(lang)\n",
        "\n",
        "  tensor = tf.keras.preprocessing.sequence.pad_sequences(tensor,\n",
        "                                                         padding='post')\n",
        "\n",
        "  return tensor, lang_tokenizer"
      ],
      "execution_count": 10,
      "outputs": []
    },
    {
      "cell_type": "code",
      "metadata": {
        "id": "eAY9k49G3jE_"
      },
      "source": [
        "def load_dataset(path, num_examples=None):\n",
        "  # creating cleaned input, output pairs\n",
        "  targ_lang, inp_lang = create_dataset(path, num_examples)\n",
        "\n",
        "  input_tensor, inp_lang_tokenizer = tokenize(inp_lang)\n",
        "  target_tensor, targ_lang_tokenizer = tokenize(targ_lang)\n",
        "\n",
        "  return input_tensor, target_tensor, inp_lang_tokenizer, targ_lang_tokenizer"
      ],
      "execution_count": 11,
      "outputs": []
    },
    {
      "cell_type": "markdown",
      "metadata": {
        "id": "GOi42V79Ydlr"
      },
      "source": [
        "### Limit the size of the dataset to experiment faster (optional)\n"
      ]
    },
    {
      "cell_type": "code",
      "metadata": {
        "id": "C8j9g9AnIeZV",
        "colab": {
          "base_uri": "https://localhost:8080/"
        },
        "outputId": "80b317c9-354c-4c12-c563-62e15ddc627a"
      },
      "source": [
        "len(en), len(ru)"
      ],
      "execution_count": 12,
      "outputs": [
        {
          "output_type": "execute_result",
          "data": {
            "text/plain": [
              "(479223, 479223)"
            ]
          },
          "metadata": {},
          "execution_count": 12
        }
      ]
    },
    {
      "cell_type": "code",
      "metadata": {
        "id": "cnxC7q-j3jFD"
      },
      "source": [
        "# Try experimenting with the size of that dataset\n",
        "num_examples = 100000\n",
        "input_tensor, target_tensor, inp_lang, targ_lang = load_dataset(path_to_file, num_examples)\n",
        "\n",
        "# Calculate max_length of the target tensors\n",
        "max_length_targ, max_length_inp = target_tensor.shape[1], input_tensor.shape[1]"
      ],
      "execution_count": 13,
      "outputs": []
    },
    {
      "cell_type": "code",
      "metadata": {
        "id": "4QILQkOs3jFG",
        "colab": {
          "base_uri": "https://localhost:8080/"
        },
        "outputId": "73ce0c15-b9c9-4234-cd14-c62e7a9aeb7b"
      },
      "source": [
        "# Creating training and validation sets using an 80-20 split\n",
        "input_tensor_train, input_tensor_val, target_tensor_train, target_tensor_val = train_test_split(input_tensor, target_tensor, test_size=0.2)\n",
        "\n",
        "# Show length\n",
        "print(len(input_tensor_train), len(target_tensor_train), len(input_tensor_val), len(target_tensor_val))"
      ],
      "execution_count": 14,
      "outputs": [
        {
          "output_type": "stream",
          "name": "stdout",
          "text": [
            "80000 80000 20000 20000\n"
          ]
        }
      ]
    },
    {
      "cell_type": "code",
      "metadata": {
        "id": "lJPmLZGMeD5q"
      },
      "source": [
        "def convert(lang, tensor):\n",
        "  for t in tensor:\n",
        "    if t!=0:\n",
        "      print (\"%d ----> %s\" % (t, lang.index_word[t]))"
      ],
      "execution_count": 15,
      "outputs": []
    },
    {
      "cell_type": "code",
      "metadata": {
        "id": "VXukARTDd7MT",
        "colab": {
          "base_uri": "https://localhost:8080/"
        },
        "outputId": "7a9dec41-3928-4dd4-b30d-a9ae04c3c556"
      },
      "source": [
        "print (\"Input Language; index to word mapping\")\n",
        "convert(inp_lang, input_tensor_train[0])\n",
        "print ()\n",
        "print (\"Target Language; index to word mapping\")\n",
        "convert(targ_lang, target_tensor_train[0])"
      ],
      "execution_count": 16,
      "outputs": [
        {
          "output_type": "stream",
          "name": "stdout",
          "text": [
            "Input Language; index to word mapping\n",
            "1 ----> <start>\n",
            "7 ----> не\n",
            "341 ----> говорите\n",
            "11 ----> мне\n",
            "57 ----> этого\n",
            "3 ----> .\n",
            "2 ----> <end>\n",
            "\n",
            "Target Language; index to word mapping\n",
            "1 ----> <start>\n",
            "21 ----> don't\n",
            "86 ----> tell\n",
            "14 ----> me\n",
            "17 ----> that\n",
            "3 ----> .\n",
            "2 ----> <end>\n"
          ]
        }
      ]
    },
    {
      "cell_type": "markdown",
      "metadata": {
        "id": "rgCLkfv5uO3d"
      },
      "source": [
        "### Create a tf.data dataset"
      ]
    },
    {
      "cell_type": "code",
      "metadata": {
        "id": "TqHsArVZ3jFS"
      },
      "source": [
        "BUFFER_SIZE = len(input_tensor_train)\n",
        "BATCH_SIZE = 64\n",
        "steps_per_epoch = len(input_tensor_train)//BATCH_SIZE\n",
        "embedding_dim = 300\n",
        "units = 1024\n",
        "vocab_inp_size = len(inp_lang.word_index)+1\n",
        "vocab_tar_size = len(targ_lang.word_index)+1\n",
        "\n",
        "dataset = tf.data.Dataset.from_tensor_slices((input_tensor_train, target_tensor_train)).shuffle(BUFFER_SIZE)\n",
        "dataset = dataset.batch(BATCH_SIZE, drop_remainder=True)"
      ],
      "execution_count": 17,
      "outputs": []
    },
    {
      "cell_type": "code",
      "metadata": {
        "id": "qc6-NK1GtWQt",
        "colab": {
          "base_uri": "https://localhost:8080/"
        },
        "outputId": "6e2cf376-5c46-4bb3-ef41-2f1de16d9d35"
      },
      "source": [
        "example_input_batch, example_target_batch = next(iter(dataset))\n",
        "example_input_batch.shape, example_target_batch.shape"
      ],
      "execution_count": 18,
      "outputs": [
        {
          "output_type": "execute_result",
          "data": {
            "text/plain": [
              "(TensorShape([64, 15]), TensorShape([64, 11]))"
            ]
          },
          "metadata": {},
          "execution_count": 18
        }
      ]
    },
    {
      "cell_type": "code",
      "metadata": {
        "id": "nZ2rI24i3jFg"
      },
      "source": [
        "class Encoder(tf.keras.Model):\n",
        "  def __init__(self, vocab_size, embedding_dim, enc_units, batch_sz):\n",
        "    super(Encoder, self).__init__()\n",
        "    self.batch_sz = batch_sz\n",
        "    self.enc_units = enc_units\n",
        "    self.embedding = tf.keras.layers.Embedding(vocab_size, embedding_dim)\n",
        "    self.gru = tf.keras.layers.GRU(self.enc_units,\n",
        "                                   return_sequences=False,\n",
        "                                   return_state=True,\n",
        "                                   recurrent_initializer='glorot_uniform')\n",
        "\n",
        "\n",
        "  def call(self, x, hidden):\n",
        "    x = self.embedding(x)\n",
        "    output, state = self.gru(x, initial_state = hidden)\n",
        "    return state\n",
        "\n",
        "  def initialize_hidden_state(self):\n",
        "    return tf.zeros((self.batch_sz, self.enc_units))"
      ],
      "execution_count": 19,
      "outputs": []
    },
    {
      "cell_type": "code",
      "metadata": {
        "id": "60gSVh05Jl6l",
        "colab": {
          "base_uri": "https://localhost:8080/"
        },
        "outputId": "77a12432-9b5b-4387-ed3d-988e1735fa1c"
      },
      "source": [
        "encoder = Encoder(vocab_inp_size, embedding_dim, units, BATCH_SIZE)\n",
        "\n",
        "# sample input\n",
        "sample_hidden = encoder.initialize_hidden_state()\n",
        "sample_hidden = encoder(example_input_batch, sample_hidden)\n",
        "# print ('Encoder output shape: (batch size, sequence length, units) {}'.format(sample_output.shape))\n",
        "print ('Encoder Hidden state shape: (batch size, units) {}'.format(sample_hidden.shape))"
      ],
      "execution_count": 20,
      "outputs": [
        {
          "output_type": "stream",
          "name": "stdout",
          "text": [
            "Encoder Hidden state shape: (batch size, units) (64, 1024)\n"
          ]
        }
      ]
    },
    {
      "cell_type": "code",
      "metadata": {
        "id": "yJ_B3mhW3jFk"
      },
      "source": [
        "class Decoder(tf.keras.Model):\n",
        "  def __init__(self, vocab_size, embedding_dim, dec_units, batch_sz):\n",
        "    super(Decoder, self).__init__()\n",
        "    self.batch_sz = batch_sz\n",
        "    self.dec_units = dec_units\n",
        "    self.embedding = tf.keras.layers.Embedding(vocab_size, embedding_dim)\n",
        "    self.gru = tf.keras.layers.GRU(self.dec_units,\n",
        "                                   return_sequences=True,\n",
        "                                   return_state=True,\n",
        "                                   recurrent_initializer='glorot_uniform')\n",
        "    self.fc = tf.keras.layers.Dense(vocab_size)\n",
        "\n",
        "  def call(self, x, hidden):\n",
        "    # enc_output shape == (batch_size, max_length, hidden_size)\n",
        "\n",
        "    # x shape after passing through embedding == (batch_size, 1, embedding_dim)\n",
        "    x = self.embedding(x)\n",
        "\n",
        "    # x shape after concatenation == (batch_size, 1, embedding_dim + hidden_size)\n",
        "\n",
        "    # passing the concatenated vector to the GRU\n",
        "    output, state = self.gru(x, initial_state=hidden)\n",
        "\n",
        "    # output shape == (batch_size * 1, hidden_size)\n",
        "    output = tf.reshape(output, (-1, output.shape[2]))\n",
        "\n",
        "    # output shape == (batch_size, vocab)\n",
        "    x = self.fc(output)\n",
        "\n",
        "    return x, state"
      ],
      "execution_count": 21,
      "outputs": []
    },
    {
      "cell_type": "code",
      "metadata": {
        "id": "P5UY8wko3jFp"
      },
      "source": [
        "decoder = Decoder(vocab_tar_size, embedding_dim, units, BATCH_SIZE)\n",
        "\n",
        "decoder_sample_x, decoder_sample_h = decoder(tf.random.uniform((BATCH_SIZE, 1)),\n",
        "                                      sample_hidden)\n",
        "\n"
      ],
      "execution_count": 22,
      "outputs": []
    },
    {
      "cell_type": "code",
      "metadata": {
        "colab": {
          "base_uri": "https://localhost:8080/"
        },
        "id": "XKcypC0AGeLR",
        "outputId": "4362047b-74fe-4d75-cb09-18aebb75c7c0"
      },
      "source": [
        "decoder_sample_x.shape"
      ],
      "execution_count": 23,
      "outputs": [
        {
          "output_type": "execute_result",
          "data": {
            "text/plain": [
              "TensorShape([64, 7386])"
            ]
          },
          "metadata": {},
          "execution_count": 23
        }
      ]
    },
    {
      "cell_type": "code",
      "metadata": {
        "id": "6y0HF-zMF_vp",
        "colab": {
          "base_uri": "https://localhost:8080/"
        },
        "outputId": "8c9e747e-7f9a-44e7-9c1c-e56db628d4f2"
      },
      "source": [
        "decoder_sample_h.shape"
      ],
      "execution_count": 24,
      "outputs": [
        {
          "output_type": "execute_result",
          "data": {
            "text/plain": [
              "TensorShape([64, 1024])"
            ]
          },
          "metadata": {},
          "execution_count": 24
        }
      ]
    },
    {
      "cell_type": "markdown",
      "metadata": {
        "id": "_ch_71VbIRfK"
      },
      "source": [
        "## Define the optimizer and the loss function"
      ]
    },
    {
      "cell_type": "code",
      "metadata": {
        "id": "WmTHr5iV3jFr"
      },
      "source": [
        "optimizer = tf.keras.optimizers.Adam()\n",
        "\n",
        "loss_object = tf.keras.losses.SparseCategoricalCrossentropy(\n",
        "    from_logits=True, reduction='none')\n",
        "\n",
        "def loss_function(real, pred):\n",
        "  mask = tf.math.logical_not(tf.math.equal(real, 0))\n",
        "  loss_ = loss_object(real, pred)\n",
        "\n",
        "  mask = tf.cast(mask, dtype=loss_.dtype)\n",
        "  loss_ *= mask\n",
        "\n",
        "  return tf.reduce_mean(loss_)"
      ],
      "execution_count": 25,
      "outputs": []
    },
    {
      "cell_type": "markdown",
      "metadata": {
        "id": "DMVWzzsfNl4e"
      },
      "source": [
        "## Checkpoints (Object-based saving)"
      ]
    },
    {
      "cell_type": "code",
      "metadata": {
        "id": "Zj8bXQTgNwrF"
      },
      "source": [
        "checkpoint_dir = './training_nmt_checkpoints'\n",
        "\n",
        "checkpoint_prefix = os.path.join(checkpoint_dir, \"ckpt\")\n",
        "\n",
        "checkpoint = tf.train.Checkpoint(optimizer=optimizer,\n",
        "                                 encoder=encoder,\n",
        "                                 decoder=decoder)"
      ],
      "execution_count": 26,
      "outputs": []
    },
    {
      "cell_type": "code",
      "metadata": {
        "id": "sC9ArXSsVfqn"
      },
      "source": [
        "@tf.function\n",
        "def train_step(inp, targ, enc_hidden):\n",
        "  loss = 0\n",
        "\n",
        "  with tf.GradientTape() as tape:\n",
        "    enc_hidden = encoder(inp, enc_hidden)\n",
        "\n",
        "    dec_hidden = enc_hidden\n",
        "\n",
        "    dec_input = tf.expand_dims([targ_lang.word_index['<start>']] * BATCH_SIZE, 1)\n",
        "\n",
        "    # Teacher forcing - feeding the target as the next input\n",
        "    for t in range(1, targ.shape[1]):\n",
        "      # passing enc_output to the decoder\n",
        "      predictions, dec_hidden = decoder(dec_input, dec_hidden)\n",
        "\n",
        "      loss += loss_function(targ[:, t], predictions)\n",
        "\n",
        "      # using teacher forcing\n",
        "      dec_input = tf.expand_dims(targ[:, t], 1)\n",
        "\n",
        "  batch_loss = (loss / int(targ.shape[1]))\n",
        "\n",
        "  variables = encoder.trainable_variables + decoder.trainable_variables\n",
        "\n",
        "  gradients = tape.gradient(loss, variables)\n",
        "\n",
        "  optimizer.apply_gradients(zip(gradients, variables))\n",
        "\n",
        "  return batch_loss"
      ],
      "execution_count": 27,
      "outputs": []
    },
    {
      "cell_type": "code",
      "metadata": {
        "id": "ddefjBMa3jF0",
        "colab": {
          "base_uri": "https://localhost:8080/"
        },
        "outputId": "11217e09-0926-4679-fe64-b3332d82f8be"
      },
      "source": [
        "EPOCHS = 50\n",
        "\n",
        "for epoch in range(EPOCHS):\n",
        "  start = time.time()\n",
        "\n",
        "  enc_hidden = encoder.initialize_hidden_state()\n",
        "  total_loss = 0\n",
        "\n",
        "  for (batch, (inp, targ)) in enumerate(dataset.take(steps_per_epoch)):\n",
        "    batch_loss = train_step(inp, targ, enc_hidden)\n",
        "    total_loss += batch_loss\n",
        "\n",
        "    if batch % 100 == 0:\n",
        "      print('Epoch {} Batch {} Loss {:.4f}'.format(epoch + 1,\n",
        "                                                   batch,\n",
        "                                                   batch_loss.numpy()))\n",
        "  # saving (checkpoint) the model every 2 epochs\n",
        "  if (epoch + 1) % 2 == 0:\n",
        "    checkpoint.save(file_prefix = checkpoint_prefix)\n",
        "\n",
        "  print('Epoch {} Loss {:.4f}'.format(epoch + 1,\n",
        "                                      total_loss / steps_per_epoch))\n",
        "  print('Time taken for 1 epoch {} sec\\n'.format(time.time() - start))"
      ],
      "execution_count": 28,
      "outputs": [
        {
          "output_type": "stream",
          "name": "stdout",
          "text": [
            "Epoch 1 Batch 0 Loss 4.5419\n",
            "Epoch 1 Batch 100 Loss 2.0290\n",
            "Epoch 1 Batch 200 Loss 1.8614\n",
            "Epoch 1 Batch 300 Loss 1.6100\n",
            "Epoch 1 Batch 400 Loss 1.4243\n",
            "Epoch 1 Batch 500 Loss 1.4919\n",
            "Epoch 1 Batch 600 Loss 1.2745\n",
            "Epoch 1 Batch 700 Loss 1.2831\n",
            "Epoch 1 Batch 800 Loss 1.2645\n",
            "Epoch 1 Batch 900 Loss 1.1379\n",
            "Epoch 1 Batch 1000 Loss 1.0514\n",
            "Epoch 1 Batch 1100 Loss 1.0099\n",
            "Epoch 1 Batch 1200 Loss 1.1011\n",
            "Epoch 1 Loss 1.4388\n",
            "Time taken for 1 epoch 78.33870434761047 sec\n",
            "\n",
            "Epoch 2 Batch 0 Loss 0.8855\n",
            "Epoch 2 Batch 100 Loss 0.7657\n",
            "Epoch 2 Batch 200 Loss 0.9346\n",
            "Epoch 2 Batch 300 Loss 0.8371\n",
            "Epoch 2 Batch 400 Loss 0.7878\n",
            "Epoch 2 Batch 500 Loss 0.8521\n",
            "Epoch 2 Batch 600 Loss 0.7709\n",
            "Epoch 2 Batch 700 Loss 0.7206\n",
            "Epoch 2 Batch 800 Loss 0.5993\n",
            "Epoch 2 Batch 900 Loss 0.6822\n",
            "Epoch 2 Batch 1000 Loss 0.6694\n",
            "Epoch 2 Batch 1100 Loss 0.5607\n",
            "Epoch 2 Batch 1200 Loss 0.5880\n",
            "Epoch 2 Loss 0.7633\n",
            "Time taken for 1 epoch 55.35530662536621 sec\n",
            "\n",
            "Epoch 3 Batch 0 Loss 0.4663\n",
            "Epoch 3 Batch 100 Loss 0.4741\n",
            "Epoch 3 Batch 200 Loss 0.4543\n",
            "Epoch 3 Batch 300 Loss 0.4803\n",
            "Epoch 3 Batch 400 Loss 0.4422\n",
            "Epoch 3 Batch 500 Loss 0.3615\n",
            "Epoch 3 Batch 600 Loss 0.4985\n",
            "Epoch 3 Batch 700 Loss 0.4919\n",
            "Epoch 3 Batch 800 Loss 0.4675\n",
            "Epoch 3 Batch 900 Loss 0.4600\n",
            "Epoch 3 Batch 1000 Loss 0.4398\n",
            "Epoch 3 Batch 1100 Loss 0.3876\n",
            "Epoch 3 Batch 1200 Loss 0.4104\n",
            "Epoch 3 Loss 0.4317\n",
            "Time taken for 1 epoch 54.208287715911865 sec\n",
            "\n",
            "Epoch 4 Batch 0 Loss 0.2588\n",
            "Epoch 4 Batch 100 Loss 0.3091\n",
            "Epoch 4 Batch 200 Loss 0.2453\n",
            "Epoch 4 Batch 300 Loss 0.2428\n",
            "Epoch 4 Batch 400 Loss 0.2981\n",
            "Epoch 4 Batch 500 Loss 0.2839\n",
            "Epoch 4 Batch 600 Loss 0.2736\n",
            "Epoch 4 Batch 700 Loss 0.2230\n",
            "Epoch 4 Batch 800 Loss 0.2729\n",
            "Epoch 4 Batch 900 Loss 0.3320\n",
            "Epoch 4 Batch 1000 Loss 0.2305\n",
            "Epoch 4 Batch 1100 Loss 0.2697\n",
            "Epoch 4 Batch 1200 Loss 0.2678\n",
            "Epoch 4 Loss 0.2579\n",
            "Time taken for 1 epoch 55.4142279624939 sec\n",
            "\n",
            "Epoch 5 Batch 0 Loss 0.2055\n",
            "Epoch 5 Batch 100 Loss 0.1539\n",
            "Epoch 5 Batch 200 Loss 0.1786\n",
            "Epoch 5 Batch 300 Loss 0.1245\n",
            "Epoch 5 Batch 400 Loss 0.1920\n",
            "Epoch 5 Batch 500 Loss 0.1425\n",
            "Epoch 5 Batch 600 Loss 0.1576\n",
            "Epoch 5 Batch 700 Loss 0.1763\n",
            "Epoch 5 Batch 800 Loss 0.1841\n",
            "Epoch 5 Batch 900 Loss 0.2008\n",
            "Epoch 5 Batch 1000 Loss 0.1673\n",
            "Epoch 5 Batch 1100 Loss 0.1774\n",
            "Epoch 5 Batch 1200 Loss 0.2408\n",
            "Epoch 5 Loss 0.1726\n",
            "Time taken for 1 epoch 54.55666899681091 sec\n",
            "\n",
            "Epoch 6 Batch 0 Loss 0.1325\n",
            "Epoch 6 Batch 100 Loss 0.0955\n",
            "Epoch 6 Batch 200 Loss 0.1574\n",
            "Epoch 6 Batch 300 Loss 0.1654\n",
            "Epoch 6 Batch 400 Loss 0.1197\n",
            "Epoch 6 Batch 500 Loss 0.1185\n",
            "Epoch 6 Batch 600 Loss 0.1065\n",
            "Epoch 6 Batch 700 Loss 0.1468\n",
            "Epoch 6 Batch 800 Loss 0.1078\n",
            "Epoch 6 Batch 900 Loss 0.1591\n",
            "Epoch 6 Batch 1000 Loss 0.1439\n",
            "Epoch 6 Batch 1100 Loss 0.1339\n",
            "Epoch 6 Batch 1200 Loss 0.1447\n",
            "Epoch 6 Loss 0.1300\n",
            "Time taken for 1 epoch 54.77925491333008 sec\n",
            "\n",
            "Epoch 7 Batch 0 Loss 0.0679\n",
            "Epoch 7 Batch 100 Loss 0.0656\n",
            "Epoch 7 Batch 200 Loss 0.0916\n",
            "Epoch 7 Batch 300 Loss 0.0793\n",
            "Epoch 7 Batch 400 Loss 0.0878\n",
            "Epoch 7 Batch 500 Loss 0.1108\n",
            "Epoch 7 Batch 600 Loss 0.1038\n",
            "Epoch 7 Batch 700 Loss 0.0860\n",
            "Epoch 7 Batch 800 Loss 0.0773\n",
            "Epoch 7 Batch 900 Loss 0.1125\n",
            "Epoch 7 Batch 1000 Loss 0.1092\n",
            "Epoch 7 Batch 1100 Loss 0.1183\n",
            "Epoch 7 Batch 1200 Loss 0.0979\n",
            "Epoch 7 Loss 0.1076\n",
            "Time taken for 1 epoch 54.51470184326172 sec\n",
            "\n",
            "Epoch 8 Batch 0 Loss 0.0811\n",
            "Epoch 8 Batch 100 Loss 0.0720\n",
            "Epoch 8 Batch 200 Loss 0.0853\n",
            "Epoch 8 Batch 300 Loss 0.0726\n",
            "Epoch 8 Batch 400 Loss 0.0507\n",
            "Epoch 8 Batch 500 Loss 0.1038\n",
            "Epoch 8 Batch 600 Loss 0.1830\n",
            "Epoch 8 Batch 700 Loss 0.0982\n",
            "Epoch 8 Batch 800 Loss 0.1025\n",
            "Epoch 8 Batch 900 Loss 0.0926\n",
            "Epoch 8 Batch 1000 Loss 0.1127\n",
            "Epoch 8 Batch 1100 Loss 0.0807\n",
            "Epoch 8 Batch 1200 Loss 0.0990\n",
            "Epoch 8 Loss 0.0949\n",
            "Time taken for 1 epoch 59.811771392822266 sec\n",
            "\n",
            "Epoch 9 Batch 0 Loss 0.0708\n",
            "Epoch 9 Batch 100 Loss 0.0518\n",
            "Epoch 9 Batch 200 Loss 0.0887\n",
            "Epoch 9 Batch 300 Loss 0.1082\n",
            "Epoch 9 Batch 400 Loss 0.0758\n",
            "Epoch 9 Batch 500 Loss 0.0581\n",
            "Epoch 9 Batch 600 Loss 0.1028\n",
            "Epoch 9 Batch 700 Loss 0.0843\n",
            "Epoch 9 Batch 800 Loss 0.1006\n",
            "Epoch 9 Batch 900 Loss 0.1023\n",
            "Epoch 9 Batch 1000 Loss 0.1039\n",
            "Epoch 9 Batch 1100 Loss 0.1188\n",
            "Epoch 9 Batch 1200 Loss 0.1060\n",
            "Epoch 9 Loss 0.0864\n",
            "Time taken for 1 epoch 54.176673889160156 sec\n",
            "\n",
            "Epoch 10 Batch 0 Loss 0.0527\n",
            "Epoch 10 Batch 100 Loss 0.0848\n",
            "Epoch 10 Batch 200 Loss 0.0760\n",
            "Epoch 10 Batch 300 Loss 0.0518\n",
            "Epoch 10 Batch 400 Loss 0.0769\n",
            "Epoch 10 Batch 500 Loss 0.0743\n",
            "Epoch 10 Batch 600 Loss 0.0435\n",
            "Epoch 10 Batch 700 Loss 0.1055\n",
            "Epoch 10 Batch 800 Loss 0.1055\n",
            "Epoch 10 Batch 900 Loss 0.0912\n",
            "Epoch 10 Batch 1000 Loss 0.0753\n",
            "Epoch 10 Batch 1100 Loss 0.1235\n",
            "Epoch 10 Batch 1200 Loss 0.0969\n",
            "Epoch 10 Loss 0.0810\n",
            "Time taken for 1 epoch 59.742000341415405 sec\n",
            "\n",
            "Epoch 11 Batch 0 Loss 0.0580\n",
            "Epoch 11 Batch 100 Loss 0.0573\n",
            "Epoch 11 Batch 200 Loss 0.0439\n",
            "Epoch 11 Batch 300 Loss 0.0573\n",
            "Epoch 11 Batch 400 Loss 0.0988\n",
            "Epoch 11 Batch 500 Loss 0.0668\n",
            "Epoch 11 Batch 600 Loss 0.0874\n",
            "Epoch 11 Batch 700 Loss 0.0714\n",
            "Epoch 11 Batch 800 Loss 0.0476\n",
            "Epoch 11 Batch 900 Loss 0.0623\n",
            "Epoch 11 Batch 1000 Loss 0.1114\n",
            "Epoch 11 Batch 1100 Loss 0.1091\n",
            "Epoch 11 Batch 1200 Loss 0.0636\n",
            "Epoch 11 Loss 0.0773\n",
            "Time taken for 1 epoch 54.37890386581421 sec\n",
            "\n",
            "Epoch 12 Batch 0 Loss 0.0428\n",
            "Epoch 12 Batch 100 Loss 0.0559\n",
            "Epoch 12 Batch 200 Loss 0.0756\n",
            "Epoch 12 Batch 300 Loss 0.0668\n",
            "Epoch 12 Batch 400 Loss 0.0426\n",
            "Epoch 12 Batch 500 Loss 0.0693\n",
            "Epoch 12 Batch 600 Loss 0.0915\n",
            "Epoch 12 Batch 700 Loss 0.0519\n",
            "Epoch 12 Batch 800 Loss 0.0807\n",
            "Epoch 12 Batch 900 Loss 0.0958\n",
            "Epoch 12 Batch 1000 Loss 0.0992\n",
            "Epoch 12 Batch 1100 Loss 0.0590\n",
            "Epoch 12 Batch 1200 Loss 0.1018\n",
            "Epoch 12 Loss 0.0734\n",
            "Time taken for 1 epoch 59.78583765029907 sec\n",
            "\n",
            "Epoch 13 Batch 0 Loss 0.0486\n",
            "Epoch 13 Batch 100 Loss 0.0766\n",
            "Epoch 13 Batch 200 Loss 0.0654\n",
            "Epoch 13 Batch 300 Loss 0.0994\n",
            "Epoch 13 Batch 400 Loss 0.0499\n",
            "Epoch 13 Batch 500 Loss 0.0575\n",
            "Epoch 13 Batch 600 Loss 0.0777\n",
            "Epoch 13 Batch 700 Loss 0.0780\n",
            "Epoch 13 Batch 800 Loss 0.0842\n",
            "Epoch 13 Batch 900 Loss 0.1029\n",
            "Epoch 13 Batch 1000 Loss 0.1090\n",
            "Epoch 13 Batch 1100 Loss 0.0714\n",
            "Epoch 13 Batch 1200 Loss 0.1035\n",
            "Epoch 13 Loss 0.0712\n",
            "Time taken for 1 epoch 54.192155838012695 sec\n",
            "\n",
            "Epoch 14 Batch 0 Loss 0.0297\n",
            "Epoch 14 Batch 100 Loss 0.0679\n",
            "Epoch 14 Batch 200 Loss 0.0418\n",
            "Epoch 14 Batch 300 Loss 0.0872\n",
            "Epoch 14 Batch 400 Loss 0.0735\n",
            "Epoch 14 Batch 500 Loss 0.0441\n",
            "Epoch 14 Batch 600 Loss 0.0920\n",
            "Epoch 14 Batch 700 Loss 0.0458\n",
            "Epoch 14 Batch 800 Loss 0.0508\n",
            "Epoch 14 Batch 900 Loss 0.0904\n",
            "Epoch 14 Batch 1000 Loss 0.0751\n",
            "Epoch 14 Batch 1100 Loss 0.1387\n",
            "Epoch 14 Batch 1200 Loss 0.0465\n",
            "Epoch 14 Loss 0.0688\n",
            "Time taken for 1 epoch 60.015300989151 sec\n",
            "\n",
            "Epoch 15 Batch 0 Loss 0.1437\n",
            "Epoch 15 Batch 100 Loss 0.0543\n",
            "Epoch 15 Batch 200 Loss 0.0364\n",
            "Epoch 15 Batch 300 Loss 0.0760\n",
            "Epoch 15 Batch 400 Loss 0.0465\n",
            "Epoch 15 Batch 500 Loss 0.0730\n",
            "Epoch 15 Batch 600 Loss 0.0538\n",
            "Epoch 15 Batch 700 Loss 0.0845\n",
            "Epoch 15 Batch 800 Loss 0.0934\n",
            "Epoch 15 Batch 900 Loss 0.0679\n",
            "Epoch 15 Batch 1000 Loss 0.0760\n",
            "Epoch 15 Batch 1100 Loss 0.0479\n",
            "Epoch 15 Batch 1200 Loss 0.0514\n",
            "Epoch 15 Loss 0.0669\n",
            "Time taken for 1 epoch 54.44589018821716 sec\n",
            "\n",
            "Epoch 16 Batch 0 Loss 0.0391\n",
            "Epoch 16 Batch 100 Loss 0.0717\n",
            "Epoch 16 Batch 200 Loss 0.0697\n",
            "Epoch 16 Batch 300 Loss 0.1171\n",
            "Epoch 16 Batch 400 Loss 0.0971\n",
            "Epoch 16 Batch 500 Loss 0.0587\n",
            "Epoch 16 Batch 600 Loss 0.0790\n",
            "Epoch 16 Batch 700 Loss 0.0349\n",
            "Epoch 16 Batch 800 Loss 0.0556\n",
            "Epoch 16 Batch 900 Loss 0.0411\n",
            "Epoch 16 Batch 1000 Loss 0.0553\n",
            "Epoch 16 Batch 1100 Loss 0.0539\n",
            "Epoch 16 Batch 1200 Loss 0.0783\n",
            "Epoch 16 Loss 0.0652\n",
            "Time taken for 1 epoch 56.53904604911804 sec\n",
            "\n",
            "Epoch 17 Batch 0 Loss 0.0660\n",
            "Epoch 17 Batch 100 Loss 0.0540\n",
            "Epoch 17 Batch 200 Loss 0.0242\n",
            "Epoch 17 Batch 300 Loss 0.0528\n",
            "Epoch 17 Batch 400 Loss 0.0345\n",
            "Epoch 17 Batch 500 Loss 0.0552\n",
            "Epoch 17 Batch 600 Loss 0.0602\n",
            "Epoch 17 Batch 700 Loss 0.0530\n",
            "Epoch 17 Batch 800 Loss 0.1103\n",
            "Epoch 17 Batch 900 Loss 0.0508\n",
            "Epoch 17 Batch 1000 Loss 0.0814\n",
            "Epoch 17 Batch 1100 Loss 0.0872\n",
            "Epoch 17 Batch 1200 Loss 0.0639\n",
            "Epoch 17 Loss 0.0633\n",
            "Time taken for 1 epoch 54.11992955207825 sec\n",
            "\n",
            "Epoch 18 Batch 0 Loss 0.1057\n",
            "Epoch 18 Batch 100 Loss 0.0526\n",
            "Epoch 18 Batch 200 Loss 0.0568\n",
            "Epoch 18 Batch 300 Loss 0.0328\n",
            "Epoch 18 Batch 400 Loss 0.0395\n",
            "Epoch 18 Batch 500 Loss 0.0468\n",
            "Epoch 18 Batch 600 Loss 0.0669\n",
            "Epoch 18 Batch 700 Loss 0.0554\n",
            "Epoch 18 Batch 800 Loss 0.0733\n",
            "Epoch 18 Batch 900 Loss 0.0778\n",
            "Epoch 18 Batch 1000 Loss 0.0782\n",
            "Epoch 18 Batch 1100 Loss 0.0628\n",
            "Epoch 18 Batch 1200 Loss 0.0367\n",
            "Epoch 18 Loss 0.0621\n",
            "Time taken for 1 epoch 59.78307819366455 sec\n",
            "\n",
            "Epoch 19 Batch 0 Loss 0.0722\n",
            "Epoch 19 Batch 100 Loss 0.0510\n",
            "Epoch 19 Batch 200 Loss 0.0385\n",
            "Epoch 19 Batch 300 Loss 0.0581\n",
            "Epoch 19 Batch 400 Loss 0.0444\n",
            "Epoch 19 Batch 500 Loss 0.0502\n",
            "Epoch 19 Batch 600 Loss 0.0508\n",
            "Epoch 19 Batch 700 Loss 0.0753\n",
            "Epoch 19 Batch 800 Loss 0.1095\n",
            "Epoch 19 Batch 900 Loss 0.0651\n",
            "Epoch 19 Batch 1000 Loss 0.0507\n",
            "Epoch 19 Batch 1100 Loss 0.0860\n",
            "Epoch 19 Batch 1200 Loss 0.0488\n",
            "Epoch 19 Loss 0.0604\n",
            "Time taken for 1 epoch 54.19879770278931 sec\n",
            "\n",
            "Epoch 20 Batch 0 Loss 0.0608\n",
            "Epoch 20 Batch 100 Loss 0.0431\n",
            "Epoch 20 Batch 200 Loss 0.0360\n",
            "Epoch 20 Batch 300 Loss 0.0196\n",
            "Epoch 20 Batch 400 Loss 0.0363\n",
            "Epoch 20 Batch 500 Loss 0.0771\n",
            "Epoch 20 Batch 600 Loss 0.0981\n",
            "Epoch 20 Batch 700 Loss 0.0664\n",
            "Epoch 20 Batch 800 Loss 0.0767\n",
            "Epoch 20 Batch 900 Loss 0.0534\n",
            "Epoch 20 Batch 1000 Loss 0.0302\n",
            "Epoch 20 Batch 1100 Loss 0.0721\n",
            "Epoch 20 Batch 1200 Loss 0.0606\n",
            "Epoch 20 Loss 0.0598\n",
            "Time taken for 1 epoch 59.674540519714355 sec\n",
            "\n",
            "Epoch 21 Batch 0 Loss 0.0478\n",
            "Epoch 21 Batch 100 Loss 0.0371\n",
            "Epoch 21 Batch 200 Loss 0.0978\n",
            "Epoch 21 Batch 300 Loss 0.0585\n",
            "Epoch 21 Batch 400 Loss 0.0245\n",
            "Epoch 21 Batch 500 Loss 0.0586\n",
            "Epoch 21 Batch 600 Loss 0.0525\n",
            "Epoch 21 Batch 700 Loss 0.0786\n",
            "Epoch 21 Batch 800 Loss 0.0535\n",
            "Epoch 21 Batch 900 Loss 0.1129\n",
            "Epoch 21 Batch 1000 Loss 0.0882\n",
            "Epoch 21 Batch 1100 Loss 0.0847\n",
            "Epoch 21 Batch 1200 Loss 0.1110\n",
            "Epoch 21 Loss 0.0583\n",
            "Time taken for 1 epoch 54.387734174728394 sec\n",
            "\n",
            "Epoch 22 Batch 0 Loss 0.0328\n",
            "Epoch 22 Batch 100 Loss 0.0376\n",
            "Epoch 22 Batch 200 Loss 0.0856\n",
            "Epoch 22 Batch 300 Loss 0.0424\n",
            "Epoch 22 Batch 400 Loss 0.0562\n",
            "Epoch 22 Batch 500 Loss 0.0347\n",
            "Epoch 22 Batch 600 Loss 0.0729\n",
            "Epoch 22 Batch 700 Loss 0.0844\n",
            "Epoch 22 Batch 800 Loss 0.0437\n",
            "Epoch 22 Batch 900 Loss 0.0477\n",
            "Epoch 22 Batch 1000 Loss 0.0753\n",
            "Epoch 22 Batch 1100 Loss 0.0780\n",
            "Epoch 22 Batch 1200 Loss 0.0596\n",
            "Epoch 22 Loss 0.0574\n",
            "Time taken for 1 epoch 55.039820432662964 sec\n",
            "\n",
            "Epoch 23 Batch 0 Loss 0.0336\n",
            "Epoch 23 Batch 100 Loss 0.0696\n",
            "Epoch 23 Batch 200 Loss 0.0345\n",
            "Epoch 23 Batch 300 Loss 0.0426\n",
            "Epoch 23 Batch 400 Loss 0.0551\n",
            "Epoch 23 Batch 500 Loss 0.0529\n",
            "Epoch 23 Batch 600 Loss 0.0519\n",
            "Epoch 23 Batch 700 Loss 0.0402\n",
            "Epoch 23 Batch 800 Loss 0.0420\n",
            "Epoch 23 Batch 900 Loss 0.0634\n",
            "Epoch 23 Batch 1000 Loss 0.0437\n",
            "Epoch 23 Batch 1100 Loss 0.0698\n",
            "Epoch 23 Batch 1200 Loss 0.0526\n",
            "Epoch 23 Loss 0.0557\n",
            "Time taken for 1 epoch 54.0018150806427 sec\n",
            "\n",
            "Epoch 24 Batch 0 Loss 0.0226\n",
            "Epoch 24 Batch 100 Loss 0.0504\n",
            "Epoch 24 Batch 200 Loss 0.0666\n",
            "Epoch 24 Batch 300 Loss 0.0342\n",
            "Epoch 24 Batch 400 Loss 0.0610\n",
            "Epoch 24 Batch 500 Loss 0.0304\n",
            "Epoch 24 Batch 600 Loss 0.0580\n",
            "Epoch 24 Batch 700 Loss 0.0566\n",
            "Epoch 24 Batch 800 Loss 0.0576\n",
            "Epoch 24 Batch 900 Loss 0.0619\n",
            "Epoch 24 Batch 1000 Loss 0.0561\n",
            "Epoch 24 Batch 1100 Loss 0.0671\n",
            "Epoch 24 Batch 1200 Loss 0.0500\n",
            "Epoch 24 Loss 0.0552\n",
            "Time taken for 1 epoch 56.35740923881531 sec\n",
            "\n",
            "Epoch 25 Batch 0 Loss 0.0515\n",
            "Epoch 25 Batch 100 Loss 0.0402\n",
            "Epoch 25 Batch 200 Loss 0.0373\n",
            "Epoch 25 Batch 300 Loss 0.0378\n",
            "Epoch 25 Batch 400 Loss 0.0522\n",
            "Epoch 25 Batch 500 Loss 0.0527\n",
            "Epoch 25 Batch 600 Loss 0.0979\n",
            "Epoch 25 Batch 700 Loss 0.0827\n",
            "Epoch 25 Batch 800 Loss 0.0679\n",
            "Epoch 25 Batch 900 Loss 0.0555\n",
            "Epoch 25 Batch 1000 Loss 0.0453\n",
            "Epoch 25 Batch 1100 Loss 0.0520\n",
            "Epoch 25 Batch 1200 Loss 0.0442\n",
            "Epoch 25 Loss 0.0545\n",
            "Time taken for 1 epoch 54.10309672355652 sec\n",
            "\n",
            "Epoch 26 Batch 0 Loss 0.0792\n",
            "Epoch 26 Batch 100 Loss 0.0400\n",
            "Epoch 26 Batch 200 Loss 0.0374\n",
            "Epoch 26 Batch 300 Loss 0.0313\n",
            "Epoch 26 Batch 400 Loss 0.0407\n",
            "Epoch 26 Batch 500 Loss 0.0363\n",
            "Epoch 26 Batch 600 Loss 0.0420\n",
            "Epoch 26 Batch 700 Loss 0.0567\n",
            "Epoch 26 Batch 800 Loss 0.0319\n",
            "Epoch 26 Batch 900 Loss 0.0569\n",
            "Epoch 26 Batch 1000 Loss 0.1073\n",
            "Epoch 26 Batch 1100 Loss 0.0559\n",
            "Epoch 26 Batch 1200 Loss 0.0632\n",
            "Epoch 26 Loss 0.0537\n",
            "Time taken for 1 epoch 54.76416063308716 sec\n",
            "\n",
            "Epoch 27 Batch 0 Loss 0.0583\n",
            "Epoch 27 Batch 100 Loss 0.0415\n",
            "Epoch 27 Batch 200 Loss 0.0323\n",
            "Epoch 27 Batch 300 Loss 0.0375\n",
            "Epoch 27 Batch 400 Loss 0.0507\n",
            "Epoch 27 Batch 500 Loss 0.0981\n",
            "Epoch 27 Batch 600 Loss 0.0285\n",
            "Epoch 27 Batch 700 Loss 0.0513\n",
            "Epoch 27 Batch 800 Loss 0.0331\n",
            "Epoch 27 Batch 900 Loss 0.0510\n",
            "Epoch 27 Batch 1000 Loss 0.1099\n",
            "Epoch 27 Batch 1100 Loss 0.0708\n",
            "Epoch 27 Batch 1200 Loss 0.0581\n",
            "Epoch 27 Loss 0.0528\n",
            "Time taken for 1 epoch 53.93864703178406 sec\n",
            "\n",
            "Epoch 28 Batch 0 Loss 0.0509\n",
            "Epoch 28 Batch 100 Loss 0.0442\n",
            "Epoch 28 Batch 200 Loss 0.0398\n",
            "Epoch 28 Batch 300 Loss 0.0645\n",
            "Epoch 28 Batch 400 Loss 0.0539\n",
            "Epoch 28 Batch 500 Loss 0.0444\n",
            "Epoch 28 Batch 600 Loss 0.0406\n",
            "Epoch 28 Batch 700 Loss 0.0508\n",
            "Epoch 28 Batch 800 Loss 0.0371\n",
            "Epoch 28 Batch 900 Loss 0.0617\n",
            "Epoch 28 Batch 1000 Loss 0.0358\n",
            "Epoch 28 Batch 1100 Loss 0.0338\n",
            "Epoch 28 Batch 1200 Loss 0.0261\n",
            "Epoch 28 Loss 0.0521\n",
            "Time taken for 1 epoch 59.615310192108154 sec\n",
            "\n",
            "Epoch 29 Batch 0 Loss 0.0253\n",
            "Epoch 29 Batch 100 Loss 0.0352\n",
            "Epoch 29 Batch 200 Loss 0.0369\n",
            "Epoch 29 Batch 300 Loss 0.0301\n",
            "Epoch 29 Batch 400 Loss 0.0491\n",
            "Epoch 29 Batch 500 Loss 0.0665\n",
            "Epoch 29 Batch 600 Loss 0.0423\n",
            "Epoch 29 Batch 700 Loss 0.0599\n",
            "Epoch 29 Batch 800 Loss 0.0451\n",
            "Epoch 29 Batch 900 Loss 0.0648\n",
            "Epoch 29 Batch 1000 Loss 0.0464\n",
            "Epoch 29 Batch 1100 Loss 0.0471\n",
            "Epoch 29 Batch 1200 Loss 0.0669\n",
            "Epoch 29 Loss 0.0505\n",
            "Time taken for 1 epoch 54.09651160240173 sec\n",
            "\n",
            "Epoch 30 Batch 0 Loss 0.0349\n",
            "Epoch 30 Batch 100 Loss 0.0368\n",
            "Epoch 30 Batch 200 Loss 0.0561\n",
            "Epoch 30 Batch 300 Loss 0.0758\n",
            "Epoch 30 Batch 400 Loss 0.0430\n",
            "Epoch 30 Batch 500 Loss 0.0541\n",
            "Epoch 30 Batch 600 Loss 0.0337\n",
            "Epoch 30 Batch 700 Loss 0.0630\n",
            "Epoch 30 Batch 800 Loss 0.0358\n",
            "Epoch 30 Batch 900 Loss 0.0653\n",
            "Epoch 30 Batch 1000 Loss 0.0538\n",
            "Epoch 30 Batch 1100 Loss 0.0779\n",
            "Epoch 30 Batch 1200 Loss 0.0423\n",
            "Epoch 30 Loss 0.0504\n",
            "Time taken for 1 epoch 55.93112111091614 sec\n",
            "\n",
            "Epoch 31 Batch 0 Loss 0.0179\n",
            "Epoch 31 Batch 100 Loss 0.0420\n",
            "Epoch 31 Batch 200 Loss 0.0305\n",
            "Epoch 31 Batch 300 Loss 0.0246\n",
            "Epoch 31 Batch 400 Loss 0.0207\n",
            "Epoch 31 Batch 500 Loss 0.0487\n",
            "Epoch 31 Batch 600 Loss 0.0320\n",
            "Epoch 31 Batch 700 Loss 0.0297\n",
            "Epoch 31 Batch 800 Loss 0.0560\n",
            "Epoch 31 Batch 900 Loss 0.0429\n",
            "Epoch 31 Batch 1000 Loss 0.0554\n",
            "Epoch 31 Batch 1100 Loss 0.0459\n",
            "Epoch 31 Batch 1200 Loss 0.0588\n",
            "Epoch 31 Loss 0.0491\n",
            "Time taken for 1 epoch 54.082791805267334 sec\n",
            "\n",
            "Epoch 32 Batch 0 Loss 0.0308\n",
            "Epoch 32 Batch 100 Loss 0.0162\n",
            "Epoch 32 Batch 200 Loss 0.0397\n",
            "Epoch 32 Batch 300 Loss 0.0485\n",
            "Epoch 32 Batch 400 Loss 0.0544\n",
            "Epoch 32 Batch 500 Loss 0.0518\n",
            "Epoch 32 Batch 600 Loss 0.0479\n",
            "Epoch 32 Batch 700 Loss 0.0531\n",
            "Epoch 32 Batch 800 Loss 0.0478\n",
            "Epoch 32 Batch 900 Loss 0.0444\n",
            "Epoch 32 Batch 1000 Loss 0.0526\n",
            "Epoch 32 Batch 1100 Loss 0.0513\n",
            "Epoch 32 Batch 1200 Loss 0.0534\n",
            "Epoch 32 Loss 0.0494\n",
            "Time taken for 1 epoch 54.667192220687866 sec\n",
            "\n",
            "Epoch 33 Batch 0 Loss 0.0381\n",
            "Epoch 33 Batch 100 Loss 0.0263\n",
            "Epoch 33 Batch 200 Loss 0.0366\n",
            "Epoch 33 Batch 300 Loss 0.0440\n",
            "Epoch 33 Batch 400 Loss 0.0235\n",
            "Epoch 33 Batch 500 Loss 0.0267\n",
            "Epoch 33 Batch 600 Loss 0.0725\n",
            "Epoch 33 Batch 700 Loss 0.0629\n",
            "Epoch 33 Batch 800 Loss 0.0717\n",
            "Epoch 33 Batch 900 Loss 0.0396\n",
            "Epoch 33 Batch 1000 Loss 0.0551\n",
            "Epoch 33 Batch 1100 Loss 0.1019\n",
            "Epoch 33 Batch 1200 Loss 0.0518\n",
            "Epoch 33 Loss 0.0481\n",
            "Time taken for 1 epoch 53.98923969268799 sec\n",
            "\n",
            "Epoch 34 Batch 0 Loss 0.0251\n",
            "Epoch 34 Batch 100 Loss 0.0370\n",
            "Epoch 34 Batch 200 Loss 0.0499\n",
            "Epoch 34 Batch 300 Loss 0.0455\n",
            "Epoch 34 Batch 400 Loss 0.0435\n",
            "Epoch 34 Batch 500 Loss 0.0215\n",
            "Epoch 34 Batch 600 Loss 0.0627\n",
            "Epoch 34 Batch 700 Loss 0.0715\n",
            "Epoch 34 Batch 800 Loss 0.0312\n",
            "Epoch 34 Batch 900 Loss 0.0544\n",
            "Epoch 34 Batch 1000 Loss 0.0500\n",
            "Epoch 34 Batch 1100 Loss 0.0504\n",
            "Epoch 34 Batch 1200 Loss 0.0593\n",
            "Epoch 34 Loss 0.0479\n",
            "Time taken for 1 epoch 59.922502756118774 sec\n",
            "\n",
            "Epoch 35 Batch 0 Loss 0.0416\n",
            "Epoch 35 Batch 100 Loss 0.0418\n",
            "Epoch 35 Batch 200 Loss 0.0340\n",
            "Epoch 35 Batch 300 Loss 0.0396\n",
            "Epoch 35 Batch 400 Loss 0.0409\n",
            "Epoch 35 Batch 500 Loss 0.0492\n",
            "Epoch 35 Batch 600 Loss 0.0467\n",
            "Epoch 35 Batch 700 Loss 0.0629\n",
            "Epoch 35 Batch 800 Loss 0.0646\n",
            "Epoch 35 Batch 900 Loss 0.0641\n",
            "Epoch 35 Batch 1000 Loss 0.0727\n",
            "Epoch 35 Batch 1100 Loss 0.0462\n",
            "Epoch 35 Batch 1200 Loss 0.0647\n",
            "Epoch 35 Loss 0.0469\n",
            "Time taken for 1 epoch 54.23481225967407 sec\n",
            "\n",
            "Epoch 36 Batch 0 Loss 0.0656\n",
            "Epoch 36 Batch 100 Loss 0.0541\n",
            "Epoch 36 Batch 200 Loss 0.0443\n",
            "Epoch 36 Batch 300 Loss 0.0688\n",
            "Epoch 36 Batch 400 Loss 0.0297\n",
            "Epoch 36 Batch 500 Loss 0.0275\n",
            "Epoch 36 Batch 600 Loss 0.0441\n",
            "Epoch 36 Batch 700 Loss 0.0537\n",
            "Epoch 36 Batch 800 Loss 0.0687\n",
            "Epoch 36 Batch 900 Loss 0.0669\n",
            "Epoch 36 Batch 1000 Loss 0.0784\n",
            "Epoch 36 Batch 1100 Loss 0.0933\n",
            "Epoch 36 Batch 1200 Loss 0.0501\n",
            "Epoch 36 Loss 0.0469\n",
            "Time taken for 1 epoch 59.6942503452301 sec\n",
            "\n",
            "Epoch 37 Batch 0 Loss 0.0294\n",
            "Epoch 37 Batch 100 Loss 0.0376\n",
            "Epoch 37 Batch 200 Loss 0.0446\n",
            "Epoch 37 Batch 300 Loss 0.0282\n",
            "Epoch 37 Batch 400 Loss 0.0458\n",
            "Epoch 37 Batch 500 Loss 0.0621\n",
            "Epoch 37 Batch 600 Loss 0.0469\n",
            "Epoch 37 Batch 700 Loss 0.0485\n",
            "Epoch 37 Batch 800 Loss 0.0647\n",
            "Epoch 37 Batch 900 Loss 0.0518\n",
            "Epoch 37 Batch 1000 Loss 0.0601\n",
            "Epoch 37 Batch 1100 Loss 0.0524\n",
            "Epoch 37 Batch 1200 Loss 0.0774\n",
            "Epoch 37 Loss 0.0459\n",
            "Time taken for 1 epoch 54.33462858200073 sec\n",
            "\n",
            "Epoch 38 Batch 0 Loss 0.0368\n",
            "Epoch 38 Batch 100 Loss 0.0445\n",
            "Epoch 38 Batch 200 Loss 0.0361\n",
            "Epoch 38 Batch 300 Loss 0.0455\n",
            "Epoch 38 Batch 400 Loss 0.0232\n",
            "Epoch 38 Batch 500 Loss 0.0401\n",
            "Epoch 38 Batch 600 Loss 0.0357\n",
            "Epoch 38 Batch 700 Loss 0.0253\n",
            "Epoch 38 Batch 800 Loss 0.0658\n",
            "Epoch 38 Batch 900 Loss 0.0373\n",
            "Epoch 38 Batch 1000 Loss 0.0409\n",
            "Epoch 38 Batch 1100 Loss 0.0353\n",
            "Epoch 38 Batch 1200 Loss 0.0600\n",
            "Epoch 38 Loss 0.0455\n",
            "Time taken for 1 epoch 56.665361166000366 sec\n",
            "\n",
            "Epoch 39 Batch 0 Loss 0.0359\n",
            "Epoch 39 Batch 100 Loss 0.0313\n",
            "Epoch 39 Batch 200 Loss 0.0782\n",
            "Epoch 39 Batch 300 Loss 0.0179\n",
            "Epoch 39 Batch 400 Loss 0.0383\n",
            "Epoch 39 Batch 500 Loss 0.0508\n",
            "Epoch 39 Batch 600 Loss 0.0370\n",
            "Epoch 39 Batch 700 Loss 0.0657\n",
            "Epoch 39 Batch 800 Loss 0.0518\n",
            "Epoch 39 Batch 900 Loss 0.0325\n",
            "Epoch 39 Batch 1000 Loss 0.0575\n",
            "Epoch 39 Batch 1100 Loss 0.0571\n",
            "Epoch 39 Batch 1200 Loss 0.0401\n",
            "Epoch 39 Loss 0.0450\n",
            "Time taken for 1 epoch 54.07473349571228 sec\n",
            "\n",
            "Epoch 40 Batch 0 Loss 0.0527\n",
            "Epoch 40 Batch 100 Loss 0.0196\n",
            "Epoch 40 Batch 200 Loss 0.0427\n",
            "Epoch 40 Batch 300 Loss 0.0393\n",
            "Epoch 40 Batch 400 Loss 0.0719\n",
            "Epoch 40 Batch 500 Loss 0.0321\n",
            "Epoch 40 Batch 600 Loss 0.0380\n",
            "Epoch 40 Batch 700 Loss 0.0495\n",
            "Epoch 40 Batch 800 Loss 0.0265\n",
            "Epoch 40 Batch 900 Loss 0.0579\n",
            "Epoch 40 Batch 1000 Loss 0.0447\n",
            "Epoch 40 Batch 1100 Loss 0.0484\n",
            "Epoch 40 Batch 1200 Loss 0.0313\n",
            "Epoch 40 Loss 0.0446\n",
            "Time taken for 1 epoch 59.77432990074158 sec\n",
            "\n",
            "Epoch 41 Batch 0 Loss 0.0356\n",
            "Epoch 41 Batch 100 Loss 0.0261\n",
            "Epoch 41 Batch 200 Loss 0.0441\n",
            "Epoch 41 Batch 300 Loss 0.0355\n",
            "Epoch 41 Batch 400 Loss 0.0583\n",
            "Epoch 41 Batch 500 Loss 0.0437\n",
            "Epoch 41 Batch 600 Loss 0.0332\n",
            "Epoch 41 Batch 700 Loss 0.0464\n",
            "Epoch 41 Batch 800 Loss 0.0366\n",
            "Epoch 41 Batch 900 Loss 0.0488\n",
            "Epoch 41 Batch 1000 Loss 0.0408\n",
            "Epoch 41 Batch 1100 Loss 0.0552\n",
            "Epoch 41 Batch 1200 Loss 0.0302\n",
            "Epoch 41 Loss 0.0443\n",
            "Time taken for 1 epoch 54.26477336883545 sec\n",
            "\n",
            "Epoch 42 Batch 0 Loss 0.0354\n",
            "Epoch 42 Batch 100 Loss 0.0324\n",
            "Epoch 42 Batch 200 Loss 0.0293\n",
            "Epoch 42 Batch 300 Loss 0.0436\n",
            "Epoch 42 Batch 400 Loss 0.0277\n",
            "Epoch 42 Batch 500 Loss 0.0697\n",
            "Epoch 42 Batch 600 Loss 0.0295\n",
            "Epoch 42 Batch 700 Loss 0.0603\n",
            "Epoch 42 Batch 800 Loss 0.0539\n",
            "Epoch 42 Batch 900 Loss 0.0432\n",
            "Epoch 42 Batch 1000 Loss 0.0563\n",
            "Epoch 42 Batch 1100 Loss 0.0662\n",
            "Epoch 42 Batch 1200 Loss 0.0526\n",
            "Epoch 42 Loss 0.0442\n",
            "Time taken for 1 epoch 54.98584008216858 sec\n",
            "\n",
            "Epoch 43 Batch 0 Loss 0.0297\n",
            "Epoch 43 Batch 100 Loss 0.0529\n",
            "Epoch 43 Batch 200 Loss 0.0490\n",
            "Epoch 43 Batch 300 Loss 0.0379\n",
            "Epoch 43 Batch 400 Loss 0.0189\n",
            "Epoch 43 Batch 500 Loss 0.0253\n",
            "Epoch 43 Batch 600 Loss 0.0548\n",
            "Epoch 43 Batch 700 Loss 0.0405\n",
            "Epoch 43 Batch 800 Loss 0.0429\n",
            "Epoch 43 Batch 900 Loss 0.0318\n",
            "Epoch 43 Batch 1000 Loss 0.0591\n",
            "Epoch 43 Batch 1100 Loss 0.0330\n",
            "Epoch 43 Batch 1200 Loss 0.0689\n",
            "Epoch 43 Loss 0.0437\n",
            "Time taken for 1 epoch 54.10215902328491 sec\n",
            "\n",
            "Epoch 44 Batch 0 Loss 0.0260\n",
            "Epoch 44 Batch 100 Loss 0.0421\n",
            "Epoch 44 Batch 200 Loss 0.0429\n",
            "Epoch 44 Batch 300 Loss 0.0294\n",
            "Epoch 44 Batch 400 Loss 0.0181\n",
            "Epoch 44 Batch 500 Loss 0.0728\n",
            "Epoch 44 Batch 600 Loss 0.0378\n",
            "Epoch 44 Batch 700 Loss 0.0483\n",
            "Epoch 44 Batch 800 Loss 0.0606\n",
            "Epoch 44 Batch 900 Loss 0.0633\n",
            "Epoch 44 Batch 1000 Loss 0.0658\n",
            "Epoch 44 Batch 1100 Loss 0.0461\n",
            "Epoch 44 Batch 1200 Loss 0.0724\n",
            "Epoch 44 Loss 0.0429\n",
            "Time taken for 1 epoch 55.19137477874756 sec\n",
            "\n",
            "Epoch 45 Batch 0 Loss 0.0275\n",
            "Epoch 45 Batch 100 Loss 0.0458\n",
            "Epoch 45 Batch 200 Loss 0.0220\n",
            "Epoch 45 Batch 300 Loss 0.0281\n",
            "Epoch 45 Batch 400 Loss 0.0310\n",
            "Epoch 45 Batch 500 Loss 0.0702\n",
            "Epoch 45 Batch 600 Loss 0.0393\n",
            "Epoch 45 Batch 700 Loss 0.0355\n",
            "Epoch 45 Batch 800 Loss 0.0548\n",
            "Epoch 45 Batch 900 Loss 0.0677\n",
            "Epoch 45 Batch 1000 Loss 0.0684\n",
            "Epoch 45 Batch 1100 Loss 0.0897\n",
            "Epoch 45 Batch 1200 Loss 0.0436\n",
            "Epoch 45 Loss 0.0425\n",
            "Time taken for 1 epoch 54.08386588096619 sec\n",
            "\n",
            "Epoch 46 Batch 0 Loss 0.0231\n",
            "Epoch 46 Batch 100 Loss 0.0461\n",
            "Epoch 46 Batch 200 Loss 0.0303\n",
            "Epoch 46 Batch 300 Loss 0.0357\n",
            "Epoch 46 Batch 400 Loss 0.0336\n",
            "Epoch 46 Batch 500 Loss 0.0435\n",
            "Epoch 46 Batch 600 Loss 0.0344\n",
            "Epoch 46 Batch 700 Loss 0.0337\n",
            "Epoch 46 Batch 800 Loss 0.0453\n",
            "Epoch 46 Batch 900 Loss 0.0612\n",
            "Epoch 46 Batch 1000 Loss 0.0324\n",
            "Epoch 46 Batch 1100 Loss 0.0419\n",
            "Epoch 46 Batch 1200 Loss 0.0472\n",
            "Epoch 46 Loss 0.0421\n",
            "Time taken for 1 epoch 59.651721715927124 sec\n",
            "\n",
            "Epoch 47 Batch 0 Loss 0.0214\n",
            "Epoch 47 Batch 100 Loss 0.0178\n",
            "Epoch 47 Batch 200 Loss 0.0324\n",
            "Epoch 47 Batch 300 Loss 0.0381\n",
            "Epoch 47 Batch 400 Loss 0.0471\n",
            "Epoch 47 Batch 500 Loss 0.0492\n",
            "Epoch 47 Batch 600 Loss 0.0588\n",
            "Epoch 47 Batch 700 Loss 0.0287\n",
            "Epoch 47 Batch 800 Loss 0.0705\n",
            "Epoch 47 Batch 900 Loss 0.0580\n",
            "Epoch 47 Batch 1000 Loss 0.0488\n",
            "Epoch 47 Batch 1100 Loss 0.0695\n",
            "Epoch 47 Batch 1200 Loss 0.0711\n",
            "Epoch 47 Loss 0.0421\n",
            "Time taken for 1 epoch 54.12125301361084 sec\n",
            "\n",
            "Epoch 48 Batch 0 Loss 0.0200\n",
            "Epoch 48 Batch 100 Loss 0.0128\n",
            "Epoch 48 Batch 200 Loss 0.0299\n",
            "Epoch 48 Batch 300 Loss 0.0377\n",
            "Epoch 48 Batch 400 Loss 0.0198\n",
            "Epoch 48 Batch 500 Loss 0.0307\n",
            "Epoch 48 Batch 600 Loss 0.0629\n",
            "Epoch 48 Batch 700 Loss 0.0331\n",
            "Epoch 48 Batch 800 Loss 0.0327\n",
            "Epoch 48 Batch 900 Loss 0.0611\n",
            "Epoch 48 Batch 1000 Loss 0.0431\n",
            "Epoch 48 Batch 1100 Loss 0.0527\n",
            "Epoch 48 Batch 1200 Loss 0.0694\n",
            "Epoch 48 Loss 0.0418\n",
            "Time taken for 1 epoch 54.61943078041077 sec\n",
            "\n",
            "Epoch 49 Batch 0 Loss 0.0277\n",
            "Epoch 49 Batch 100 Loss 0.0360\n",
            "Epoch 49 Batch 200 Loss 0.0154\n",
            "Epoch 49 Batch 300 Loss 0.0352\n",
            "Epoch 49 Batch 400 Loss 0.0172\n",
            "Epoch 49 Batch 500 Loss 0.0593\n",
            "Epoch 49 Batch 600 Loss 0.0262\n",
            "Epoch 49 Batch 700 Loss 0.0666\n",
            "Epoch 49 Batch 800 Loss 0.0518\n",
            "Epoch 49 Batch 900 Loss 0.0612\n",
            "Epoch 49 Batch 1000 Loss 0.0322\n",
            "Epoch 49 Batch 1100 Loss 0.0572\n",
            "Epoch 49 Batch 1200 Loss 0.0487\n",
            "Epoch 49 Loss 0.0417\n",
            "Time taken for 1 epoch 54.05753469467163 sec\n",
            "\n",
            "Epoch 50 Batch 0 Loss 0.0150\n",
            "Epoch 50 Batch 100 Loss 0.0386\n",
            "Epoch 50 Batch 200 Loss 0.0415\n",
            "Epoch 50 Batch 300 Loss 0.0257\n",
            "Epoch 50 Batch 400 Loss 0.0584\n",
            "Epoch 50 Batch 500 Loss 0.0468\n",
            "Epoch 50 Batch 600 Loss 0.0334\n",
            "Epoch 50 Batch 700 Loss 0.0383\n",
            "Epoch 50 Batch 800 Loss 0.0662\n",
            "Epoch 50 Batch 900 Loss 0.0381\n",
            "Epoch 50 Batch 1000 Loss 0.0633\n",
            "Epoch 50 Batch 1100 Loss 0.0403\n",
            "Epoch 50 Batch 1200 Loss 0.0355\n",
            "Epoch 50 Loss 0.0412\n",
            "Time taken for 1 epoch 59.7326123714447 sec\n",
            "\n"
          ]
        }
      ]
    },
    {
      "cell_type": "markdown",
      "metadata": {
        "id": "mU3Ce8M6I3rz"
      },
      "source": [
        "## Translate\n",
        "\n",
        "* The evaluate function is similar to the training loop, except we don't use *teacher forcing* here. The input to the decoder at each time step is its previous predictions along with the hidden state and the encoder output.\n",
        "* Stop predicting when the model predicts the *end token*.\n",
        "* And store the *attention weights for every time step*.\n",
        "\n",
        "Note: The encoder output is calculated only once for one input."
      ]
    },
    {
      "cell_type": "code",
      "metadata": {
        "id": "EbQpyYs13jF_"
      },
      "source": [
        "def evaluate(sentence):\n",
        "  attention_plot = np.zeros((max_length_targ, max_length_inp))\n",
        "\n",
        "  sentence = preprocess_sentence(sentence)\n",
        "\n",
        "  inputs = [inp_lang.word_index[i] for i in sentence.split(' ')]\n",
        "  inputs = tf.keras.preprocessing.sequence.pad_sequences([inputs],\n",
        "                                                         maxlen=max_length_inp,\n",
        "                                                         padding='post')\n",
        "  inputs = tf.convert_to_tensor(inputs)\n",
        "\n",
        "  result = ''\n",
        "\n",
        "  hidden = [tf.zeros((1, units))]\n",
        "  enc_hidden = encoder(inputs, hidden)\n",
        "\n",
        "  dec_hidden = enc_hidden\n",
        "  dec_input = tf.expand_dims([targ_lang.word_index['<start>']], 0)\n",
        "\n",
        "  for t in range(max_length_targ):\n",
        "    predictions, dec_hidden = decoder(dec_input, dec_hidden)\n",
        "\n",
        "    # storing the attention weights to plot later on\n",
        "    predicted_id = tf.argmax(predictions[0]).numpy()\n",
        "    result += targ_lang.index_word[predicted_id] + ' '\n",
        "\n",
        "    if targ_lang.index_word[predicted_id] == '<end>':\n",
        "      return result, sentence\n",
        "\n",
        "    # the predicted ID is fed back into the model\n",
        "    dec_input = tf.expand_dims([predicted_id], 0)\n",
        "\n",
        "  return result, sentence"
      ],
      "execution_count": 29,
      "outputs": []
    },
    {
      "cell_type": "code",
      "metadata": {
        "id": "sl9zUHzg3jGI"
      },
      "source": [
        "def translate(sentence):\n",
        "  result, sentence = evaluate(sentence)\n",
        "\n",
        "  print('Input: %s' % (sentence))\n",
        "  print('Predicted translation: {}'.format(result))"
      ],
      "execution_count": 30,
      "outputs": []
    },
    {
      "cell_type": "markdown",
      "metadata": {
        "id": "n250XbnjOaqP"
      },
      "source": [
        "## Restore the latest checkpoint and test"
      ]
    },
    {
      "cell_type": "code",
      "metadata": {
        "id": "UJpT9D5_OgP6",
        "colab": {
          "base_uri": "https://localhost:8080/"
        },
        "outputId": "6fbb8759-45cc-449f-ec43-67c4207ca338"
      },
      "source": [
        "# restoring the latest checkpoint in checkpoint_dir\n",
        "checkpoint.restore(tf.train.latest_checkpoint(checkpoint_dir))"
      ],
      "execution_count": 31,
      "outputs": [
        {
          "output_type": "execute_result",
          "data": {
            "text/plain": [
              "<tensorflow.python.checkpoint.checkpoint.CheckpointLoadStatus at 0x7a0a4d3b1cc0>"
            ]
          },
          "metadata": {},
          "execution_count": 31
        }
      ]
    },
    {
      "cell_type": "code",
      "metadata": {
        "id": "WrAM0FDomq3E",
        "colab": {
          "base_uri": "https://localhost:8080/"
        },
        "outputId": "6faab753-5db6-4831-aa34-2083de295e3e"
      },
      "source": [
        "translate('Здесь хорошо.')"
      ],
      "execution_count": 32,
      "outputs": [
        {
          "output_type": "stream",
          "name": "stdout",
          "text": [
            "Input: <start> здесь хорошо . <end>\n",
            "Predicted translation: here's a good one . <end> \n"
          ]
        }
      ]
    },
    {
      "cell_type": "code",
      "metadata": {
        "id": "5bhFfwcIMX5i",
        "colab": {
          "base_uri": "https://localhost:8080/"
        },
        "outputId": "9b21fc39-e43d-4361-f1db-0d6f940d8be8"
      },
      "source": [
        "translate('Я не смогу поехать.')"
      ],
      "execution_count": 33,
      "outputs": [
        {
          "output_type": "stream",
          "name": "stdout",
          "text": [
            "Input: <start> я не смогу поехать . <end>\n",
            "Predicted translation: i can't go . <end> \n"
          ]
        }
      ]
    },
    {
      "cell_type": "code",
      "metadata": {
        "id": "zSx2iM36EZQZ",
        "colab": {
          "base_uri": "https://localhost:8080/"
        },
        "outputId": "1e338dab-d952-462f-dd72-f2e3a2919d05"
      },
      "source": [
        "translate(u'Вы еще дома?')"
      ],
      "execution_count": 34,
      "outputs": [
        {
          "output_type": "stream",
          "name": "stdout",
          "text": [
            "Input: <start> вы еще дома ? <end>\n",
            "Predicted translation: are you still home ? <end> \n"
          ]
        }
      ]
    },
    {
      "cell_type": "code",
      "metadata": {
        "id": "A3LLCx3ZE0Ls",
        "colab": {
          "base_uri": "https://localhost:8080/"
        },
        "outputId": "97174d4b-8824-444a-b500-551cf8e1c8ca"
      },
      "source": [
        "translate(u'Вы все еще дома?')"
      ],
      "execution_count": 35,
      "outputs": [
        {
          "output_type": "stream",
          "name": "stdout",
          "text": [
            "Input: <start> вы все еще дома ? <end>\n",
            "Predicted translation: are you still home ? <end> \n"
          ]
        }
      ]
    },
    {
      "cell_type": "code",
      "metadata": {
        "id": "DUQVLVqUE1YW",
        "colab": {
          "base_uri": "https://localhost:8080/"
        },
        "outputId": "9fe4aa45-f215-4ab1-9a0b-ec1988ef8135"
      },
      "source": [
        "translate(u'Попробуй сделать это.')"
      ],
      "execution_count": 36,
      "outputs": [
        {
          "output_type": "stream",
          "name": "stdout",
          "text": [
            "Input: <start> попробуй сделать это . <end>\n",
            "Predicted translation: try to do it . <end> \n"
          ]
        }
      ]
    },
    {
      "cell_type": "code",
      "metadata": {
        "id": "f09_hUFx9EJh",
        "colab": {
          "base_uri": "https://localhost:8080/"
        },
        "outputId": "0479fcc4-e0db-4387-cd01-36e05855b335"
      },
      "source": [
        "translate(u'Я люблю, когда идет снег.')"
      ],
      "execution_count": 37,
      "outputs": [
        {
          "output_type": "stream",
          "name": "stdout",
          "text": [
            "Input: <start> я люблю , когда идет снег . <end>\n",
            "Predicted translation: i like when i live . <end> \n"
          ]
        }
      ]
    },
    {
      "cell_type": "code",
      "metadata": {
        "id": "e7c5p8rmkHQG",
        "colab": {
          "base_uri": "https://localhost:8080/"
        },
        "outputId": "55aac295-a0d7-40ad-ba6c-bd8f9eea99a2"
      },
      "source": [
        "translate(u'Я никогда такого не делаю.')"
      ],
      "execution_count": 38,
      "outputs": [
        {
          "output_type": "stream",
          "name": "stdout",
          "text": [
            "Input: <start> я никогда такого не делаю . <end>\n",
            "Predicted translation: i never do that . <end> \n"
          ]
        }
      ]
    },
    {
      "cell_type": "code",
      "metadata": {
        "id": "jdXES85KkTVS"
      },
      "source": [],
      "execution_count": 38,
      "outputs": []
    },
    {
      "cell_type": "code",
      "source": [
        "translate('Какой же замечательный перевод.')"
      ],
      "metadata": {
        "colab": {
          "base_uri": "https://localhost:8080/"
        },
        "id": "WTOHj0Ek5H5U",
        "outputId": "7ac8f55b-4427-4222-ed8e-a0c83504978c"
      },
      "execution_count": 40,
      "outputs": [
        {
          "output_type": "stream",
          "name": "stdout",
          "text": [
            "Input: <start> какой же замечательный перевод . <end>\n",
            "Predicted translation: what's the high man . <end> \n"
          ]
        }
      ]
    },
    {
      "cell_type": "code",
      "source": [
        "translate(u'Президент окончил войну.')"
      ],
      "metadata": {
        "colab": {
          "base_uri": "https://localhost:8080/"
        },
        "id": "EH17xc4h5JYe",
        "outputId": "8cd6f42b-95e4-4562-9ffb-557328f842e7"
      },
      "execution_count": 41,
      "outputs": [
        {
          "output_type": "stream",
          "name": "stdout",
          "text": [
            "Input: <start> президент окончил войну . <end>\n",
            "Predicted translation: the wine took the deal . <end> \n"
          ]
        }
      ]
    },
    {
      "cell_type": "code",
      "source": [
        "translate('Когда дадут работу?')"
      ],
      "metadata": {
        "colab": {
          "base_uri": "https://localhost:8080/"
        },
        "id": "JBWMkokL5g8s",
        "outputId": "d905b2d5-dbf3-41df-843a-1366c81edd30"
      },
      "execution_count": 51,
      "outputs": [
        {
          "output_type": "stream",
          "name": "stdout",
          "text": [
            "Input: <start> когда дадут работу ? <end>\n",
            "Predicted translation: when will you work ? <end> \n"
          ]
        }
      ]
    },
    {
      "cell_type": "code",
      "source": [
        "translate(u'Сколько это будет длиться?')"
      ],
      "metadata": {
        "colab": {
          "base_uri": "https://localhost:8080/"
        },
        "id": "K_vM4rNJ5X5S",
        "outputId": "fad98c6e-81bd-4f8f-8b05-245492b81f55"
      },
      "execution_count": 49,
      "outputs": [
        {
          "output_type": "stream",
          "name": "stdout",
          "text": [
            "Input: <start> сколько это будет длиться ? <end>\n",
            "Predicted translation: how much is it ? <end> \n"
          ]
        }
      ]
    }
  ]
}