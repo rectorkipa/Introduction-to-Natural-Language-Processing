{
  "cells": [
    {
      "cell_type": "markdown",
      "metadata": {
        "id": "J0Qjg6vuaHNt"
      },
      "source": [
        "## Кривоногов Н.В., NLP, практическое задание № 11"
      ]
    },
    {
      "cell_type": "markdown",
      "source": [
        "Разобраться с моделькой перевода как она устроена (c механизмом внимания), запустить для перевода с русского на английский (при желании можно взять другие пары языков)"
      ],
      "metadata": {
        "id": "LS4OJemM2JD8"
      }
    },
    {
      "cell_type": "code",
      "execution_count": 1,
      "metadata": {
        "id": "tnxXKDjq3jEL"
      },
      "outputs": [],
      "source": [
        "import tensorflow as tf\n",
        "\n",
        "import matplotlib.pyplot as plt\n",
        "import matplotlib.ticker as ticker\n",
        "from sklearn.model_selection import train_test_split\n",
        "\n",
        "import unicodedata\n",
        "import re\n",
        "import numpy as np\n",
        "import os\n",
        "import io\n",
        "import time"
      ]
    },
    {
      "cell_type": "markdown",
      "metadata": {
        "id": "wfodePkj3jEa"
      },
      "source": [
        "## Download and prepare the dataset\n",
        "\n",
        "We'll use a language dataset provided by http://www.manythings.org/anki/\n",
        "\n",
        "And I'll use the German-English dictionary:"
      ]
    },
    {
      "cell_type": "code",
      "execution_count": 2,
      "metadata": {
        "colab": {
          "base_uri": "https://localhost:8080/"
        },
        "id": "CNvjhDyAKk3U",
        "outputId": "9f271e44-8103-49e3-d65f-c6c42f3783ea"
      },
      "outputs": [
        {
          "output_type": "stream",
          "name": "stdout",
          "text": [
            "--2023-09-12 04:25:23--  http://www.manythings.org/anki/deu-eng.zip\n",
            "Resolving www.manythings.org (www.manythings.org)... 173.254.30.110\n",
            "Connecting to www.manythings.org (www.manythings.org)|173.254.30.110|:80... connected.\n",
            "HTTP request sent, awaiting response... 200 OK\n",
            "Length: 10012989 (9.5M) [application/zip]\n",
            "Saving to: ‘deu-eng.zip’\n",
            "\n",
            "deu-eng.zip         100%[===================>]   9.55M  39.0MB/s    in 0.2s    \n",
            "\n",
            "2023-09-12 04:25:23 (39.0 MB/s) - ‘deu-eng.zip’ saved [10012989/10012989]\n",
            "\n"
          ]
        }
      ],
      "source": [
        "!wget http://www.manythings.org/anki/deu-eng.zip"
      ]
    },
    {
      "cell_type": "code",
      "execution_count": 3,
      "metadata": {
        "colab": {
          "base_uri": "https://localhost:8080/"
        },
        "id": "83bg17Lr-7XK",
        "outputId": "6994294e-8a25-4c54-c5f8-d350f33c4d21"
      },
      "outputs": [
        {
          "output_type": "stream",
          "name": "stdout",
          "text": [
            "Archive:  deu-eng.zip\n",
            "  inflating: deu-eng/deu.txt         \n",
            "  inflating: deu-eng/_about.txt      \n"
          ]
        }
      ],
      "source": [
        "!mkdir deu-eng\n",
        "!unzip deu-eng.zip -d deu-eng/"
      ]
    },
    {
      "cell_type": "code",
      "execution_count": 4,
      "metadata": {
        "colab": {
          "base_uri": "https://localhost:8080/"
        },
        "id": "7o5L92efMMhf",
        "outputId": "4f75462d-dc8c-4b67-bee4-669106b49595"
      },
      "outputs": [
        {
          "output_type": "stream",
          "name": "stdout",
          "text": [
            "total 40M\n",
            "drwxr-xr-x 2 root root 4.0K Sep 12 04:25 .\n",
            "drwxr-xr-x 1 root root 4.0K Sep 12 04:25 ..\n",
            "-rw-r--r-- 1 root root 1.5K Jul 30 03:53 _about.txt\n",
            "-rw-r--r-- 1 root root  40M Jul 30 03:53 deu.txt\n"
          ]
        }
      ],
      "source": [
        "!ls /content/deu-eng/ -lah"
      ]
    },
    {
      "cell_type": "code",
      "execution_count": 5,
      "metadata": {
        "id": "kRVATYOgJs1b"
      },
      "outputs": [],
      "source": [
        "# Download the file\n",
        "path_to_file = \"/content/deu-eng/deu.txt\""
      ]
    },
    {
      "cell_type": "code",
      "execution_count": 6,
      "metadata": {
        "id": "rd0jw-eC3jEh"
      },
      "outputs": [],
      "source": [
        "def preprocess_sentence(w):\n",
        "  w = w.lower().strip()\n",
        "\n",
        "  # creating a space between a word and the punctuation following it\n",
        "  # eg: \"he is a boy.\" => \"he is a boy .\"\n",
        "  # Reference:- https://stackoverflow.com/questions/3645931/python-padding-punctuation-with-white-spaces-keeping-punctuation\n",
        "  w = re.sub(r\"([?.!,])\", r\" \\1 \", w)\n",
        "  w = re.sub(r'[\" \"]+', \" \", w)\n",
        "\n",
        "  # replacing everything with space except (a-z, A-Z, \".\", \"?\", \"!\", \",\")\n",
        "  w = re.sub(r\"[^a-zA-Zа-яА-Я?.!,']+\", \" \", w)\n",
        "\n",
        "  w = w.strip()\n",
        "\n",
        "  # adding a start and an end token to the sentence\n",
        "  # so that the model know when to start and stop predicting.\n",
        "  w = '<start> ' + w + ' <end>'\n",
        "  return w"
      ]
    },
    {
      "cell_type": "code",
      "execution_count": 7,
      "metadata": {
        "colab": {
          "base_uri": "https://localhost:8080/",
          "height": 35
        },
        "id": "yV9lZXQXNbnH",
        "outputId": "0bfc853e-49ae-4a8c-88f0-fa7756ba6efb"
      },
      "outputs": [
        {
          "output_type": "execute_result",
          "data": {
            "text/plain": [
              "\"<start> i can't go . <end>\""
            ],
            "application/vnd.google.colaboratory.intrinsic+json": {
              "type": "string"
            }
          },
          "metadata": {},
          "execution_count": 7
        }
      ],
      "source": [
        "preprocess_sentence(\"I can't go.\")"
      ]
    },
    {
      "cell_type": "code",
      "execution_count": 8,
      "metadata": {
        "id": "OHn4Dct23jEm"
      },
      "outputs": [],
      "source": [
        "# 1. Remove the accents\n",
        "# 2. Clean the sentences\n",
        "# 3. Return word pairs in the format: [ENG, RUS]\n",
        "def create_dataset(path, num_examples):\n",
        "  lines = io.open(path, encoding='UTF-8').read().strip().split('\\n')\n",
        "\n",
        "  word_pairs = [[preprocess_sentence(w) for w in l.split('\\t')[:2]]  for l in lines[:num_examples]]\n",
        "\n",
        "  return zip(*word_pairs)"
      ]
    },
    {
      "cell_type": "code",
      "execution_count": 9,
      "metadata": {
        "colab": {
          "base_uri": "https://localhost:8080/"
        },
        "id": "cTbSbBz55QtF",
        "outputId": "f9357998-b0c4-4d1c-8023-34a88537418e"
      },
      "outputs": [
        {
          "output_type": "stream",
          "name": "stdout",
          "text": [
            "<start> doubtless there exists in this world precisely the right woman for any given man to marry and vice versa but when you consider that a human being has the opportunity of being acquainted with only a few hundred people , and out of the few hundred that there are but a dozen or less whom he knows intimately , and out of the dozen , one or two friends at most , it will easily be seen , when we remember the number of millions who inhabit this world , that probably , since the earth was created , the right man has never yet met the right woman . <end>\n",
            "<start> ohne zweifel findet sich auf dieser welt zu jedem mann genau die richtige ehefrau und umgekehrt wenn man jedoch in betracht zieht , dass ein mensch nur gelegenheit hat , mit ein paar hundert anderen bekannt zu sein , von denen ihm nur ein dutzend oder weniger nahesteht , darunter h chstens ein oder zwei freunde , dann erahnt man eingedenk der millionen einwohner dieser welt leicht , dass seit erschaffung ebenderselben wohl noch nie der richtige mann der richtigen frau begegnet ist . <end>\n"
          ]
        }
      ],
      "source": [
        "en, ge = create_dataset(path_to_file, None)\n",
        "print(en[-1])\n",
        "print(ge[-1])"
      ]
    },
    {
      "cell_type": "code",
      "execution_count": 10,
      "metadata": {
        "id": "bIOn8RCNDJXG"
      },
      "outputs": [],
      "source": [
        "def tokenize(lang):\n",
        "  lang_tokenizer = tf.keras.preprocessing.text.Tokenizer(\n",
        "      filters='')\n",
        "  lang_tokenizer.fit_on_texts(lang)\n",
        "\n",
        "  tensor = lang_tokenizer.texts_to_sequences(lang)\n",
        "\n",
        "  tensor = tf.keras.preprocessing.sequence.pad_sequences(tensor,\n",
        "                                                         padding='post')\n",
        "\n",
        "  return tensor, lang_tokenizer"
      ]
    },
    {
      "cell_type": "code",
      "execution_count": 11,
      "metadata": {
        "id": "eAY9k49G3jE_"
      },
      "outputs": [],
      "source": [
        "def load_dataset(path, num_examples=None):\n",
        "  # creating cleaned input, output pairs\n",
        "  targ_lang, inp_lang = create_dataset(path, num_examples)\n",
        "\n",
        "  input_tensor, inp_lang_tokenizer = tokenize(inp_lang)\n",
        "  target_tensor, targ_lang_tokenizer = tokenize(targ_lang)\n",
        "\n",
        "  return input_tensor, target_tensor, inp_lang_tokenizer, targ_lang_tokenizer"
      ]
    },
    {
      "cell_type": "markdown",
      "metadata": {
        "id": "GOi42V79Ydlr"
      },
      "source": [
        "### Limit the size of the dataset to experiment faster (optional)\n"
      ]
    },
    {
      "cell_type": "code",
      "execution_count": 12,
      "metadata": {
        "colab": {
          "base_uri": "https://localhost:8080/"
        },
        "id": "C8j9g9AnIeZV",
        "outputId": "d12b3782-e122-48c8-9313-0b79938e9f31"
      },
      "outputs": [
        {
          "output_type": "execute_result",
          "data": {
            "text/plain": [
              "(267186, 267186)"
            ]
          },
          "metadata": {},
          "execution_count": 12
        }
      ],
      "source": [
        "len(en), len(ge)"
      ]
    },
    {
      "cell_type": "code",
      "execution_count": 13,
      "metadata": {
        "id": "cnxC7q-j3jFD"
      },
      "outputs": [],
      "source": [
        "# Try experimenting with the size of that dataset\n",
        "num_examples = 100000\n",
        "input_tensor, target_tensor, inp_lang, targ_lang = load_dataset(path_to_file, num_examples)\n",
        "\n",
        "# Calculate max_length of the target tensors\n",
        "max_length_targ, max_length_inp = target_tensor.shape[1], input_tensor.shape[1]"
      ]
    },
    {
      "cell_type": "code",
      "execution_count": 14,
      "metadata": {
        "colab": {
          "base_uri": "https://localhost:8080/"
        },
        "id": "4QILQkOs3jFG",
        "outputId": "079554e0-3427-4ed7-a84c-0262e59cb41e"
      },
      "outputs": [
        {
          "output_type": "stream",
          "name": "stdout",
          "text": [
            "80000 80000 20000 20000\n"
          ]
        }
      ],
      "source": [
        "# Creating training and validation sets using an 80-20 split\n",
        "input_tensor_train, input_tensor_val, target_tensor_train, target_tensor_val = train_test_split(input_tensor, target_tensor, test_size=0.2)\n",
        "\n",
        "# Show length\n",
        "print(len(input_tensor_train), len(target_tensor_train), len(input_tensor_val), len(target_tensor_val))"
      ]
    },
    {
      "cell_type": "code",
      "execution_count": 15,
      "metadata": {
        "id": "lJPmLZGMeD5q"
      },
      "outputs": [],
      "source": [
        "def convert(lang, tensor):\n",
        "  for t in tensor:\n",
        "    if t!=0:\n",
        "      print (\"%d ----> %s\" % (t, lang.index_word[t]))"
      ]
    },
    {
      "cell_type": "code",
      "execution_count": 16,
      "metadata": {
        "colab": {
          "base_uri": "https://localhost:8080/"
        },
        "id": "VXukARTDd7MT",
        "outputId": "b605bf04-0822-4ec2-d524-58193d37c8bc"
      },
      "outputs": [
        {
          "output_type": "stream",
          "name": "stdout",
          "text": [
            "Input Language; index to word mapping\n",
            "1 ----> <start>\n",
            "5 ----> tom\n",
            "189 ----> ging\n",
            "744 ----> zuerst\n",
            "3 ----> .\n",
            "2 ----> <end>\n",
            "\n",
            "Target Language; index to word mapping\n",
            "1 ----> <start>\n",
            "4 ----> tom\n",
            "143 ----> went\n",
            "332 ----> first\n",
            "3 ----> .\n",
            "2 ----> <end>\n"
          ]
        }
      ],
      "source": [
        "print (\"Input Language; index to word mapping\")\n",
        "convert(inp_lang, input_tensor_train[0])\n",
        "print ()\n",
        "print (\"Target Language; index to word mapping\")\n",
        "convert(targ_lang, target_tensor_train[0])"
      ]
    },
    {
      "cell_type": "markdown",
      "metadata": {
        "id": "rgCLkfv5uO3d"
      },
      "source": [
        "### Create a tf.data dataset"
      ]
    },
    {
      "cell_type": "code",
      "execution_count": 17,
      "metadata": {
        "id": "TqHsArVZ3jFS"
      },
      "outputs": [],
      "source": [
        "BUFFER_SIZE = len(input_tensor_train)\n",
        "BATCH_SIZE = 64\n",
        "steps_per_epoch = len(input_tensor_train)//BATCH_SIZE\n",
        "embedding_dim = 256\n",
        "units = 1024\n",
        "vocab_inp_size = len(inp_lang.word_index)+1\n",
        "vocab_tar_size = len(targ_lang.word_index)+1\n",
        "\n",
        "dataset = tf.data.Dataset.from_tensor_slices((input_tensor_train, target_tensor_train)).shuffle(BUFFER_SIZE)\n",
        "dataset = dataset.batch(BATCH_SIZE, drop_remainder=True)"
      ]
    },
    {
      "cell_type": "code",
      "execution_count": 18,
      "metadata": {
        "colab": {
          "base_uri": "https://localhost:8080/"
        },
        "id": "qc6-NK1GtWQt",
        "outputId": "877103bc-c227-44c3-b1ef-1019b045e71a"
      },
      "outputs": [
        {
          "output_type": "execute_result",
          "data": {
            "text/plain": [
              "(TensorShape([64, 23]), TensorShape([64, 12]))"
            ]
          },
          "metadata": {},
          "execution_count": 18
        }
      ],
      "source": [
        "example_input_batch, example_target_batch = next(iter(dataset))\n",
        "example_input_batch.shape, example_target_batch.shape"
      ]
    },
    {
      "cell_type": "code",
      "execution_count": 19,
      "metadata": {
        "id": "nZ2rI24i3jFg"
      },
      "outputs": [],
      "source": [
        "class Encoder(tf.keras.Model):\n",
        "  def __init__(self, vocab_size, embedding_dim, enc_units, batch_sz):\n",
        "    super(Encoder, self).__init__()\n",
        "    self.batch_sz = batch_sz\n",
        "    self.enc_units = enc_units\n",
        "    self.embedding = tf.keras.layers.Embedding(vocab_size, embedding_dim)\n",
        "    self.gru = tf.keras.layers.GRU(self.enc_units,\n",
        "                                   return_sequences=True,\n",
        "                                   return_state=True,\n",
        "                                   recurrent_initializer='glorot_uniform')\n",
        "\n",
        "  def call(self, x, hidden):\n",
        "    x = self.embedding(x)\n",
        "    output, state = self.gru(x, initial_state = hidden)\n",
        "    return output, state\n",
        "\n",
        "  def initialize_hidden_state(self):\n",
        "    return tf.zeros((self.batch_sz, self.enc_units))"
      ]
    },
    {
      "cell_type": "code",
      "execution_count": 20,
      "metadata": {
        "colab": {
          "base_uri": "https://localhost:8080/"
        },
        "id": "60gSVh05Jl6l",
        "outputId": "c1261d65-5834-444e-f2c8-cbb48708d2bf"
      },
      "outputs": [
        {
          "output_type": "stream",
          "name": "stdout",
          "text": [
            "Encoder output shape: (batch size, sequence length, units) (64, 23, 1024)\n",
            "Encoder Hidden state shape: (batch size, units) (64, 1024)\n"
          ]
        }
      ],
      "source": [
        "encoder = Encoder(vocab_inp_size, embedding_dim, units, BATCH_SIZE)\n",
        "\n",
        "# sample input\n",
        "sample_hidden = encoder.initialize_hidden_state()\n",
        "sample_output, sample_hidden = encoder(example_input_batch, sample_hidden)\n",
        "print ('Encoder output shape: (batch size, sequence length, units) {}'.format(sample_output.shape))\n",
        "print ('Encoder Hidden state shape: (batch size, units) {}'.format(sample_hidden.shape))"
      ]
    },
    {
      "cell_type": "code",
      "execution_count": 21,
      "metadata": {
        "id": "YTyhL28Niqk1"
      },
      "outputs": [],
      "source": [
        "class BahdanauAttention(tf.keras.layers.Layer):\n",
        "  def __init__(self, units):\n",
        "    super(BahdanauAttention, self).__init__()\n",
        "    self.W1 = tf.keras.layers.Dense(units)\n",
        "    self.W2 = tf.keras.layers.Dense(units)\n",
        "    self.V = tf.keras.layers.Dense(1)\n",
        "\n",
        "  def call(self, query, values):\n",
        "    # query hidden state shape == (batch_size, hidden size)\n",
        "    # query_with_time_axis shape == (batch_size, 1, hidden size)\n",
        "    # values shape == (batch_size, max_len, hidden size)\n",
        "    # we are doing this to broadcast addition along the time axis to calculate the score\n",
        "    query_with_time_axis = tf.expand_dims(query, 1)\n",
        "\n",
        "    # score shape == (batch_size, max_length, 1)\n",
        "    # we get 1 at the last axis because we are applying score to self.V\n",
        "    # the shape of the tensor before applying self.V is (batch_size, max_length, units)\n",
        "    score = self.V(tf.nn.tanh(\n",
        "        self.W1(query_with_time_axis) + self.W2(values)))\n",
        "\n",
        "    # attention_weights shape == (batch_size, max_length, 1)\n",
        "    attention_weights = tf.nn.softmax(score, axis=1)\n",
        "\n",
        "    # context_vector shape after sum == (batch_size, hidden_size)\n",
        "    context_vector = attention_weights * values\n",
        "    context_vector = tf.reduce_sum(context_vector, axis=1)\n",
        "\n",
        "    return context_vector, attention_weights"
      ]
    },
    {
      "cell_type": "code",
      "execution_count": 22,
      "metadata": {
        "colab": {
          "base_uri": "https://localhost:8080/"
        },
        "id": "XUqssWcci1XJ",
        "outputId": "9dc559ef-eb6b-4fce-d42e-a672ffab1fb0"
      },
      "outputs": [
        {
          "output_type": "stream",
          "name": "stdout",
          "text": [
            "Attention result shape: (batch size, units) (64, 1024)\n",
            "Attention weights shape: (batch_size, sequence_length, 1) (64, 23, 1)\n"
          ]
        }
      ],
      "source": [
        "attention_layer = BahdanauAttention(10)\n",
        "attention_result, attention_weights = attention_layer(sample_hidden, sample_output)\n",
        "\n",
        "print(\"Attention result shape: (batch size, units) {}\".format(attention_result.shape))\n",
        "print(\"Attention weights shape: (batch_size, sequence_length, 1) {}\".format(attention_weights.shape))"
      ]
    },
    {
      "cell_type": "code",
      "execution_count": 23,
      "metadata": {
        "id": "yJ_B3mhW3jFk"
      },
      "outputs": [],
      "source": [
        "class Decoder(tf.keras.Model):\n",
        "  def __init__(self, vocab_size, embedding_dim, dec_units, batch_sz):\n",
        "    super(Decoder, self).__init__()\n",
        "    self.batch_sz = batch_sz\n",
        "    self.dec_units = dec_units\n",
        "    self.embedding = tf.keras.layers.Embedding(vocab_size, embedding_dim)\n",
        "    self.gru = tf.keras.layers.GRU(self.dec_units,\n",
        "                                   return_sequences=True,\n",
        "                                   return_state=True,\n",
        "                                   recurrent_initializer='glorot_uniform')\n",
        "    self.fc = tf.keras.layers.Dense(vocab_size)\n",
        "\n",
        "    # used for attention\n",
        "    self.attention = BahdanauAttention(self.dec_units)\n",
        "\n",
        "  def call(self, x, hidden, enc_output):\n",
        "    # enc_output shape == (batch_size, max_length, hidden_size)\n",
        "    context_vector, attention_weights = self.attention(hidden, enc_output)\n",
        "\n",
        "    # x shape after passing through embedding == (batch_size, 1, embedding_dim)\n",
        "    x = self.embedding(x)\n",
        "\n",
        "    # x shape after concatenation == (batch_size, 1, embedding_dim + hidden_size)\n",
        "    x = tf.concat([tf.expand_dims(context_vector, 1), x], axis=-1)\n",
        "\n",
        "    # passing the concatenated vector to the GRU\n",
        "    output, state = self.gru(x)\n",
        "\n",
        "    # output shape == (batch_size * 1, hidden_size)\n",
        "    output = tf.reshape(output, (-1, output.shape[2]))\n",
        "\n",
        "    # output shape == (batch_size, vocab)\n",
        "    x = self.fc(output)\n",
        "\n",
        "    return x, state, attention_weights"
      ]
    },
    {
      "cell_type": "code",
      "execution_count": 24,
      "metadata": {
        "colab": {
          "base_uri": "https://localhost:8080/"
        },
        "id": "P5UY8wko3jFp",
        "outputId": "569d2734-b3cf-4c4a-d5f5-4d24f946bbeb"
      },
      "outputs": [
        {
          "output_type": "stream",
          "name": "stdout",
          "text": [
            "Decoder output shape: (batch_size, vocab size) (64, 8856)\n"
          ]
        }
      ],
      "source": [
        "decoder = Decoder(vocab_tar_size, embedding_dim, units, BATCH_SIZE)\n",
        "\n",
        "sample_decoder_output, _, _ = decoder(tf.random.uniform((BATCH_SIZE, 1)),\n",
        "                                      sample_hidden, sample_output)\n",
        "\n",
        "print ('Decoder output shape: (batch_size, vocab size) {}'.format(sample_decoder_output.shape))"
      ]
    },
    {
      "cell_type": "markdown",
      "metadata": {
        "id": "_ch_71VbIRfK"
      },
      "source": [
        "## Define the optimizer and the loss function"
      ]
    },
    {
      "cell_type": "code",
      "execution_count": 25,
      "metadata": {
        "id": "WmTHr5iV3jFr"
      },
      "outputs": [],
      "source": [
        "optimizer = tf.keras.optimizers.Adam()\n",
        "loss_object = tf.keras.losses.SparseCategoricalCrossentropy(\n",
        "    from_logits=True, reduction='none')\n",
        "\n",
        "def loss_function(real, pred):\n",
        "  mask = tf.math.logical_not(tf.math.equal(real, 0))\n",
        "  loss_ = loss_object(real, pred)\n",
        "\n",
        "  mask = tf.cast(mask, dtype=loss_.dtype)\n",
        "  loss_ *= mask\n",
        "\n",
        "  return tf.reduce_mean(loss_)"
      ]
    },
    {
      "cell_type": "markdown",
      "metadata": {
        "id": "DMVWzzsfNl4e"
      },
      "source": [
        "## Checkpoints (Object-based saving)"
      ]
    },
    {
      "cell_type": "code",
      "execution_count": 26,
      "metadata": {
        "id": "Zj8bXQTgNwrF"
      },
      "outputs": [],
      "source": [
        "checkpoint_dir = './training_attention_checkpoints'\n",
        "checkpoint_prefix = os.path.join(checkpoint_dir, \"ckpt\")\n",
        "checkpoint = tf.train.Checkpoint(optimizer=optimizer,\n",
        "                                 encoder=encoder,\n",
        "                                 decoder=decoder)"
      ]
    },
    {
      "cell_type": "code",
      "execution_count": 27,
      "metadata": {
        "id": "sC9ArXSsVfqn"
      },
      "outputs": [],
      "source": [
        "@tf.function\n",
        "def train_step(inp, targ, enc_hidden):\n",
        "  loss = 0\n",
        "\n",
        "  with tf.GradientTape() as tape:\n",
        "    enc_output, enc_hidden = encoder(inp, enc_hidden)\n",
        "\n",
        "    dec_hidden = enc_hidden\n",
        "\n",
        "    dec_input = tf.expand_dims([targ_lang.word_index['<start>']] * BATCH_SIZE, 1)\n",
        "\n",
        "    # Teacher forcing - feeding the target as the next input\n",
        "    for t in range(1, targ.shape[1]):\n",
        "      # passing enc_output to the decoder\n",
        "      predictions, dec_hidden, _ = decoder(dec_input, dec_hidden, enc_output)\n",
        "\n",
        "      loss += loss_function(targ[:, t], predictions)\n",
        "\n",
        "      # using teacher forcing\n",
        "      dec_input = tf.expand_dims(targ[:, t], 1)\n",
        "\n",
        "  batch_loss = (loss / int(targ.shape[1]))\n",
        "\n",
        "  variables = encoder.trainable_variables + decoder.trainable_variables\n",
        "\n",
        "  gradients = tape.gradient(loss, variables)\n",
        "\n",
        "  optimizer.apply_gradients(zip(gradients, variables))\n",
        "\n",
        "  return batch_loss"
      ]
    },
    {
      "cell_type": "code",
      "execution_count": 28,
      "metadata": {
        "colab": {
          "base_uri": "https://localhost:8080/"
        },
        "id": "ddefjBMa3jF0",
        "outputId": "ded45c49-9005-44df-8d5b-ee98cbaf7ec1"
      },
      "outputs": [
        {
          "output_type": "stream",
          "name": "stdout",
          "text": [
            "Epoch 1 Batch 0 Loss 4.7451\n",
            "Epoch 1 Batch 100 Loss 2.3112\n",
            "Epoch 1 Batch 200 Loss 1.9881\n",
            "Epoch 1 Batch 300 Loss 1.8007\n",
            "Epoch 1 Batch 400 Loss 1.7295\n",
            "Epoch 1 Batch 500 Loss 1.5878\n",
            "Epoch 1 Batch 600 Loss 1.5365\n",
            "Epoch 1 Batch 700 Loss 1.5607\n",
            "Epoch 1 Batch 800 Loss 1.3160\n",
            "Epoch 1 Batch 900 Loss 1.1760\n",
            "Epoch 1 Batch 1000 Loss 1.1499\n",
            "Epoch 1 Batch 1100 Loss 1.1140\n",
            "Epoch 1 Batch 1200 Loss 1.0843\n",
            "Epoch 1 Loss 1.5965\n",
            "Time taken for 1 epoch 151.573246717453 sec\n",
            "\n",
            "Epoch 2 Batch 0 Loss 0.8476\n",
            "Epoch 2 Batch 100 Loss 0.8970\n",
            "Epoch 2 Batch 200 Loss 0.9114\n",
            "Epoch 2 Batch 300 Loss 0.8052\n",
            "Epoch 2 Batch 400 Loss 0.8398\n",
            "Epoch 2 Batch 500 Loss 0.8290\n",
            "Epoch 2 Batch 600 Loss 0.6374\n",
            "Epoch 2 Batch 700 Loss 0.7792\n",
            "Epoch 2 Batch 800 Loss 0.8314\n",
            "Epoch 2 Batch 900 Loss 0.6613\n",
            "Epoch 2 Batch 1000 Loss 0.6448\n",
            "Epoch 2 Batch 1100 Loss 0.6378\n",
            "Epoch 2 Batch 1200 Loss 0.5558\n",
            "Epoch 2 Loss 0.7696\n",
            "Time taken for 1 epoch 126.2646656036377 sec\n",
            "\n",
            "Epoch 3 Batch 0 Loss 0.4633\n",
            "Epoch 3 Batch 100 Loss 0.4506\n",
            "Epoch 3 Batch 200 Loss 0.4782\n",
            "Epoch 3 Batch 300 Loss 0.5023\n",
            "Epoch 3 Batch 400 Loss 0.5249\n",
            "Epoch 3 Batch 500 Loss 0.4243\n",
            "Epoch 3 Batch 600 Loss 0.4911\n",
            "Epoch 3 Batch 700 Loss 0.3857\n",
            "Epoch 3 Batch 800 Loss 0.4872\n",
            "Epoch 3 Batch 900 Loss 0.4601\n",
            "Epoch 3 Batch 1000 Loss 0.4729\n",
            "Epoch 3 Batch 1100 Loss 0.4867\n",
            "Epoch 3 Batch 1200 Loss 0.5113\n",
            "Epoch 3 Loss 0.4645\n",
            "Time taken for 1 epoch 126.2752742767334 sec\n",
            "\n",
            "Epoch 4 Batch 0 Loss 0.2802\n",
            "Epoch 4 Batch 100 Loss 0.2637\n",
            "Epoch 4 Batch 200 Loss 0.2600\n",
            "Epoch 4 Batch 300 Loss 0.3080\n",
            "Epoch 4 Batch 400 Loss 0.3229\n",
            "Epoch 4 Batch 500 Loss 0.3106\n",
            "Epoch 4 Batch 600 Loss 0.3164\n",
            "Epoch 4 Batch 700 Loss 0.3650\n",
            "Epoch 4 Batch 800 Loss 0.3783\n",
            "Epoch 4 Batch 900 Loss 0.3453\n",
            "Epoch 4 Batch 1000 Loss 0.3295\n",
            "Epoch 4 Batch 1100 Loss 0.2615\n",
            "Epoch 4 Batch 1200 Loss 0.2169\n",
            "Epoch 4 Loss 0.3117\n",
            "Time taken for 1 epoch 128.11071705818176 sec\n",
            "\n",
            "Epoch 5 Batch 0 Loss 0.2022\n",
            "Epoch 5 Batch 100 Loss 0.2240\n",
            "Epoch 5 Batch 200 Loss 0.2064\n",
            "Epoch 5 Batch 300 Loss 0.2216\n",
            "Epoch 5 Batch 400 Loss 0.2231\n",
            "Epoch 5 Batch 500 Loss 0.2055\n",
            "Epoch 5 Batch 600 Loss 0.2705\n",
            "Epoch 5 Batch 700 Loss 0.1853\n",
            "Epoch 5 Batch 800 Loss 0.1983\n",
            "Epoch 5 Batch 900 Loss 0.2225\n",
            "Epoch 5 Batch 1000 Loss 0.2206\n",
            "Epoch 5 Batch 1100 Loss 0.1938\n",
            "Epoch 5 Batch 1200 Loss 0.3171\n",
            "Epoch 5 Loss 0.2238\n",
            "Time taken for 1 epoch 126.91401553153992 sec\n",
            "\n",
            "Epoch 6 Batch 0 Loss 0.1341\n",
            "Epoch 6 Batch 100 Loss 0.1442\n",
            "Epoch 6 Batch 200 Loss 0.1678\n",
            "Epoch 6 Batch 300 Loss 0.1694\n",
            "Epoch 6 Batch 400 Loss 0.2252\n",
            "Epoch 6 Batch 500 Loss 0.1421\n",
            "Epoch 6 Batch 600 Loss 0.1153\n",
            "Epoch 6 Batch 700 Loss 0.1448\n",
            "Epoch 6 Batch 800 Loss 0.1603\n",
            "Epoch 6 Batch 900 Loss 0.1609\n",
            "Epoch 6 Batch 1000 Loss 0.1881\n",
            "Epoch 6 Batch 1100 Loss 0.1690\n",
            "Epoch 6 Batch 1200 Loss 0.2473\n",
            "Epoch 6 Loss 0.1702\n",
            "Time taken for 1 epoch 128.04875445365906 sec\n",
            "\n",
            "Epoch 7 Batch 0 Loss 0.1526\n",
            "Epoch 7 Batch 100 Loss 0.1160\n",
            "Epoch 7 Batch 200 Loss 0.1597\n",
            "Epoch 7 Batch 300 Loss 0.1070\n",
            "Epoch 7 Batch 400 Loss 0.1155\n",
            "Epoch 7 Batch 500 Loss 0.1081\n",
            "Epoch 7 Batch 600 Loss 0.0967\n",
            "Epoch 7 Batch 700 Loss 0.1593\n",
            "Epoch 7 Batch 800 Loss 0.1071\n",
            "Epoch 7 Batch 900 Loss 0.1517\n",
            "Epoch 7 Batch 1000 Loss 0.1673\n",
            "Epoch 7 Batch 1100 Loss 0.1629\n",
            "Epoch 7 Batch 1200 Loss 0.2232\n",
            "Epoch 7 Loss 0.1389\n",
            "Time taken for 1 epoch 126.77812957763672 sec\n",
            "\n",
            "Epoch 8 Batch 0 Loss 0.1167\n",
            "Epoch 8 Batch 100 Loss 0.0998\n",
            "Epoch 8 Batch 200 Loss 0.0900\n",
            "Epoch 8 Batch 300 Loss 0.1159\n",
            "Epoch 8 Batch 400 Loss 0.0729\n",
            "Epoch 8 Batch 500 Loss 0.0872\n",
            "Epoch 8 Batch 600 Loss 0.0754\n",
            "Epoch 8 Batch 700 Loss 0.1540\n",
            "Epoch 8 Batch 800 Loss 0.1470\n",
            "Epoch 8 Batch 900 Loss 0.1187\n",
            "Epoch 8 Batch 1000 Loss 0.1122\n",
            "Epoch 8 Batch 1100 Loss 0.1246\n",
            "Epoch 8 Batch 1200 Loss 0.1026\n",
            "Epoch 8 Loss 0.1186\n",
            "Time taken for 1 epoch 132.86729764938354 sec\n",
            "\n",
            "Epoch 9 Batch 0 Loss 0.0672\n",
            "Epoch 9 Batch 100 Loss 0.1000\n",
            "Epoch 9 Batch 200 Loss 0.0659\n",
            "Epoch 9 Batch 300 Loss 0.0987\n",
            "Epoch 9 Batch 400 Loss 0.1500\n",
            "Epoch 9 Batch 500 Loss 0.1238\n",
            "Epoch 9 Batch 600 Loss 0.1044\n",
            "Epoch 9 Batch 700 Loss 0.0699\n",
            "Epoch 9 Batch 800 Loss 0.0912\n",
            "Epoch 9 Batch 900 Loss 0.1207\n",
            "Epoch 9 Batch 1000 Loss 0.1094\n",
            "Epoch 9 Batch 1100 Loss 0.0876\n",
            "Epoch 9 Batch 1200 Loss 0.0882\n",
            "Epoch 9 Loss 0.1054\n",
            "Time taken for 1 epoch 126.4640634059906 sec\n",
            "\n",
            "Epoch 10 Batch 0 Loss 0.0979\n",
            "Epoch 10 Batch 100 Loss 0.0647\n",
            "Epoch 10 Batch 200 Loss 0.0690\n",
            "Epoch 10 Batch 300 Loss 0.0582\n",
            "Epoch 10 Batch 400 Loss 0.0704\n",
            "Epoch 10 Batch 500 Loss 0.0914\n",
            "Epoch 10 Batch 600 Loss 0.0848\n",
            "Epoch 10 Batch 700 Loss 0.0840\n",
            "Epoch 10 Batch 800 Loss 0.0848\n",
            "Epoch 10 Batch 900 Loss 0.0961\n",
            "Epoch 10 Batch 1000 Loss 0.1016\n",
            "Epoch 10 Batch 1100 Loss 0.0841\n",
            "Epoch 10 Batch 1200 Loss 0.1639\n",
            "Epoch 10 Loss 0.0958\n",
            "Time taken for 1 epoch 132.65487957000732 sec\n",
            "\n",
            "Epoch 11 Batch 0 Loss 0.0759\n",
            "Epoch 11 Batch 100 Loss 0.0870\n",
            "Epoch 11 Batch 200 Loss 0.0551\n",
            "Epoch 11 Batch 300 Loss 0.0507\n",
            "Epoch 11 Batch 400 Loss 0.0484\n",
            "Epoch 11 Batch 500 Loss 0.0871\n",
            "Epoch 11 Batch 600 Loss 0.0620\n",
            "Epoch 11 Batch 700 Loss 0.0989\n",
            "Epoch 11 Batch 800 Loss 0.1006\n",
            "Epoch 11 Batch 900 Loss 0.0907\n",
            "Epoch 11 Batch 1000 Loss 0.1206\n",
            "Epoch 11 Batch 1100 Loss 0.1438\n",
            "Epoch 11 Batch 1200 Loss 0.1088\n",
            "Epoch 11 Loss 0.0889\n",
            "Time taken for 1 epoch 126.23992919921875 sec\n",
            "\n",
            "Epoch 12 Batch 0 Loss 0.0597\n",
            "Epoch 12 Batch 100 Loss 0.0945\n",
            "Epoch 12 Batch 200 Loss 0.0934\n",
            "Epoch 12 Batch 300 Loss 0.0710\n",
            "Epoch 12 Batch 400 Loss 0.0666\n",
            "Epoch 12 Batch 500 Loss 0.1004\n",
            "Epoch 12 Batch 600 Loss 0.0903\n",
            "Epoch 12 Batch 700 Loss 0.0836\n",
            "Epoch 12 Batch 800 Loss 0.1025\n",
            "Epoch 12 Batch 900 Loss 0.0637\n",
            "Epoch 12 Batch 1000 Loss 0.1018\n",
            "Epoch 12 Batch 1100 Loss 0.0874\n",
            "Epoch 12 Batch 1200 Loss 0.1105\n",
            "Epoch 12 Loss 0.0831\n",
            "Time taken for 1 epoch 128.45361328125 sec\n",
            "\n",
            "Epoch 13 Batch 0 Loss 0.0823\n",
            "Epoch 13 Batch 100 Loss 0.0671\n",
            "Epoch 13 Batch 200 Loss 0.0419\n",
            "Epoch 13 Batch 300 Loss 0.0762\n",
            "Epoch 13 Batch 400 Loss 0.0622\n",
            "Epoch 13 Batch 500 Loss 0.1020\n",
            "Epoch 13 Batch 600 Loss 0.0960\n",
            "Epoch 13 Batch 700 Loss 0.0773\n",
            "Epoch 13 Batch 800 Loss 0.0673\n",
            "Epoch 13 Batch 900 Loss 0.0660\n",
            "Epoch 13 Batch 1000 Loss 0.0693\n",
            "Epoch 13 Batch 1100 Loss 0.1030\n",
            "Epoch 13 Batch 1200 Loss 0.0671\n",
            "Epoch 13 Loss 0.0798\n",
            "Time taken for 1 epoch 128.51217579841614 sec\n",
            "\n",
            "Epoch 14 Batch 0 Loss 0.0462\n",
            "Epoch 14 Batch 100 Loss 0.1055\n",
            "Epoch 14 Batch 200 Loss 0.0723\n",
            "Epoch 14 Batch 300 Loss 0.1011\n",
            "Epoch 14 Batch 400 Loss 0.0862\n",
            "Epoch 14 Batch 500 Loss 0.0576\n",
            "Epoch 14 Batch 600 Loss 0.0834\n",
            "Epoch 14 Batch 700 Loss 0.0676\n",
            "Epoch 14 Batch 800 Loss 0.0826\n",
            "Epoch 14 Batch 900 Loss 0.0823\n",
            "Epoch 14 Batch 1000 Loss 0.0927\n",
            "Epoch 14 Batch 1100 Loss 0.0706\n",
            "Epoch 14 Batch 1200 Loss 0.1334\n",
            "Epoch 14 Loss 0.0776\n",
            "Time taken for 1 epoch 132.15610671043396 sec\n",
            "\n",
            "Epoch 15 Batch 0 Loss 0.0436\n",
            "Epoch 15 Batch 100 Loss 0.0282\n",
            "Epoch 15 Batch 200 Loss 0.0691\n",
            "Epoch 15 Batch 300 Loss 0.0814\n",
            "Epoch 15 Batch 400 Loss 0.0920\n",
            "Epoch 15 Batch 500 Loss 0.0452\n",
            "Epoch 15 Batch 600 Loss 0.0769\n",
            "Epoch 15 Batch 700 Loss 0.0725\n",
            "Epoch 15 Batch 800 Loss 0.1284\n",
            "Epoch 15 Batch 900 Loss 0.0655\n",
            "Epoch 15 Batch 1000 Loss 0.1099\n",
            "Epoch 15 Batch 1100 Loss 0.0910\n",
            "Epoch 15 Batch 1200 Loss 0.0681\n",
            "Epoch 15 Loss 0.0732\n",
            "Time taken for 1 epoch 128.62530279159546 sec\n",
            "\n",
            "Epoch 16 Batch 0 Loss 0.0567\n",
            "Epoch 16 Batch 100 Loss 0.0810\n",
            "Epoch 16 Batch 200 Loss 0.0691\n",
            "Epoch 16 Batch 300 Loss 0.0556\n",
            "Epoch 16 Batch 400 Loss 0.0675\n",
            "Epoch 16 Batch 500 Loss 0.0558\n",
            "Epoch 16 Batch 600 Loss 0.0937\n",
            "Epoch 16 Batch 700 Loss 0.0788\n",
            "Epoch 16 Batch 800 Loss 0.0665\n",
            "Epoch 16 Batch 900 Loss 0.0657\n",
            "Epoch 16 Batch 1000 Loss 0.0964\n",
            "Epoch 16 Batch 1100 Loss 0.0843\n",
            "Epoch 16 Batch 1200 Loss 0.0735\n",
            "Epoch 16 Loss 0.0720\n",
            "Time taken for 1 epoch 129.5021288394928 sec\n",
            "\n",
            "Epoch 17 Batch 0 Loss 0.0653\n",
            "Epoch 17 Batch 100 Loss 0.0459\n",
            "Epoch 17 Batch 200 Loss 0.0459\n",
            "Epoch 17 Batch 300 Loss 0.0607\n",
            "Epoch 17 Batch 400 Loss 0.0824\n",
            "Epoch 17 Batch 500 Loss 0.0472\n",
            "Epoch 17 Batch 600 Loss 0.0825\n",
            "Epoch 17 Batch 700 Loss 0.0418\n",
            "Epoch 17 Batch 800 Loss 0.0801\n",
            "Epoch 17 Batch 900 Loss 0.0645\n",
            "Epoch 17 Batch 1000 Loss 0.0924\n",
            "Epoch 17 Batch 1100 Loss 0.1028\n",
            "Epoch 17 Batch 1200 Loss 0.0902\n",
            "Epoch 17 Loss 0.0702\n",
            "Time taken for 1 epoch 128.51734161376953 sec\n",
            "\n",
            "Epoch 18 Batch 0 Loss 0.0576\n",
            "Epoch 18 Batch 100 Loss 0.0644\n",
            "Epoch 18 Batch 200 Loss 0.0675\n",
            "Epoch 18 Batch 300 Loss 0.0529\n",
            "Epoch 18 Batch 400 Loss 0.0503\n",
            "Epoch 18 Batch 500 Loss 0.0567\n",
            "Epoch 18 Batch 600 Loss 0.0522\n",
            "Epoch 18 Batch 700 Loss 0.0461\n",
            "Epoch 18 Batch 800 Loss 0.0438\n",
            "Epoch 18 Batch 900 Loss 0.0597\n",
            "Epoch 18 Batch 1000 Loss 0.0996\n",
            "Epoch 18 Batch 1100 Loss 0.1027\n",
            "Epoch 18 Batch 1200 Loss 0.0592\n",
            "Epoch 18 Loss 0.0680\n",
            "Time taken for 1 epoch 134.26228141784668 sec\n",
            "\n",
            "Epoch 19 Batch 0 Loss 0.0383\n",
            "Epoch 19 Batch 100 Loss 0.0708\n",
            "Epoch 19 Batch 200 Loss 0.0368\n",
            "Epoch 19 Batch 300 Loss 0.0423\n",
            "Epoch 19 Batch 400 Loss 0.0433\n",
            "Epoch 19 Batch 500 Loss 0.0528\n",
            "Epoch 19 Batch 600 Loss 0.0607\n",
            "Epoch 19 Batch 700 Loss 0.0877\n",
            "Epoch 19 Batch 800 Loss 0.0806\n",
            "Epoch 19 Batch 900 Loss 0.0662\n",
            "Epoch 19 Batch 1000 Loss 0.1036\n",
            "Epoch 19 Batch 1100 Loss 0.0539\n",
            "Epoch 19 Batch 1200 Loss 0.0948\n",
            "Epoch 19 Loss 0.0670\n",
            "Time taken for 1 epoch 127.29752016067505 sec\n",
            "\n",
            "Epoch 20 Batch 0 Loss 0.0745\n",
            "Epoch 20 Batch 100 Loss 0.0361\n",
            "Epoch 20 Batch 200 Loss 0.0653\n",
            "Epoch 20 Batch 300 Loss 0.0532\n",
            "Epoch 20 Batch 400 Loss 0.0409\n",
            "Epoch 20 Batch 500 Loss 0.0344\n",
            "Epoch 20 Batch 600 Loss 0.0728\n",
            "Epoch 20 Batch 700 Loss 0.0795\n",
            "Epoch 20 Batch 800 Loss 0.0612\n",
            "Epoch 20 Batch 900 Loss 0.0938\n",
            "Epoch 20 Batch 1000 Loss 0.0762\n",
            "Epoch 20 Batch 1100 Loss 0.0765\n",
            "Epoch 20 Batch 1200 Loss 0.0855\n",
            "Epoch 20 Loss 0.0659\n",
            "Time taken for 1 epoch 127.75442862510681 sec\n",
            "\n",
            "Epoch 21 Batch 0 Loss 0.0346\n",
            "Epoch 21 Batch 100 Loss 0.0339\n",
            "Epoch 21 Batch 200 Loss 0.0972\n",
            "Epoch 21 Batch 300 Loss 0.0723\n",
            "Epoch 21 Batch 400 Loss 0.0465\n",
            "Epoch 21 Batch 500 Loss 0.0569\n",
            "Epoch 21 Batch 600 Loss 0.0989\n",
            "Epoch 21 Batch 700 Loss 0.0731\n",
            "Epoch 21 Batch 800 Loss 0.1044\n",
            "Epoch 21 Batch 900 Loss 0.0447\n",
            "Epoch 21 Batch 1000 Loss 0.0599\n",
            "Epoch 21 Batch 1100 Loss 0.0505\n",
            "Epoch 21 Batch 1200 Loss 0.0624\n",
            "Epoch 21 Loss 0.0650\n",
            "Time taken for 1 epoch 126.6010627746582 sec\n",
            "\n",
            "Epoch 22 Batch 0 Loss 0.0670\n",
            "Epoch 22 Batch 100 Loss 0.0636\n",
            "Epoch 22 Batch 200 Loss 0.0313\n",
            "Epoch 22 Batch 300 Loss 0.0794\n",
            "Epoch 22 Batch 400 Loss 0.0485\n",
            "Epoch 22 Batch 500 Loss 0.0514\n",
            "Epoch 22 Batch 600 Loss 0.0773\n",
            "Epoch 22 Batch 700 Loss 0.0738\n",
            "Epoch 22 Batch 800 Loss 0.0918\n",
            "Epoch 22 Batch 900 Loss 0.0701\n",
            "Epoch 22 Batch 1000 Loss 0.0955\n",
            "Epoch 22 Batch 1100 Loss 0.0752\n",
            "Epoch 22 Batch 1200 Loss 0.0627\n",
            "Epoch 22 Loss 0.0639\n",
            "Time taken for 1 epoch 128.5302770137787 sec\n",
            "\n",
            "Epoch 23 Batch 0 Loss 0.0472\n",
            "Epoch 23 Batch 100 Loss 0.0594\n",
            "Epoch 23 Batch 200 Loss 0.0347\n",
            "Epoch 23 Batch 300 Loss 0.0689\n",
            "Epoch 23 Batch 400 Loss 0.0430\n",
            "Epoch 23 Batch 500 Loss 0.0687\n",
            "Epoch 23 Batch 600 Loss 0.0575\n",
            "Epoch 23 Batch 700 Loss 0.0295\n",
            "Epoch 23 Batch 800 Loss 0.0419\n",
            "Epoch 23 Batch 900 Loss 0.0534\n",
            "Epoch 23 Batch 1000 Loss 0.0860\n",
            "Epoch 23 Batch 1100 Loss 0.0575\n",
            "Epoch 23 Batch 1200 Loss 0.0812\n",
            "Epoch 23 Loss 0.0623\n",
            "Time taken for 1 epoch 126.29910373687744 sec\n",
            "\n",
            "Epoch 24 Batch 0 Loss 0.0542\n",
            "Epoch 24 Batch 100 Loss 0.0739\n",
            "Epoch 24 Batch 200 Loss 0.0449\n",
            "Epoch 24 Batch 300 Loss 0.0519\n",
            "Epoch 24 Batch 400 Loss 0.0289\n",
            "Epoch 24 Batch 500 Loss 0.0579\n",
            "Epoch 24 Batch 600 Loss 0.0510\n",
            "Epoch 24 Batch 700 Loss 0.0759\n",
            "Epoch 24 Batch 800 Loss 0.0457\n",
            "Epoch 24 Batch 900 Loss 0.0497\n",
            "Epoch 24 Batch 1000 Loss 0.0915\n",
            "Epoch 24 Batch 1100 Loss 0.0637\n",
            "Epoch 24 Batch 1200 Loss 0.0475\n",
            "Epoch 24 Loss 0.0610\n",
            "Time taken for 1 epoch 132.49408984184265 sec\n",
            "\n",
            "Epoch 25 Batch 0 Loss 0.0532\n",
            "Epoch 25 Batch 100 Loss 0.0649\n",
            "Epoch 25 Batch 200 Loss 0.0619\n",
            "Epoch 25 Batch 300 Loss 0.0464\n",
            "Epoch 25 Batch 400 Loss 0.0560\n",
            "Epoch 25 Batch 500 Loss 0.1170\n",
            "Epoch 25 Batch 600 Loss 0.0756\n",
            "Epoch 25 Batch 700 Loss 0.0531\n",
            "Epoch 25 Batch 800 Loss 0.0645\n",
            "Epoch 25 Batch 900 Loss 0.0726\n",
            "Epoch 25 Batch 1000 Loss 0.0744\n",
            "Epoch 25 Batch 1100 Loss 0.1177\n",
            "Epoch 25 Batch 1200 Loss 0.0719\n",
            "Epoch 25 Loss 0.0620\n",
            "Time taken for 1 epoch 125.91962480545044 sec\n",
            "\n",
            "Epoch 26 Batch 0 Loss 0.0339\n",
            "Epoch 26 Batch 100 Loss 0.0657\n",
            "Epoch 26 Batch 200 Loss 0.0651\n",
            "Epoch 26 Batch 300 Loss 0.0859\n",
            "Epoch 26 Batch 400 Loss 0.0630\n",
            "Epoch 26 Batch 500 Loss 0.0546\n",
            "Epoch 26 Batch 600 Loss 0.0460\n",
            "Epoch 26 Batch 700 Loss 0.0564\n",
            "Epoch 26 Batch 800 Loss 0.0556\n",
            "Epoch 26 Batch 900 Loss 0.0689\n",
            "Epoch 26 Batch 1000 Loss 0.0612\n",
            "Epoch 26 Batch 1100 Loss 0.0628\n",
            "Epoch 26 Batch 1200 Loss 0.0794\n",
            "Epoch 26 Loss 0.0601\n",
            "Time taken for 1 epoch 132.43173050880432 sec\n",
            "\n",
            "Epoch 27 Batch 0 Loss 0.0520\n",
            "Epoch 27 Batch 100 Loss 0.0511\n",
            "Epoch 27 Batch 200 Loss 0.0305\n",
            "Epoch 27 Batch 300 Loss 0.0376\n",
            "Epoch 27 Batch 400 Loss 0.0655\n",
            "Epoch 27 Batch 500 Loss 0.0653\n",
            "Epoch 27 Batch 600 Loss 0.0614\n",
            "Epoch 27 Batch 700 Loss 0.0625\n",
            "Epoch 27 Batch 800 Loss 0.0655\n",
            "Epoch 27 Batch 900 Loss 0.0565\n",
            "Epoch 27 Batch 1000 Loss 0.0966\n",
            "Epoch 27 Batch 1100 Loss 0.0515\n",
            "Epoch 27 Batch 1200 Loss 0.0785\n",
            "Epoch 27 Loss 0.0584\n",
            "Time taken for 1 epoch 125.95860767364502 sec\n",
            "\n",
            "Epoch 28 Batch 0 Loss 0.0342\n",
            "Epoch 28 Batch 100 Loss 0.0443\n",
            "Epoch 28 Batch 200 Loss 0.0367\n",
            "Epoch 28 Batch 300 Loss 0.0394\n",
            "Epoch 28 Batch 400 Loss 0.0321\n",
            "Epoch 28 Batch 500 Loss 0.0792\n",
            "Epoch 28 Batch 600 Loss 0.0476\n",
            "Epoch 28 Batch 700 Loss 0.0535\n",
            "Epoch 28 Batch 800 Loss 0.0620\n",
            "Epoch 28 Batch 900 Loss 0.0793\n",
            "Epoch 28 Batch 1000 Loss 0.0416\n",
            "Epoch 28 Batch 1100 Loss 0.0663\n",
            "Epoch 28 Batch 1200 Loss 0.0709\n",
            "Epoch 28 Loss 0.0584\n",
            "Time taken for 1 epoch 132.40794825553894 sec\n",
            "\n",
            "Epoch 29 Batch 0 Loss 0.0390\n",
            "Epoch 29 Batch 100 Loss 0.0387\n",
            "Epoch 29 Batch 200 Loss 0.0346\n",
            "Epoch 29 Batch 300 Loss 0.0389\n",
            "Epoch 29 Batch 400 Loss 0.0457\n",
            "Epoch 29 Batch 500 Loss 0.0562\n",
            "Epoch 29 Batch 600 Loss 0.0373\n",
            "Epoch 29 Batch 700 Loss 0.0746\n",
            "Epoch 29 Batch 800 Loss 0.0716\n",
            "Epoch 29 Batch 900 Loss 0.0662\n",
            "Epoch 29 Batch 1000 Loss 0.0437\n",
            "Epoch 29 Batch 1100 Loss 0.0976\n",
            "Epoch 29 Batch 1200 Loss 0.0795\n",
            "Epoch 29 Loss 0.0575\n",
            "Time taken for 1 epoch 125.83613705635071 sec\n",
            "\n",
            "Epoch 30 Batch 0 Loss 0.0444\n",
            "Epoch 30 Batch 100 Loss 0.0356\n",
            "Epoch 30 Batch 200 Loss 0.0678\n",
            "Epoch 30 Batch 300 Loss 0.0363\n",
            "Epoch 30 Batch 400 Loss 0.0319\n",
            "Epoch 30 Batch 500 Loss 0.0452\n",
            "Epoch 30 Batch 600 Loss 0.0416\n",
            "Epoch 30 Batch 700 Loss 0.0440\n",
            "Epoch 30 Batch 800 Loss 0.0515\n",
            "Epoch 30 Batch 900 Loss 0.0526\n",
            "Epoch 30 Batch 1000 Loss 0.1013\n",
            "Epoch 30 Batch 1100 Loss 0.0484\n",
            "Epoch 30 Batch 1200 Loss 0.0626\n",
            "Epoch 30 Loss 0.0571\n",
            "Time taken for 1 epoch 132.42486691474915 sec\n",
            "\n",
            "Epoch 31 Batch 0 Loss 0.0332\n",
            "Epoch 31 Batch 100 Loss 0.0568\n",
            "Epoch 31 Batch 200 Loss 0.0312\n",
            "Epoch 31 Batch 300 Loss 0.0471\n",
            "Epoch 31 Batch 400 Loss 0.0500\n",
            "Epoch 31 Batch 500 Loss 0.0630\n",
            "Epoch 31 Batch 600 Loss 0.0631\n",
            "Epoch 31 Batch 700 Loss 0.0514\n",
            "Epoch 31 Batch 800 Loss 0.0616\n",
            "Epoch 31 Batch 900 Loss 0.0725\n",
            "Epoch 31 Batch 1000 Loss 0.0996\n",
            "Epoch 31 Batch 1100 Loss 0.0619\n",
            "Epoch 31 Batch 1200 Loss 0.0769\n",
            "Epoch 31 Loss 0.0569\n",
            "Time taken for 1 epoch 125.8376476764679 sec\n",
            "\n",
            "Epoch 32 Batch 0 Loss 0.0305\n",
            "Epoch 32 Batch 100 Loss 0.0357\n",
            "Epoch 32 Batch 200 Loss 0.0398\n",
            "Epoch 32 Batch 300 Loss 0.0389\n",
            "Epoch 32 Batch 400 Loss 0.0377\n",
            "Epoch 32 Batch 500 Loss 0.0585\n",
            "Epoch 32 Batch 600 Loss 0.0533\n",
            "Epoch 32 Batch 700 Loss 0.0796\n",
            "Epoch 32 Batch 800 Loss 0.0504\n",
            "Epoch 32 Batch 900 Loss 0.0714\n",
            "Epoch 32 Batch 1000 Loss 0.0529\n",
            "Epoch 32 Batch 1100 Loss 0.0605\n",
            "Epoch 32 Batch 1200 Loss 0.0658\n",
            "Epoch 32 Loss 0.0557\n",
            "Time taken for 1 epoch 127.22488641738892 sec\n",
            "\n",
            "Epoch 33 Batch 0 Loss 0.0349\n",
            "Epoch 33 Batch 100 Loss 0.0241\n",
            "Epoch 33 Batch 200 Loss 0.0517\n",
            "Epoch 33 Batch 300 Loss 0.0628\n",
            "Epoch 33 Batch 400 Loss 0.0510\n",
            "Epoch 33 Batch 500 Loss 0.0534\n",
            "Epoch 33 Batch 600 Loss 0.0662\n",
            "Epoch 33 Batch 700 Loss 0.0728\n",
            "Epoch 33 Batch 800 Loss 0.0883\n",
            "Epoch 33 Batch 900 Loss 0.0712\n",
            "Epoch 33 Batch 1000 Loss 0.0623\n",
            "Epoch 33 Batch 1100 Loss 0.0624\n",
            "Epoch 33 Batch 1200 Loss 0.0752\n",
            "Epoch 33 Loss 0.0554\n",
            "Time taken for 1 epoch 126.13372302055359 sec\n",
            "\n",
            "Epoch 34 Batch 0 Loss 0.0535\n",
            "Epoch 34 Batch 100 Loss 0.0386\n",
            "Epoch 34 Batch 200 Loss 0.0276\n",
            "Epoch 34 Batch 300 Loss 0.0712\n",
            "Epoch 34 Batch 400 Loss 0.0514\n",
            "Epoch 34 Batch 500 Loss 0.0653\n",
            "Epoch 34 Batch 600 Loss 0.0543\n",
            "Epoch 34 Batch 700 Loss 0.0492\n",
            "Epoch 34 Batch 800 Loss 0.0770\n",
            "Epoch 34 Batch 900 Loss 0.0552\n",
            "Epoch 34 Batch 1000 Loss 0.0576\n",
            "Epoch 34 Batch 1100 Loss 0.0976\n",
            "Epoch 34 Batch 1200 Loss 0.0494\n",
            "Epoch 34 Loss 0.0548\n",
            "Time taken for 1 epoch 132.43923139572144 sec\n",
            "\n",
            "Epoch 35 Batch 0 Loss 0.0409\n",
            "Epoch 35 Batch 100 Loss 0.0334\n",
            "Epoch 35 Batch 200 Loss 0.0431\n",
            "Epoch 35 Batch 300 Loss 0.0746\n",
            "Epoch 35 Batch 400 Loss 0.0407\n",
            "Epoch 35 Batch 500 Loss 0.0450\n",
            "Epoch 35 Batch 600 Loss 0.0468\n",
            "Epoch 35 Batch 700 Loss 0.0581\n",
            "Epoch 35 Batch 800 Loss 0.0497\n",
            "Epoch 35 Batch 900 Loss 0.0465\n",
            "Epoch 35 Batch 1000 Loss 0.0573\n",
            "Epoch 35 Batch 1100 Loss 0.0467\n",
            "Epoch 35 Batch 1200 Loss 0.0793\n",
            "Epoch 35 Loss 0.0535\n",
            "Time taken for 1 epoch 125.87188267707825 sec\n",
            "\n",
            "Epoch 36 Batch 0 Loss 0.0548\n",
            "Epoch 36 Batch 100 Loss 0.0369\n",
            "Epoch 36 Batch 200 Loss 0.0428\n",
            "Epoch 36 Batch 300 Loss 0.0314\n",
            "Epoch 36 Batch 400 Loss 0.0441\n",
            "Epoch 36 Batch 500 Loss 0.0396\n",
            "Epoch 36 Batch 600 Loss 0.0511\n",
            "Epoch 36 Batch 700 Loss 0.0475\n",
            "Epoch 36 Batch 800 Loss 0.0645\n",
            "Epoch 36 Batch 900 Loss 0.0538\n",
            "Epoch 36 Batch 1000 Loss 0.0607\n",
            "Epoch 36 Batch 1100 Loss 0.0581\n",
            "Epoch 36 Batch 1200 Loss 0.0503\n",
            "Epoch 36 Loss 0.0527\n",
            "Time taken for 1 epoch 127.49966931343079 sec\n",
            "\n",
            "Epoch 37 Batch 0 Loss 0.0420\n",
            "Epoch 37 Batch 100 Loss 0.0353\n",
            "Epoch 37 Batch 200 Loss 0.0489\n",
            "Epoch 37 Batch 300 Loss 0.0728\n",
            "Epoch 37 Batch 400 Loss 0.0753\n",
            "Epoch 37 Batch 500 Loss 0.0347\n",
            "Epoch 37 Batch 600 Loss 0.0439\n",
            "Epoch 37 Batch 700 Loss 0.0312\n",
            "Epoch 37 Batch 800 Loss 0.0541\n",
            "Epoch 37 Batch 900 Loss 0.0614\n",
            "Epoch 37 Batch 1000 Loss 0.0466\n",
            "Epoch 37 Batch 1100 Loss 0.0600\n",
            "Epoch 37 Batch 1200 Loss 0.0295\n",
            "Epoch 37 Loss 0.0538\n",
            "Time taken for 1 epoch 126.21831226348877 sec\n",
            "\n",
            "Epoch 38 Batch 0 Loss 0.0296\n",
            "Epoch 38 Batch 100 Loss 0.0475\n",
            "Epoch 38 Batch 200 Loss 0.0836\n",
            "Epoch 38 Batch 300 Loss 0.0401\n",
            "Epoch 38 Batch 400 Loss 0.0561\n",
            "Epoch 38 Batch 500 Loss 0.0480\n",
            "Epoch 38 Batch 600 Loss 0.0606\n",
            "Epoch 38 Batch 700 Loss 0.0695\n",
            "Epoch 38 Batch 800 Loss 0.0417\n",
            "Epoch 38 Batch 900 Loss 0.0404\n",
            "Epoch 38 Batch 1000 Loss 0.0985\n",
            "Epoch 38 Batch 1100 Loss 0.0821\n",
            "Epoch 38 Batch 1200 Loss 0.0396\n",
            "Epoch 38 Loss 0.0523\n",
            "Time taken for 1 epoch 127.77520489692688 sec\n",
            "\n",
            "Epoch 39 Batch 0 Loss 0.0402\n",
            "Epoch 39 Batch 100 Loss 0.0407\n",
            "Epoch 39 Batch 200 Loss 0.0283\n",
            "Epoch 39 Batch 300 Loss 0.0624\n",
            "Epoch 39 Batch 400 Loss 0.0456\n",
            "Epoch 39 Batch 500 Loss 0.0533\n",
            "Epoch 39 Batch 600 Loss 0.0623\n",
            "Epoch 39 Batch 700 Loss 0.0468\n",
            "Epoch 39 Batch 800 Loss 0.0509\n",
            "Epoch 39 Batch 900 Loss 0.0495\n",
            "Epoch 39 Batch 1000 Loss 0.0403\n",
            "Epoch 39 Batch 1100 Loss 0.0717\n",
            "Epoch 39 Batch 1200 Loss 0.0642\n",
            "Epoch 39 Loss 0.0524\n",
            "Time taken for 1 epoch 126.09564781188965 sec\n",
            "\n",
            "Epoch 40 Batch 0 Loss 0.0354\n",
            "Epoch 40 Batch 100 Loss 0.0180\n",
            "Epoch 40 Batch 200 Loss 0.0333\n",
            "Epoch 40 Batch 300 Loss 0.0554\n",
            "Epoch 40 Batch 400 Loss 0.0503\n",
            "Epoch 40 Batch 500 Loss 0.0463\n",
            "Epoch 40 Batch 600 Loss 0.0308\n",
            "Epoch 40 Batch 700 Loss 0.0371\n",
            "Epoch 40 Batch 800 Loss 0.0536\n",
            "Epoch 40 Batch 900 Loss 0.0530\n",
            "Epoch 40 Batch 1000 Loss 0.0903\n",
            "Epoch 40 Batch 1100 Loss 0.0471\n",
            "Epoch 40 Batch 1200 Loss 0.0613\n",
            "Epoch 40 Loss 0.0516\n",
            "Time taken for 1 epoch 131.17887997627258 sec\n",
            "\n",
            "Epoch 41 Batch 0 Loss 0.0454\n",
            "Epoch 41 Batch 100 Loss 0.0372\n",
            "Epoch 41 Batch 200 Loss 0.0479\n",
            "Epoch 41 Batch 300 Loss 0.0385\n",
            "Epoch 41 Batch 400 Loss 0.0838\n",
            "Epoch 41 Batch 500 Loss 0.0538\n",
            "Epoch 41 Batch 600 Loss 0.0499\n",
            "Epoch 41 Batch 700 Loss 0.0540\n",
            "Epoch 41 Batch 800 Loss 0.0675\n",
            "Epoch 41 Batch 900 Loss 0.0856\n",
            "Epoch 41 Batch 1000 Loss 0.0437\n",
            "Epoch 41 Batch 1100 Loss 0.0417\n",
            "Epoch 41 Batch 1200 Loss 0.0747\n",
            "Epoch 41 Loss 0.0515\n",
            "Time taken for 1 epoch 127.9287805557251 sec\n",
            "\n",
            "Epoch 42 Batch 0 Loss 0.0411\n",
            "Epoch 42 Batch 100 Loss 0.0274\n",
            "Epoch 42 Batch 200 Loss 0.0637\n",
            "Epoch 42 Batch 300 Loss 0.0426\n",
            "Epoch 42 Batch 400 Loss 0.0408\n",
            "Epoch 42 Batch 500 Loss 0.0569\n",
            "Epoch 42 Batch 600 Loss 0.0434\n",
            "Epoch 42 Batch 700 Loss 0.0428\n",
            "Epoch 42 Batch 800 Loss 0.0620\n",
            "Epoch 42 Batch 900 Loss 0.0821\n",
            "Epoch 42 Batch 1000 Loss 0.0858\n",
            "Epoch 42 Batch 1100 Loss 0.0855\n",
            "Epoch 42 Batch 1200 Loss 0.0523\n",
            "Epoch 42 Loss 0.0510\n",
            "Time taken for 1 epoch 130.9504325389862 sec\n",
            "\n",
            "Epoch 43 Batch 0 Loss 0.0434\n",
            "Epoch 43 Batch 100 Loss 0.0358\n",
            "Epoch 43 Batch 200 Loss 0.0287\n",
            "Epoch 43 Batch 300 Loss 0.0416\n",
            "Epoch 43 Batch 400 Loss 0.0438\n",
            "Epoch 43 Batch 500 Loss 0.0486\n",
            "Epoch 43 Batch 600 Loss 0.0656\n",
            "Epoch 43 Batch 700 Loss 0.0400\n",
            "Epoch 43 Batch 800 Loss 0.0688\n",
            "Epoch 43 Batch 900 Loss 0.0489\n",
            "Epoch 43 Batch 1000 Loss 0.0614\n",
            "Epoch 43 Batch 1100 Loss 0.0659\n",
            "Epoch 43 Batch 1200 Loss 0.0617\n",
            "Epoch 43 Loss 0.0503\n",
            "Time taken for 1 epoch 127.93514084815979 sec\n",
            "\n",
            "Epoch 44 Batch 0 Loss 0.0296\n",
            "Epoch 44 Batch 100 Loss 0.0412\n",
            "Epoch 44 Batch 200 Loss 0.0515\n",
            "Epoch 44 Batch 300 Loss 0.0240\n",
            "Epoch 44 Batch 400 Loss 0.0288\n",
            "Epoch 44 Batch 500 Loss 0.0676\n",
            "Epoch 44 Batch 600 Loss 0.0493\n",
            "Epoch 44 Batch 700 Loss 0.0558\n",
            "Epoch 44 Batch 800 Loss 0.0714\n",
            "Epoch 44 Batch 900 Loss 0.0550\n",
            "Epoch 44 Batch 1000 Loss 0.0444\n",
            "Epoch 44 Batch 1100 Loss 0.0563\n",
            "Epoch 44 Batch 1200 Loss 0.0535\n",
            "Epoch 44 Loss 0.0500\n",
            "Time taken for 1 epoch 134.12896513938904 sec\n",
            "\n",
            "Epoch 45 Batch 0 Loss 0.0244\n",
            "Epoch 45 Batch 100 Loss 0.0482\n",
            "Epoch 45 Batch 200 Loss 0.0249\n",
            "Epoch 45 Batch 300 Loss 0.0344\n",
            "Epoch 45 Batch 400 Loss 0.0682\n",
            "Epoch 45 Batch 500 Loss 0.0449\n",
            "Epoch 45 Batch 600 Loss 0.0553\n",
            "Epoch 45 Batch 700 Loss 0.0425\n",
            "Epoch 45 Batch 800 Loss 0.0340\n",
            "Epoch 45 Batch 900 Loss 0.0757\n",
            "Epoch 45 Batch 1000 Loss 0.0454\n",
            "Epoch 45 Batch 1100 Loss 0.0530\n",
            "Epoch 45 Batch 1200 Loss 0.0532\n",
            "Epoch 45 Loss 0.0505\n",
            "Time taken for 1 epoch 128.19409704208374 sec\n",
            "\n",
            "Epoch 46 Batch 0 Loss 0.0276\n",
            "Epoch 46 Batch 100 Loss 0.0490\n",
            "Epoch 46 Batch 200 Loss 0.0526\n",
            "Epoch 46 Batch 300 Loss 0.0517\n",
            "Epoch 46 Batch 400 Loss 0.0396\n",
            "Epoch 46 Batch 500 Loss 0.0589\n",
            "Epoch 46 Batch 600 Loss 0.0426\n",
            "Epoch 46 Batch 700 Loss 0.0743\n",
            "Epoch 46 Batch 800 Loss 0.0526\n",
            "Epoch 46 Batch 900 Loss 0.0410\n",
            "Epoch 46 Batch 1000 Loss 0.0587\n",
            "Epoch 46 Batch 1100 Loss 0.0346\n",
            "Epoch 46 Batch 1200 Loss 0.0515\n",
            "Epoch 46 Loss 0.0491\n",
            "Time taken for 1 epoch 131.64925074577332 sec\n",
            "\n",
            "Epoch 47 Batch 0 Loss 0.0343\n",
            "Epoch 47 Batch 100 Loss 0.0661\n",
            "Epoch 47 Batch 200 Loss 0.0450\n",
            "Epoch 47 Batch 300 Loss 0.0203\n",
            "Epoch 47 Batch 400 Loss 0.0368\n",
            "Epoch 47 Batch 500 Loss 0.0234\n",
            "Epoch 47 Batch 600 Loss 0.0448\n",
            "Epoch 47 Batch 700 Loss 0.0340\n",
            "Epoch 47 Batch 800 Loss 0.0419\n",
            "Epoch 47 Batch 900 Loss 0.0565\n",
            "Epoch 47 Batch 1000 Loss 0.0332\n",
            "Epoch 47 Batch 1100 Loss 0.0355\n",
            "Epoch 47 Batch 1200 Loss 0.0310\n",
            "Epoch 47 Loss 0.0488\n",
            "Time taken for 1 epoch 126.97710633277893 sec\n",
            "\n",
            "Epoch 48 Batch 0 Loss 0.0407\n",
            "Epoch 48 Batch 100 Loss 0.0215\n",
            "Epoch 48 Batch 200 Loss 0.0536\n",
            "Epoch 48 Batch 300 Loss 0.0296\n",
            "Epoch 48 Batch 400 Loss 0.0563\n",
            "Epoch 48 Batch 500 Loss 0.0431\n",
            "Epoch 48 Batch 600 Loss 0.0362\n",
            "Epoch 48 Batch 700 Loss 0.0520\n",
            "Epoch 48 Batch 800 Loss 0.0412\n",
            "Epoch 48 Batch 900 Loss 0.0639\n",
            "Epoch 48 Batch 1000 Loss 0.0486\n",
            "Epoch 48 Batch 1100 Loss 0.0540\n",
            "Epoch 48 Batch 1200 Loss 0.0536\n",
            "Epoch 48 Loss 0.0494\n",
            "Time taken for 1 epoch 131.22479510307312 sec\n",
            "\n",
            "Epoch 49 Batch 0 Loss 0.0310\n",
            "Epoch 49 Batch 100 Loss 0.0314\n",
            "Epoch 49 Batch 200 Loss 0.0347\n",
            "Epoch 49 Batch 300 Loss 0.0642\n",
            "Epoch 49 Batch 400 Loss 0.0385\n",
            "Epoch 49 Batch 500 Loss 0.0236\n",
            "Epoch 49 Batch 600 Loss 0.0768\n",
            "Epoch 49 Batch 700 Loss 0.0595\n",
            "Epoch 49 Batch 800 Loss 0.0480\n",
            "Epoch 49 Batch 900 Loss 0.0504\n",
            "Epoch 49 Batch 1000 Loss 0.0469\n",
            "Epoch 49 Batch 1100 Loss 0.0673\n",
            "Epoch 49 Batch 1200 Loss 0.0408\n",
            "Epoch 49 Loss 0.0489\n",
            "Time taken for 1 epoch 125.93052506446838 sec\n",
            "\n",
            "Epoch 50 Batch 0 Loss 0.0262\n",
            "Epoch 50 Batch 100 Loss 0.0238\n",
            "Epoch 50 Batch 200 Loss 0.0327\n",
            "Epoch 50 Batch 300 Loss 0.0214\n",
            "Epoch 50 Batch 400 Loss 0.0335\n",
            "Epoch 50 Batch 500 Loss 0.0448\n",
            "Epoch 50 Batch 600 Loss 0.0361\n",
            "Epoch 50 Batch 700 Loss 0.0605\n",
            "Epoch 50 Batch 800 Loss 0.0356\n",
            "Epoch 50 Batch 900 Loss 0.0597\n",
            "Epoch 50 Batch 1000 Loss 0.0430\n",
            "Epoch 50 Batch 1100 Loss 0.0425\n",
            "Epoch 50 Batch 1200 Loss 0.0544\n",
            "Epoch 50 Loss 0.0480\n",
            "Time taken for 1 epoch 127.1386330127716 sec\n",
            "\n"
          ]
        }
      ],
      "source": [
        "EPOCHS = 50\n",
        "\n",
        "for epoch in range(EPOCHS):\n",
        "  start = time.time()\n",
        "\n",
        "  enc_hidden = encoder.initialize_hidden_state()\n",
        "  total_loss = 0\n",
        "\n",
        "  for (batch, (inp, targ)) in enumerate(dataset.take(steps_per_epoch)):\n",
        "    batch_loss = train_step(inp, targ, enc_hidden)\n",
        "    total_loss += batch_loss\n",
        "\n",
        "    if batch % 100 == 0:\n",
        "      print('Epoch {} Batch {} Loss {:.4f}'.format(epoch + 1,\n",
        "                                                   batch,\n",
        "                                                   batch_loss.numpy()))\n",
        "  # saving (checkpoint) the model every 2 epochs\n",
        "  if (epoch + 1) % 2 == 0:\n",
        "    checkpoint.save(file_prefix = checkpoint_prefix)\n",
        "\n",
        "  print('Epoch {} Loss {:.4f}'.format(epoch + 1,\n",
        "                                      total_loss / steps_per_epoch))\n",
        "  print('Time taken for 1 epoch {} sec\\n'.format(time.time() - start))"
      ]
    },
    {
      "cell_type": "markdown",
      "metadata": {
        "id": "mU3Ce8M6I3rz"
      },
      "source": [
        "## Translate\n",
        "\n",
        "* The evaluate function is similar to the training loop, except we don't use *teacher forcing* here. The input to the decoder at each time step is its previous predictions along with the hidden state and the encoder output.\n",
        "* Stop predicting when the model predicts the *end token*.\n",
        "* And store the *attention weights for every time step*.\n",
        "\n",
        "Note: The encoder output is calculated only once for one input."
      ]
    },
    {
      "cell_type": "code",
      "execution_count": 29,
      "metadata": {
        "id": "EbQpyYs13jF_"
      },
      "outputs": [],
      "source": [
        "def evaluate(sentence):\n",
        "  attention_plot = np.zeros((max_length_targ, max_length_inp))\n",
        "\n",
        "  sentence = preprocess_sentence(sentence)\n",
        "\n",
        "  inputs = [inp_lang.word_index[i] for i in sentence.split(' ')]\n",
        "  inputs = tf.keras.preprocessing.sequence.pad_sequences([inputs],\n",
        "                                                         maxlen=max_length_inp,\n",
        "                                                         padding='post')\n",
        "  inputs = tf.convert_to_tensor(inputs)\n",
        "\n",
        "  result = ''\n",
        "\n",
        "  hidden = [tf.zeros((1, units))]\n",
        "  enc_out, enc_hidden = encoder(inputs, hidden)\n",
        "\n",
        "  dec_hidden = enc_hidden\n",
        "  dec_input = tf.expand_dims([targ_lang.word_index['<start>']], 0)\n",
        "\n",
        "  for t in range(max_length_targ):\n",
        "    predictions, dec_hidden, attention_weights = decoder(dec_input,\n",
        "                                                         dec_hidden,\n",
        "                                                         enc_out)\n",
        "\n",
        "    # storing the attention weights to plot later on\n",
        "    attention_weights = tf.reshape(attention_weights, (-1, ))\n",
        "    attention_plot[t] = attention_weights.numpy()\n",
        "\n",
        "    predicted_id = tf.argmax(predictions[0]).numpy()\n",
        "\n",
        "    result += targ_lang.index_word[predicted_id] + ' '\n",
        "\n",
        "    if targ_lang.index_word[predicted_id] == '<end>':\n",
        "      return result, sentence, attention_plot\n",
        "\n",
        "    # the predicted ID is fed back into the model\n",
        "    dec_input = tf.expand_dims([predicted_id], 0)\n",
        "\n",
        "  return result, sentence, attention_plot"
      ]
    },
    {
      "cell_type": "code",
      "execution_count": 30,
      "metadata": {
        "id": "Qjy26Fe8Bv5d"
      },
      "outputs": [],
      "source": [
        "# function for plotting the attention weights\n",
        "def plot_attention(attention, sentence, predicted_sentence):\n",
        "  fig = plt.figure(figsize=(10,10))\n",
        "  ax = fig.add_subplot(1, 1, 1)\n",
        "  ax.matshow(attention, cmap='viridis')\n",
        "\n",
        "  fontdict = {'fontsize': 14}\n",
        "\n",
        "  ax.set_xticklabels([''] + sentence, fontdict=fontdict, rotation=90)\n",
        "  ax.set_yticklabels([''] + predicted_sentence, fontdict=fontdict)\n",
        "\n",
        "  ax.xaxis.set_major_locator(ticker.MultipleLocator(1))\n",
        "  ax.yaxis.set_major_locator(ticker.MultipleLocator(1))\n",
        "\n",
        "  plt.show()"
      ]
    },
    {
      "cell_type": "code",
      "execution_count": 31,
      "metadata": {
        "id": "sl9zUHzg3jGI"
      },
      "outputs": [],
      "source": [
        "def translate(sentence):\n",
        "  result, sentence, attention_plot = evaluate(sentence)\n",
        "\n",
        "  print('Input: %s' % (sentence))\n",
        "  print('Predicted translation: {}'.format(result))\n",
        "\n",
        "  attention_plot = attention_plot[:len(result.split(' ')), :len(sentence.split(' '))]\n",
        "  plot_attention(attention_plot, sentence.split(' '), result.split(' '))"
      ]
    },
    {
      "cell_type": "markdown",
      "metadata": {
        "id": "n250XbnjOaqP"
      },
      "source": [
        "## Restore the latest checkpoint and test"
      ]
    },
    {
      "cell_type": "code",
      "execution_count": 32,
      "metadata": {
        "colab": {
          "base_uri": "https://localhost:8080/"
        },
        "id": "UJpT9D5_OgP6",
        "outputId": "89e6c187-a1c7-46fd-9c8d-bdde9e664b5f"
      },
      "outputs": [
        {
          "output_type": "execute_result",
          "data": {
            "text/plain": [
              "<tensorflow.python.checkpoint.checkpoint.CheckpointLoadStatus at 0x7e5724629840>"
            ]
          },
          "metadata": {},
          "execution_count": 32
        }
      ],
      "source": [
        "# restoring the latest checkpoint in checkpoint_dir\n",
        "checkpoint.restore(tf.train.latest_checkpoint(checkpoint_dir))"
      ]
    },
    {
      "cell_type": "code",
      "execution_count": 33,
      "metadata": {
        "colab": {
          "base_uri": "https://localhost:8080/",
          "height": 1000
        },
        "id": "WrAM0FDomq3E",
        "outputId": "e5611a63-d197-4b41-b6d5-1497076f23e4"
      },
      "outputs": [
        {
          "output_type": "stream",
          "name": "stdout",
          "text": [
            "Input: <start> es ist schlimm hier . <end>\n",
            "Predicted translation: it's bad is worse . <end> \n"
          ]
        },
        {
          "output_type": "stream",
          "name": "stderr",
          "text": [
            "<ipython-input-30-ef64c003f9d5>:9: UserWarning: FixedFormatter should only be used together with FixedLocator\n",
            "  ax.set_xticklabels([''] + sentence, fontdict=fontdict, rotation=90)\n",
            "<ipython-input-30-ef64c003f9d5>:10: UserWarning: FixedFormatter should only be used together with FixedLocator\n",
            "  ax.set_yticklabels([''] + predicted_sentence, fontdict=fontdict)\n"
          ]
        },
        {
          "output_type": "display_data",
          "data": {
            "text/plain": [
              "<Figure size 1000x1000 with 1 Axes>"
            ],
            "image/png": "[encoded data removed]"
          },
          "metadata": {}
        }
      ],
      "source": [
        "translate('Es ist schlimm hier.') # Здесь плохо."
      ]
    },
    {
      "cell_type": "code",
      "execution_count": 34,
      "metadata": {
        "colab": {
          "base_uri": "https://localhost:8080/",
          "height": 1000
        },
        "id": "5bhFfwcIMX5i",
        "outputId": "446d541c-5ae4-401e-e8f0-127294b08179"
      },
      "outputs": [
        {
          "output_type": "stream",
          "name": "stdout",
          "text": [
            "Input: <start> ich kann mitfahren . <end>\n",
            "Predicted translation: i can ride a poor . <end> \n"
          ]
        },
        {
          "output_type": "stream",
          "name": "stderr",
          "text": [
            "<ipython-input-30-ef64c003f9d5>:9: UserWarning: FixedFormatter should only be used together with FixedLocator\n",
            "  ax.set_xticklabels([''] + sentence, fontdict=fontdict, rotation=90)\n",
            "<ipython-input-30-ef64c003f9d5>:10: UserWarning: FixedFormatter should only be used together with FixedLocator\n",
            "  ax.set_yticklabels([''] + predicted_sentence, fontdict=fontdict)\n"
          ]
        },
        {
          "output_type": "display_data",
          "data": {
            "text/plain": [
              "<Figure size 1000x1000 with 1 Axes>"
            ],
            "image/png": "[encoded data removed]"
          },
          "metadata": {}
        }
      ],
      "source": [
        "translate('Ich kann mitfahren.') # Я смогу поехать."
      ]
    },
    {
      "cell_type": "code",
      "execution_count": 35,
      "metadata": {
        "colab": {
          "base_uri": "https://localhost:8080/",
          "height": 922
        },
        "id": "zSx2iM36EZQZ",
        "outputId": "e382ef48-7ea0-427e-e0f1-8d4e8f3e4367"
      },
      "outputs": [
        {
          "output_type": "stream",
          "name": "stdout",
          "text": [
            "Input: <start> sind sie nicht mehr zu hause ? <end>\n",
            "Predicted translation: aren't you still at home ? <end> \n"
          ]
        },
        {
          "output_type": "stream",
          "name": "stderr",
          "text": [
            "<ipython-input-30-ef64c003f9d5>:9: UserWarning: FixedFormatter should only be used together with FixedLocator\n",
            "  ax.set_xticklabels([''] + sentence, fontdict=fontdict, rotation=90)\n",
            "<ipython-input-30-ef64c003f9d5>:10: UserWarning: FixedFormatter should only be used together with FixedLocator\n",
            "  ax.set_yticklabels([''] + predicted_sentence, fontdict=fontdict)\n"
          ]
        },
        {
          "output_type": "display_data",
          "data": {
            "text/plain": [
              "<Figure size 1000x1000 with 1 Axes>"
            ],
            "image/png": "[encoded data removed]"
          },
          "metadata": {}
        }
      ],
      "source": [
        "translate(u'Sind Sie nicht mehr zu Hause?') # Вы уже не дома?"
      ]
    },
    {
      "cell_type": "code",
      "execution_count": 36,
      "metadata": {
        "colab": {
          "base_uri": "https://localhost:8080/",
          "height": 776
        },
        "id": "A3LLCx3ZE0Ls",
        "outputId": "997f185d-6cd8-419d-b2fe-a7d91b68cee4"
      },
      "outputs": [
        {
          "output_type": "stream",
          "name": "stdout",
          "text": [
            "Input: <start> sind sie immer noch nicht zu hause ? <end>\n",
            "Predicted translation: aren't you home yet ? <end> \n"
          ]
        },
        {
          "output_type": "stream",
          "name": "stderr",
          "text": [
            "<ipython-input-30-ef64c003f9d5>:9: UserWarning: FixedFormatter should only be used together with FixedLocator\n",
            "  ax.set_xticklabels([''] + sentence, fontdict=fontdict, rotation=90)\n",
            "<ipython-input-30-ef64c003f9d5>:10: UserWarning: FixedFormatter should only be used together with FixedLocator\n",
            "  ax.set_yticklabels([''] + predicted_sentence, fontdict=fontdict)\n"
          ]
        },
        {
          "output_type": "display_data",
          "data": {
            "text/plain": [
              "<Figure size 1000x1000 with 1 Axes>"
            ],
            "image/png": "[encoded data removed]"
          },
          "metadata": {}
        }
      ],
      "source": [
        "translate(u'Sind Sie immer noch nicht zu Hause?') # Вы все еще не дома?"
      ]
    },
    {
      "cell_type": "code",
      "execution_count": 37,
      "metadata": {
        "colab": {
          "base_uri": "https://localhost:8080/",
          "height": 1000
        },
        "id": "DUQVLVqUE1YW",
        "outputId": "e21abe03-857f-4579-9efe-7f6bb2544dd8"
      },
      "outputs": [
        {
          "output_type": "stream",
          "name": "stdout",
          "text": [
            "Input: <start> versuch es nicht zu tun . <end>\n",
            "Predicted translation: try not to do it . <end> \n"
          ]
        },
        {
          "output_type": "stream",
          "name": "stderr",
          "text": [
            "<ipython-input-30-ef64c003f9d5>:9: UserWarning: FixedFormatter should only be used together with FixedLocator\n",
            "  ax.set_xticklabels([''] + sentence, fontdict=fontdict, rotation=90)\n",
            "<ipython-input-30-ef64c003f9d5>:10: UserWarning: FixedFormatter should only be used together with FixedLocator\n",
            "  ax.set_yticklabels([''] + predicted_sentence, fontdict=fontdict)\n"
          ]
        },
        {
          "output_type": "display_data",
          "data": {
            "text/plain": [
              "<Figure size 1000x1000 with 1 Axes>"
            ],
            "image/png": "[encoded data removed]"
          },
          "metadata": {}
        }
      ],
      "source": [
        "translate(u'Versuch es nicht zu tun.') # Попробуй не делать это."
      ]
    },
    {
      "cell_type": "code",
      "execution_count": 38,
      "metadata": {
        "colab": {
          "base_uri": "https://localhost:8080/",
          "height": 726
        },
        "id": "f09_hUFx9EJh",
        "outputId": "aaa20890-9a8c-4ddb-fb83-b61106bf22a2"
      },
      "outputs": [
        {
          "output_type": "stream",
          "name": "stdout",
          "text": [
            "Input: <start> ich liebe es , wenn die sonne scheint . <end>\n",
            "Predicted translation: i love happy endings . <end> \n"
          ]
        },
        {
          "output_type": "stream",
          "name": "stderr",
          "text": [
            "<ipython-input-30-ef64c003f9d5>:9: UserWarning: FixedFormatter should only be used together with FixedLocator\n",
            "  ax.set_xticklabels([''] + sentence, fontdict=fontdict, rotation=90)\n",
            "<ipython-input-30-ef64c003f9d5>:10: UserWarning: FixedFormatter should only be used together with FixedLocator\n",
            "  ax.set_yticklabels([''] + predicted_sentence, fontdict=fontdict)\n"
          ]
        },
        {
          "output_type": "display_data",
          "data": {
            "text/plain": [
              "<Figure size 1000x1000 with 1 Axes>"
            ],
            "image/png": "[encoded data removed]"
          },
          "metadata": {}
        }
      ],
      "source": [
        "translate(u'Ich liebe es, wenn die Sonne scheint.') # Я люблю, когда светит солнце."
      ]
    },
    {
      "cell_type": "code",
      "execution_count": 39,
      "metadata": {
        "colab": {
          "base_uri": "https://localhost:8080/",
          "height": 1000
        },
        "id": "e7c5p8rmkHQG",
        "outputId": "f5511fb2-a52a-4ae5-bd23-dd8872b75559"
      },
      "outputs": [
        {
          "output_type": "stream",
          "name": "stdout",
          "text": [
            "Input: <start> das tue ich immer . <end>\n",
            "Predicted translation: i always do that . <end> \n"
          ]
        },
        {
          "output_type": "stream",
          "name": "stderr",
          "text": [
            "<ipython-input-30-ef64c003f9d5>:9: UserWarning: FixedFormatter should only be used together with FixedLocator\n",
            "  ax.set_xticklabels([''] + sentence, fontdict=fontdict, rotation=90)\n",
            "<ipython-input-30-ef64c003f9d5>:10: UserWarning: FixedFormatter should only be used together with FixedLocator\n",
            "  ax.set_yticklabels([''] + predicted_sentence, fontdict=fontdict)\n"
          ]
        },
        {
          "output_type": "display_data",
          "data": {
            "text/plain": [
              "<Figure size 1000x1000 with 1 Axes>"
            ],
            "image/png": "[encoded data removed]"
          },
          "metadata": {}
        }
      ],
      "source": [
        "translate(u'Das tue ich immer.') # Я всегда так делаю."
      ]
    },
    {
      "cell_type": "code",
      "execution_count": 39,
      "metadata": {
        "id": "jdXES85KkTVS"
      },
      "outputs": [],
      "source": []
    },
    {
      "cell_type": "markdown",
      "source": [
        "Вывод: модель обучилась на немецко-английском словаре, некоторые фразу переводит очень удачно."
      ],
      "metadata": {
        "id": "5FUvT0oZC5a-"
      }
    }
  ],
  "metadata": {
    "accelerator": "GPU",
    "colab": {
      "provenance": [],
      "toc_visible": true
    },
    "kernelspec": {
      "display_name": "Python 3 (ipykernel)",
      "language": "python",
      "name": "python3"
    },
    "language_info": {
      "codemirror_mode": {
        "name": "ipython",
        "version": 3
      },
      "file_extension": ".py",
      "mimetype": "text/x-python",
      "name": "python",
      "nbconvert_exporter": "python",
      "pygments_lexer": "ipython3",
      "version": "3.10.9"
    }
  },
  "nbformat": 4,
  "nbformat_minor": 0
}