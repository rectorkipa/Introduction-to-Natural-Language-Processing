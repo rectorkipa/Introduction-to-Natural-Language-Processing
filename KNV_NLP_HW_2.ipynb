{
  "nbformat": 4,
  "nbformat_minor": 0,
  "metadata": {
    "colab": {
      "provenance": [],
      "gpuType": "T4"
    },
    "kernelspec": {
      "name": "python3",
      "display_name": "Python 3"
    },
    "language_info": {
      "name": "python"
    },
    "accelerator": "GPU"
  },
  "cells": [
    {
      "cell_type": "markdown",
      "source": [
        "## Кривоногов Н.В., NLP, практическое задание № 2"
      ],
      "metadata": {
        "id": "COnfdmbCXiR_"
      }
    },
    {
      "cell_type": "markdown",
      "source": [
        "### Задание 1.\n",
        "\n",
        "**Задание**: обучите три классификатора:\n",
        "\n",
        "1) на токенах с высокой частотой\n",
        "\n",
        "2) на токенах со средней частотой\n",
        "\n",
        "3) на токенах с низкой частотой\n",
        "\n",
        "\n",
        "Сравните полученные результаты, оцените какие токены наиболее важные для классификации.\n",
        "\n",
        "\n",
        "### Задание 2.\n",
        "\n",
        "найти фичи с наибольшей значимостью, и вывести их\n",
        "\n",
        "\n",
        "### Задание 3.\n",
        "\n",
        "1) сравнить count/tf-idf/hashing векторайзеры/полносвязанную сетку (построить classification_report)\n",
        "\n",
        "2) подобрать оптимальный размер для hashing векторайзера\n",
        "\n",
        "3) убедиться что для сетки нет переобучения"
      ],
      "metadata": {
        "id": "EhCpE_j6XmYV"
      }
    },
    {
      "cell_type": "code",
      "execution_count": 1,
      "metadata": {
        "id": "NRLeOaV1XcXn"
      },
      "outputs": [],
      "source": [
        "import pandas as pd\n",
        "import numpy as np\n",
        "from sklearn.metrics import *\n",
        "from sklearn.model_selection import train_test_split\n",
        "from sklearn.pipeline import Pipeline"
      ]
    },
    {
      "cell_type": "code",
      "source": [
        "import nltk\n",
        "from nltk.corpus import stopwords\n",
        "nltk.download('stopwords')\n",
        "my_stopwords = stopwords.words('russian')\n",
        "noise = stopwords.words('russian')"
      ],
      "metadata": {
        "colab": {
          "base_uri": "https://localhost:8080/"
        },
        "id": "vQ_WpIStXjX2",
        "outputId": "e1ff2742-87b7-454a-850a-a75fc92042ba"
      },
      "execution_count": 2,
      "outputs": [
        {
          "output_type": "stream",
          "name": "stderr",
          "text": [
            "[nltk_data] Downloading package stopwords to /root/nltk_data...\n",
            "[nltk_data]   Unzipping corpora/stopwords.zip.\n"
          ]
        }
      ]
    },
    {
      "cell_type": "code",
      "source": [
        "positive = pd.read_csv('/content/positive.csv', sep=';', usecols=[3], names=['text'])\n",
        "positive['label'] = ['positive'] * len(positive)\n",
        "negative = pd.read_csv('/content/negative.csv', sep=';', usecols=[3], names=['text'])\n",
        "negative['label'] = ['negative'] * len(negative)\n",
        "df = positive.append(negative)"
      ],
      "metadata": {
        "colab": {
          "base_uri": "https://localhost:8080/"
        },
        "id": "sx168EeBYIIG",
        "outputId": "7e8af71b-b168-4552-c67a-ef11ef529885"
      },
      "execution_count": 3,
      "outputs": [
        {
          "output_type": "stream",
          "name": "stderr",
          "text": [
            "<ipython-input-3-cd2f27a6c2f9>:5: FutureWarning: The frame.append method is deprecated and will be removed from pandas in a future version. Use pandas.concat instead.\n",
            "  df = positive.append(negative)\n"
          ]
        }
      ]
    },
    {
      "cell_type": "code",
      "source": [
        "df"
      ],
      "metadata": {
        "colab": {
          "base_uri": "https://localhost:8080/",
          "height": 424
        },
        "id": "EYLWTfn3ZZSm",
        "outputId": "56b21b29-0c55-4b75-bcec-14270839e039"
      },
      "execution_count": 4,
      "outputs": [
        {
          "output_type": "execute_result",
          "data": {
            "text/plain": [
              "                                                     text     label\n",
              "0       @first_timee хоть я и школота, но поверь, у на...  positive\n",
              "1       Да, все-таки он немного похож на него. Но мой ...  positive\n",
              "2       RT @KatiaCheh: Ну ты идиотка) я испугалась за ...  positive\n",
              "3       RT @digger2912: \"Кто то в углу сидит и погибае...  positive\n",
              "4       @irina_dyshkant Вот что значит страшилка :D\\nН...  positive\n",
              "...                                                   ...       ...\n",
              "111918  Но не каждый хочет что то исправлять:( http://...  negative\n",
              "111919  скучаю так :-( только @taaannyaaa вправляет мо...  negative\n",
              "111920          Вот и в школу, в говно это идти уже надо(  negative\n",
              "111921  RT @_Them__: @LisaBeroud Тауриэль, не грусти :...  negative\n",
              "111922  Такси везет меня на работу. Раздумываю приплат...  negative\n",
              "\n",
              "[226834 rows x 2 columns]"
            ],
            "text/html": [
              "\n",
              "\n",
              "  <div id=\"df-2c4dc457-e78d-4928-a8cf-15306fb15d3a\">\n",
              "    <div class=\"colab-df-container\">\n",
              "      <div>\n",
              "<style scoped>\n",
              "    .dataframe tbody tr th:only-of-type {\n",
              "        vertical-align: middle;\n",
              "    }\n",
              "\n",
              "    .dataframe tbody tr th {\n",
              "        vertical-align: top;\n",
              "    }\n",
              "\n",
              "    .dataframe thead th {\n",
              "        text-align: right;\n",
              "    }\n",
              "</style>\n",
              "<table border=\"1\" class=\"dataframe\">\n",
              "  <thead>\n",
              "    <tr style=\"text-align: right;\">\n",
              "      <th></th>\n",
              "      <th>text</th>\n",
              "      <th>label</th>\n",
              "    </tr>\n",
              "  </thead>\n",
              "  <tbody>\n",
              "    <tr>\n",
              "      <th>0</th>\n",
              "      <td>@first_timee хоть я и школота, но поверь, у на...</td>\n",
              "      <td>positive</td>\n",
              "    </tr>\n",
              "    <tr>\n",
              "      <th>1</th>\n",
              "      <td>Да, все-таки он немного похож на него. Но мой ...</td>\n",
              "      <td>positive</td>\n",
              "    </tr>\n",
              "    <tr>\n",
              "      <th>2</th>\n",
              "      <td>RT @KatiaCheh: Ну ты идиотка) я испугалась за ...</td>\n",
              "      <td>positive</td>\n",
              "    </tr>\n",
              "    <tr>\n",
              "      <th>3</th>\n",
              "      <td>RT @digger2912: \"Кто то в углу сидит и погибае...</td>\n",
              "      <td>positive</td>\n",
              "    </tr>\n",
              "    <tr>\n",
              "      <th>4</th>\n",
              "      <td>@irina_dyshkant Вот что значит страшилка :D\\nН...</td>\n",
              "      <td>positive</td>\n",
              "    </tr>\n",
              "    <tr>\n",
              "      <th>...</th>\n",
              "      <td>...</td>\n",
              "      <td>...</td>\n",
              "    </tr>\n",
              "    <tr>\n",
              "      <th>111918</th>\n",
              "      <td>Но не каждый хочет что то исправлять:( http://...</td>\n",
              "      <td>negative</td>\n",
              "    </tr>\n",
              "    <tr>\n",
              "      <th>111919</th>\n",
              "      <td>скучаю так :-( только @taaannyaaa вправляет мо...</td>\n",
              "      <td>negative</td>\n",
              "    </tr>\n",
              "    <tr>\n",
              "      <th>111920</th>\n",
              "      <td>Вот и в школу, в говно это идти уже надо(</td>\n",
              "      <td>negative</td>\n",
              "    </tr>\n",
              "    <tr>\n",
              "      <th>111921</th>\n",
              "      <td>RT @_Them__: @LisaBeroud Тауриэль, не грусти :...</td>\n",
              "      <td>negative</td>\n",
              "    </tr>\n",
              "    <tr>\n",
              "      <th>111922</th>\n",
              "      <td>Такси везет меня на работу. Раздумываю приплат...</td>\n",
              "      <td>negative</td>\n",
              "    </tr>\n",
              "  </tbody>\n",
              "</table>\n",
              "<p>226834 rows × 2 columns</p>\n",
              "</div>\n",
              "      <button class=\"colab-df-convert\" onclick=\"convertToInteractive('df-2c4dc457-e78d-4928-a8cf-15306fb15d3a')\"\n",
              "              title=\"Convert this dataframe to an interactive table.\"\n",
              "              style=\"display:none;\">\n",
              "\n",
              "  <svg xmlns=\"http://www.w3.org/2000/svg\" height=\"24px\"viewBox=\"0 0 24 24\"\n",
              "       width=\"24px\">\n",
              "    <path d=\"M0 0h24v24H0V0z\" fill=\"none\"/>\n",
              "    <path d=\"M18.56 5.44l.94 2.06.94-2.06 2.06-.94-2.06-.94-.94-2.06-.94 2.06-2.06.94zm-11 1L8.5 8.5l.94-2.06 2.06-.94-2.06-.94L8.5 2.5l-.94 2.06-2.06.94zm10 10l.94 2.06.94-2.06 2.06-.94-2.06-.94-.94-2.06-.94 2.06-2.06.94z\"/><path d=\"M17.41 7.96l-1.37-1.37c-.4-.4-.92-.59-1.43-.59-.52 0-1.04.2-1.43.59L10.3 9.45l-7.72 7.72c-.78.78-.78 2.05 0 2.83L4 21.41c.39.39.9.59 1.41.59.51 0 1.02-.2 1.41-.59l7.78-7.78 2.81-2.81c.8-.78.8-2.07 0-2.86zM5.41 20L4 18.59l7.72-7.72 1.47 1.35L5.41 20z\"/>\n",
              "  </svg>\n",
              "      </button>\n",
              "\n",
              "\n",
              "\n",
              "    <div id=\"df-1cda22cb-8c09-4ecc-988a-e5daeb8721f3\">\n",
              "      <button class=\"colab-df-quickchart\" onclick=\"quickchart('df-1cda22cb-8c09-4ecc-988a-e5daeb8721f3')\"\n",
              "              title=\"Suggest charts.\"\n",
              "              style=\"display:none;\">\n",
              "\n",
              "<svg xmlns=\"http://www.w3.org/2000/svg\" height=\"24px\"viewBox=\"0 0 24 24\"\n",
              "     width=\"24px\">\n",
              "    <g>\n",
              "        <path d=\"M19 3H5c-1.1 0-2 .9-2 2v14c0 1.1.9 2 2 2h14c1.1 0 2-.9 2-2V5c0-1.1-.9-2-2-2zM9 17H7v-7h2v7zm4 0h-2V7h2v10zm4 0h-2v-4h2v4z\"/>\n",
              "    </g>\n",
              "</svg>\n",
              "      </button>\n",
              "    </div>\n",
              "\n",
              "<style>\n",
              "  .colab-df-quickchart {\n",
              "    background-color: #E8F0FE;\n",
              "    border: none;\n",
              "    border-radius: 50%;\n",
              "    cursor: pointer;\n",
              "    display: none;\n",
              "    fill: #1967D2;\n",
              "    height: 32px;\n",
              "    padding: 0 0 0 0;\n",
              "    width: 32px;\n",
              "  }\n",
              "\n",
              "  .colab-df-quickchart:hover {\n",
              "    background-color: #E2EBFA;\n",
              "    box-shadow: 0px 1px 2px rgba(60, 64, 67, 0.3), 0px 1px 3px 1px rgba(60, 64, 67, 0.15);\n",
              "    fill: #174EA6;\n",
              "  }\n",
              "\n",
              "  [theme=dark] .colab-df-quickchart {\n",
              "    background-color: #3B4455;\n",
              "    fill: #D2E3FC;\n",
              "  }\n",
              "\n",
              "  [theme=dark] .colab-df-quickchart:hover {\n",
              "    background-color: #434B5C;\n",
              "    box-shadow: 0px 1px 3px 1px rgba(0, 0, 0, 0.15);\n",
              "    filter: drop-shadow(0px 1px 2px rgba(0, 0, 0, 0.3));\n",
              "    fill: #FFFFFF;\n",
              "  }\n",
              "</style>\n",
              "\n",
              "    <script>\n",
              "      async function quickchart(key) {\n",
              "        const containerElement = document.querySelector('#' + key);\n",
              "        const charts = await google.colab.kernel.invokeFunction(\n",
              "            'suggestCharts', [key], {});\n",
              "      }\n",
              "    </script>\n",
              "\n",
              "      <script>\n",
              "\n",
              "function displayQuickchartButton(domScope) {\n",
              "  let quickchartButtonEl =\n",
              "    domScope.querySelector('#df-1cda22cb-8c09-4ecc-988a-e5daeb8721f3 button.colab-df-quickchart');\n",
              "  quickchartButtonEl.style.display =\n",
              "    google.colab.kernel.accessAllowed ? 'block' : 'none';\n",
              "}\n",
              "\n",
              "        displayQuickchartButton(document);\n",
              "      </script>\n",
              "      <style>\n",
              "    .colab-df-container {\n",
              "      display:flex;\n",
              "      flex-wrap:wrap;\n",
              "      gap: 12px;\n",
              "    }\n",
              "\n",
              "    .colab-df-convert {\n",
              "      background-color: #E8F0FE;\n",
              "      border: none;\n",
              "      border-radius: 50%;\n",
              "      cursor: pointer;\n",
              "      display: none;\n",
              "      fill: #1967D2;\n",
              "      height: 32px;\n",
              "      padding: 0 0 0 0;\n",
              "      width: 32px;\n",
              "    }\n",
              "\n",
              "    .colab-df-convert:hover {\n",
              "      background-color: #E2EBFA;\n",
              "      box-shadow: 0px 1px 2px rgba(60, 64, 67, 0.3), 0px 1px 3px 1px rgba(60, 64, 67, 0.15);\n",
              "      fill: #174EA6;\n",
              "    }\n",
              "\n",
              "    [theme=dark] .colab-df-convert {\n",
              "      background-color: #3B4455;\n",
              "      fill: #D2E3FC;\n",
              "    }\n",
              "\n",
              "    [theme=dark] .colab-df-convert:hover {\n",
              "      background-color: #434B5C;\n",
              "      box-shadow: 0px 1px 3px 1px rgba(0, 0, 0, 0.15);\n",
              "      filter: drop-shadow(0px 1px 2px rgba(0, 0, 0, 0.3));\n",
              "      fill: #FFFFFF;\n",
              "    }\n",
              "  </style>\n",
              "\n",
              "      <script>\n",
              "        const buttonEl =\n",
              "          document.querySelector('#df-2c4dc457-e78d-4928-a8cf-15306fb15d3a button.colab-df-convert');\n",
              "        buttonEl.style.display =\n",
              "          google.colab.kernel.accessAllowed ? 'block' : 'none';\n",
              "\n",
              "        async function convertToInteractive(key) {\n",
              "          const element = document.querySelector('#df-2c4dc457-e78d-4928-a8cf-15306fb15d3a');\n",
              "          const dataTable =\n",
              "            await google.colab.kernel.invokeFunction('convertToInteractive',\n",
              "                                                     [key], {});\n",
              "          if (!dataTable) return;\n",
              "\n",
              "          const docLinkHtml = 'Like what you see? Visit the ' +\n",
              "            '<a target=\"_blank\" href=https://colab.research.google.com/notebooks/data_table.ipynb>data table notebook</a>'\n",
              "            + ' to learn more about interactive tables.';\n",
              "          element.innerHTML = '';\n",
              "          dataTable['output_type'] = 'display_data';\n",
              "          await google.colab.output.renderOutput(dataTable, element);\n",
              "          const docLink = document.createElement('div');\n",
              "          docLink.innerHTML = docLinkHtml;\n",
              "          element.appendChild(docLink);\n",
              "        }\n",
              "      </script>\n",
              "    </div>\n",
              "  </div>\n"
            ]
          },
          "metadata": {},
          "execution_count": 4
        }
      ]
    },
    {
      "cell_type": "code",
      "source": [
        "X_train, X_test, y_train, y_test = train_test_split(df.text, df.label)"
      ],
      "metadata": {
        "id": "Bm4dDlneZyt8"
      },
      "execution_count": 5,
      "outputs": []
    },
    {
      "cell_type": "code",
      "source": [
        "from sklearn.feature_extraction.text import TfidfVectorizer\n",
        "from sklearn.linear_model import LogisticRegression"
      ],
      "metadata": {
        "id": "Vi1S4lQXZ5ko"
      },
      "execution_count": 6,
      "outputs": []
    },
    {
      "cell_type": "code",
      "source": [
        "def get_tokens_importance(maxdf, mindf):\n",
        "\n",
        "    tfidf_vect = TfidfVectorizer(max_df=maxdf, # не берем слова, которые выше трешхолда\n",
        "                                 min_df=mindf, # не берем слова, которые ниже трешхолда\n",
        "#                                  max_features=1000,\n",
        "#                                  stop_words=noise,\n",
        "                                 )\n",
        "\n",
        "    bow = tfidf_vect.fit_transform(X_train)\n",
        "    clf = LogisticRegression(random_state=42)\n",
        "    clf.fit(bow, y_train)\n",
        "\n",
        "    pred = clf.predict(tfidf_vect.transform(X_test))\n",
        "    print(f'max_df= {maxdf} min_df= {mindf}')\n",
        "    print(classification_report(pred, y_test))"
      ],
      "metadata": {
        "id": "e3rsqMe-Z7O8"
      },
      "execution_count": 7,
      "outputs": []
    },
    {
      "cell_type": "code",
      "source": [
        "# Берем все токены: f1-score получается низкая:\n",
        "\n",
        "get_tokens_importance(1, 1)"
      ],
      "metadata": {
        "colab": {
          "base_uri": "https://localhost:8080/"
        },
        "id": "lwLeOa5zaEJU",
        "outputId": "b030d784-c5b2-4205-d2ec-fd0d8a42fa71"
      },
      "execution_count": 8,
      "outputs": [
        {
          "output_type": "stream",
          "name": "stdout",
          "text": [
            "max_df= 1 min_df= 1\n",
            "              precision    recall  f1-score   support\n",
            "\n",
            "    negative       0.89      0.53      0.66     47522\n",
            "    positive       0.22      0.68      0.33      9187\n",
            "\n",
            "    accuracy                           0.55     56709\n",
            "   macro avg       0.56      0.60      0.50     56709\n",
            "weighted avg       0.78      0.55      0.61     56709\n",
            "\n"
          ]
        }
      ]
    },
    {
      "cell_type": "code",
      "source": [
        "# Берем часто встречающиеся токены:\n",
        "\n",
        "get_tokens_importance(1.0, 0.285)"
      ],
      "metadata": {
        "colab": {
          "base_uri": "https://localhost:8080/"
        },
        "id": "JxRa-wPfaH65",
        "outputId": "b633963a-6e27-4a9c-a006-ee93f37b0767"
      },
      "execution_count": 9,
      "outputs": [
        {
          "output_type": "stream",
          "name": "stdout",
          "text": [
            "max_df= 1.0 min_df= 0.285\n",
            "              precision    recall  f1-score   support\n",
            "\n",
            "    negative       0.35      0.60      0.44     16342\n",
            "    positive       0.77      0.55      0.64     40367\n",
            "\n",
            "    accuracy                           0.56     56709\n",
            "   macro avg       0.56      0.57      0.54     56709\n",
            "weighted avg       0.65      0.56      0.58     56709\n",
            "\n"
          ]
        }
      ]
    },
    {
      "cell_type": "code",
      "source": [
        "# Берем средне встречающиеся токены:\n",
        "\n",
        "get_tokens_importance(0.7, 0.15)"
      ],
      "metadata": {
        "colab": {
          "base_uri": "https://localhost:8080/"
        },
        "id": "Ps2qsONpaXAO",
        "outputId": "877dc4fe-ca4f-4bb5-9d06-bf4aab046e32"
      },
      "execution_count": 10,
      "outputs": [
        {
          "output_type": "stream",
          "name": "stdout",
          "text": [
            "max_df= 0.7 min_df= 0.15\n",
            "              precision    recall  f1-score   support\n",
            "\n",
            "    negative       0.35      0.60      0.44     16100\n",
            "    positive       0.78      0.55      0.64     40609\n",
            "\n",
            "    accuracy                           0.56     56709\n",
            "   macro avg       0.56      0.58      0.54     56709\n",
            "weighted avg       0.65      0.56      0.59     56709\n",
            "\n"
          ]
        }
      ]
    },
    {
      "cell_type": "code",
      "source": [
        "# Берем редко встречающиеся токены:\n",
        "\n",
        "get_tokens_importance(0.3, 1)"
      ],
      "metadata": {
        "colab": {
          "base_uri": "https://localhost:8080/"
        },
        "id": "X8vQaZkbaf_f",
        "outputId": "6c53fe83-6d5b-4313-feee-fab5515772a7"
      },
      "execution_count": 11,
      "outputs": [
        {
          "output_type": "stream",
          "name": "stderr",
          "text": [
            "/usr/local/lib/python3.10/dist-packages/sklearn/linear_model/_logistic.py:458: ConvergenceWarning: lbfgs failed to converge (status=1):\n",
            "STOP: TOTAL NO. of ITERATIONS REACHED LIMIT.\n",
            "\n",
            "Increase the number of iterations (max_iter) or scale the data as shown in:\n",
            "    https://scikit-learn.org/stable/modules/preprocessing.html\n",
            "Please also refer to the documentation for alternative solver options:\n",
            "    https://scikit-learn.org/stable/modules/linear_model.html#logistic-regression\n",
            "  n_iter_i = _check_optimize_result(\n"
          ]
        },
        {
          "output_type": "stream",
          "name": "stdout",
          "text": [
            "max_df= 0.3 min_df= 1\n",
            "              precision    recall  f1-score   support\n",
            "\n",
            "    negative       0.73      0.76      0.75     26798\n",
            "    positive       0.78      0.75      0.76     29911\n",
            "\n",
            "    accuracy                           0.76     56709\n",
            "   macro avg       0.76      0.76      0.76     56709\n",
            "weighted avg       0.76      0.76      0.76     56709\n",
            "\n"
          ]
        }
      ]
    },
    {
      "cell_type": "markdown",
      "source": [
        "Судя по получившимся метрикам, низко частотные (редко встречающиеся) токены наиболее важны для классификации."
      ],
      "metadata": {
        "id": "poOS0RfXa0FI"
      }
    },
    {
      "cell_type": "code",
      "source": [],
      "metadata": {
        "id": "_edALo0Oam0i"
      },
      "execution_count": 11,
      "outputs": []
    },
    {
      "cell_type": "code",
      "source": [
        "from collections import Counter\n",
        "from nltk.tokenize import word_tokenize"
      ],
      "metadata": {
        "id": "c3JiuLYtbG6h"
      },
      "execution_count": 12,
      "outputs": []
    },
    {
      "cell_type": "code",
      "source": [
        "nltk.download('punkt')"
      ],
      "metadata": {
        "colab": {
          "base_uri": "https://localhost:8080/"
        },
        "id": "QccNt91DbHPt",
        "outputId": "2e702129-1220-472a-891c-593b8dbfa1bb"
      },
      "execution_count": 13,
      "outputs": [
        {
          "output_type": "stream",
          "name": "stderr",
          "text": [
            "[nltk_data] Downloading package punkt to /root/nltk_data...\n",
            "[nltk_data]   Unzipping tokenizers/punkt.zip.\n"
          ]
        },
        {
          "output_type": "execute_result",
          "data": {
            "text/plain": [
              "True"
            ]
          },
          "metadata": {},
          "execution_count": 13
        }
      ]
    },
    {
      "cell_type": "code",
      "source": [
        "corpus = [token for tweet in df.text for token in word_tokenize(tweet)]\n",
        "print(len(corpus))\n",
        "corpus[:10]"
      ],
      "metadata": {
        "colab": {
          "base_uri": "https://localhost:8080/"
        },
        "id": "lBPFikcwbIwM",
        "outputId": "c28de5cf-0c95-4941-d258-511e239dadbf"
      },
      "execution_count": 14,
      "outputs": [
        {
          "output_type": "stream",
          "name": "stdout",
          "text": [
            "4027088\n"
          ]
        },
        {
          "output_type": "execute_result",
          "data": {
            "text/plain": [
              "['@', 'first_timee', 'хоть', 'я', 'и', 'школота', ',', 'но', 'поверь', ',']"
            ]
          },
          "metadata": {},
          "execution_count": 14
        }
      ]
    },
    {
      "cell_type": "code",
      "source": [
        "freq_dict = Counter(corpus)\n",
        "freq_dict_sorted= sorted(freq_dict.items(), key=lambda x: -x[1])\n",
        "list(freq_dict_sorted)[:10]"
      ],
      "metadata": {
        "colab": {
          "base_uri": "https://localhost:8080/"
        },
        "id": "7PvCoMo3bLrX",
        "outputId": "aa6c8eef-2633-478f-8ed1-25a3e16b39f2"
      },
      "execution_count": 15,
      "outputs": [
        {
          "output_type": "execute_result",
          "data": {
            "text/plain": [
              "[('(', 212404),\n",
              " (')', 194005),\n",
              " (',', 188295),\n",
              " (':', 177675),\n",
              " ('@', 149978),\n",
              " ('не', 69472),\n",
              " ('!', 66923),\n",
              " ('.', 57623),\n",
              " ('и', 55166),\n",
              " ('в', 52902)]"
            ]
          },
          "metadata": {},
          "execution_count": 15
        }
      ]
    },
    {
      "cell_type": "code",
      "source": [
        "cool_token = '!'\n",
        "pred = ['positive' if cool_token in tweet else 'negative' for tweet in X_test]\n",
        "print(classification_report(pred, y_test))"
      ],
      "metadata": {
        "colab": {
          "base_uri": "https://localhost:8080/"
        },
        "id": "G6cWWzxDbawJ",
        "outputId": "e85d8ac7-0888-4713-92d5-769ec90923e4"
      },
      "execution_count": 16,
      "outputs": [
        {
          "output_type": "stream",
          "name": "stdout",
          "text": [
            "              precision    recall  f1-score   support\n",
            "\n",
            "    negative       0.87      0.50      0.64     48206\n",
            "    positive       0.17      0.58      0.26      8503\n",
            "\n",
            "    accuracy                           0.52     56709\n",
            "   macro avg       0.52      0.54      0.45     56709\n",
            "weighted avg       0.77      0.52      0.58     56709\n",
            "\n"
          ]
        }
      ]
    },
    {
      "cell_type": "code",
      "source": [
        "cool_token = ':'\n",
        "pred = ['positive' if cool_token in tweet else 'negative' for tweet in X_test]\n",
        "print(classification_report(pred, y_test))"
      ],
      "metadata": {
        "colab": {
          "base_uri": "https://localhost:8080/"
        },
        "id": "RLW2vewYbkIH",
        "outputId": "71f342d3-f2d2-48fc-d55f-876fe1515039"
      },
      "execution_count": 17,
      "outputs": [
        {
          "output_type": "stream",
          "name": "stdout",
          "text": [
            "              precision    recall  f1-score   support\n",
            "\n",
            "    negative       0.48      0.54      0.51     24839\n",
            "    positive       0.61      0.55      0.58     31870\n",
            "\n",
            "    accuracy                           0.55     56709\n",
            "   macro avg       0.55      0.55      0.54     56709\n",
            "weighted avg       0.55      0.55      0.55     56709\n",
            "\n"
          ]
        }
      ]
    },
    {
      "cell_type": "code",
      "source": [
        "cool_token = '@'\n",
        "pred = ['positive' if cool_token in tweet else 'negative' for tweet in X_test]\n",
        "print(classification_report(pred, y_test))"
      ],
      "metadata": {
        "colab": {
          "base_uri": "https://localhost:8080/"
        },
        "id": "kSpzz1qZbrs0",
        "outputId": "54de7b10-64ea-42b7-98d3-de7a3e6f9a49"
      },
      "execution_count": 18,
      "outputs": [
        {
          "output_type": "stream",
          "name": "stdout",
          "text": [
            "              precision    recall  f1-score   support\n",
            "\n",
            "    negative       0.57      0.56      0.57     28340\n",
            "    positive       0.57      0.58      0.57     28369\n",
            "\n",
            "    accuracy                           0.57     56709\n",
            "   macro avg       0.57      0.57      0.57     56709\n",
            "weighted avg       0.57      0.57      0.57     56709\n",
            "\n"
          ]
        }
      ]
    },
    {
      "cell_type": "code",
      "source": [],
      "metadata": {
        "id": "eqEeKf3wcAAg"
      },
      "execution_count": 18,
      "outputs": []
    },
    {
      "cell_type": "code",
      "source": [
        "from sklearn.feature_extraction.text import CountVectorizer"
      ],
      "metadata": {
        "id": "u2Noe4UVcHyq"
      },
      "execution_count": 19,
      "outputs": []
    },
    {
      "cell_type": "code",
      "source": [
        "%%time\n",
        "\n",
        "count_vect = CountVectorizer()\n",
        "bow = count_vect.fit_transform(X_train)\n",
        "clf = LogisticRegression(random_state=42)\n",
        "clf.fit(bow, y_train)\n",
        "\n",
        "pred = clf.predict(count_vect.transform(X_test))\n",
        "print(classification_report(pred, y_test))"
      ],
      "metadata": {
        "colab": {
          "base_uri": "https://localhost:8080/"
        },
        "id": "aXWysFGJcJkz",
        "outputId": "51a99327-f32a-4268-8160-fa50d536ebe9"
      },
      "execution_count": 20,
      "outputs": [
        {
          "output_type": "stream",
          "name": "stderr",
          "text": [
            "/usr/local/lib/python3.10/dist-packages/sklearn/linear_model/_logistic.py:458: ConvergenceWarning: lbfgs failed to converge (status=1):\n",
            "STOP: TOTAL NO. of ITERATIONS REACHED LIMIT.\n",
            "\n",
            "Increase the number of iterations (max_iter) or scale the data as shown in:\n",
            "    https://scikit-learn.org/stable/modules/preprocessing.html\n",
            "Please also refer to the documentation for alternative solver options:\n",
            "    https://scikit-learn.org/stable/modules/linear_model.html#logistic-regression\n",
            "  n_iter_i = _check_optimize_result(\n"
          ]
        },
        {
          "output_type": "stream",
          "name": "stdout",
          "text": [
            "              precision    recall  f1-score   support\n",
            "\n",
            "    negative       0.76      0.76      0.76     28200\n",
            "    positive       0.76      0.77      0.76     28509\n",
            "\n",
            "    accuracy                           0.76     56709\n",
            "   macro avg       0.76      0.76      0.76     56709\n",
            "weighted avg       0.76      0.76      0.76     56709\n",
            "\n",
            "CPU times: user 16.8 s, sys: 9.82 s, total: 26.6 s\n",
            "Wall time: 18.1 s\n"
          ]
        }
      ]
    },
    {
      "cell_type": "code",
      "source": [
        "%%time\n",
        "\n",
        "tfidf_vect = TfidfVectorizer()\n",
        "bow = tfidf_vect.fit_transform(X_train)\n",
        "clf = LogisticRegression(random_state=42)\n",
        "clf.fit(bow, y_train)\n",
        "\n",
        "pred = clf.predict(tfidf_vect.transform(X_test))\n",
        "print(classification_report(pred, y_test))"
      ],
      "metadata": {
        "colab": {
          "base_uri": "https://localhost:8080/"
        },
        "id": "pW3Sk7s1cLdL",
        "outputId": "34d29538-60a8-4026-e57d-f266fad41ce0"
      },
      "execution_count": 21,
      "outputs": [
        {
          "output_type": "stream",
          "name": "stderr",
          "text": [
            "/usr/local/lib/python3.10/dist-packages/sklearn/linear_model/_logistic.py:458: ConvergenceWarning: lbfgs failed to converge (status=1):\n",
            "STOP: TOTAL NO. of ITERATIONS REACHED LIMIT.\n",
            "\n",
            "Increase the number of iterations (max_iter) or scale the data as shown in:\n",
            "    https://scikit-learn.org/stable/modules/preprocessing.html\n",
            "Please also refer to the documentation for alternative solver options:\n",
            "    https://scikit-learn.org/stable/modules/linear_model.html#logistic-regression\n",
            "  n_iter_i = _check_optimize_result(\n"
          ]
        },
        {
          "output_type": "stream",
          "name": "stdout",
          "text": [
            "              precision    recall  f1-score   support\n",
            "\n",
            "    negative       0.73      0.76      0.75     26798\n",
            "    positive       0.78      0.75      0.76     29911\n",
            "\n",
            "    accuracy                           0.76     56709\n",
            "   macro avg       0.76      0.76      0.76     56709\n",
            "weighted avg       0.76      0.76      0.76     56709\n",
            "\n",
            "CPU times: user 16.3 s, sys: 11.1 s, total: 27.4 s\n",
            "Wall time: 20.2 s\n"
          ]
        }
      ]
    },
    {
      "cell_type": "code",
      "source": [
        "from sklearn.feature_extraction.text import HashingVectorizer\n",
        "from sklearn.linear_model import LogisticRegression"
      ],
      "metadata": {
        "id": "Rjta3fjHcYSR"
      },
      "execution_count": 22,
      "outputs": []
    },
    {
      "cell_type": "code",
      "source": [
        "%%time\n",
        "\n",
        "feature_sizes = [100, 1000, 10000, 100000, 1000000]\n",
        "\n",
        "for feature_size in feature_sizes:\n",
        "\n",
        "    h_vect = HashingVectorizer(n_features=feature_size)\n",
        "    h_vect.fit(X_train)\n",
        "\n",
        "    xtrain_count =  h_vect.transform(X_train)\n",
        "    xtest_count =  h_vect.transform(X_test)\n",
        "\n",
        "    classifier = LogisticRegression()\n",
        "    classifier.fit(xtrain_count, y_train)\n",
        "    predictions = classifier.predict(xtest_count)\n",
        "    #predictions\n",
        "    print(f'Длина hash-вектора: {feature_size}')\n",
        "    print(classification_report(predictions, y_test))"
      ],
      "metadata": {
        "colab": {
          "base_uri": "https://localhost:8080/"
        },
        "id": "d8LrSfl6ch5_",
        "outputId": "90db3405-3186-4e00-8d33-5ae588f21934"
      },
      "execution_count": 23,
      "outputs": [
        {
          "output_type": "stream",
          "name": "stdout",
          "text": [
            "Длина hash-вектора: 100\n",
            "              precision    recall  f1-score   support\n",
            "\n",
            "    negative       0.58      0.59      0.58     27341\n",
            "    positive       0.61      0.60      0.60     29368\n",
            "\n",
            "    accuracy                           0.59     56709\n",
            "   macro avg       0.59      0.59      0.59     56709\n",
            "weighted avg       0.59      0.59      0.59     56709\n",
            "\n",
            "Длина hash-вектора: 1000\n",
            "              precision    recall  f1-score   support\n",
            "\n",
            "    negative       0.63      0.65      0.64     27371\n",
            "    positive       0.66      0.65      0.66     29338\n",
            "\n",
            "    accuracy                           0.65     56709\n",
            "   macro avg       0.65      0.65      0.65     56709\n",
            "weighted avg       0.65      0.65      0.65     56709\n",
            "\n"
          ]
        },
        {
          "output_type": "stream",
          "name": "stderr",
          "text": [
            "/usr/local/lib/python3.10/dist-packages/sklearn/linear_model/_logistic.py:458: ConvergenceWarning: lbfgs failed to converge (status=1):\n",
            "STOP: TOTAL NO. of ITERATIONS REACHED LIMIT.\n",
            "\n",
            "Increase the number of iterations (max_iter) or scale the data as shown in:\n",
            "    https://scikit-learn.org/stable/modules/preprocessing.html\n",
            "Please also refer to the documentation for alternative solver options:\n",
            "    https://scikit-learn.org/stable/modules/linear_model.html#logistic-regression\n",
            "  n_iter_i = _check_optimize_result(\n"
          ]
        },
        {
          "output_type": "stream",
          "name": "stdout",
          "text": [
            "Длина hash-вектора: 10000\n",
            "              precision    recall  f1-score   support\n",
            "\n",
            "    negative       0.70      0.71      0.71     27304\n",
            "    positive       0.73      0.71      0.72     29405\n",
            "\n",
            "    accuracy                           0.71     56709\n",
            "   macro avg       0.71      0.71      0.71     56709\n",
            "weighted avg       0.71      0.71      0.71     56709\n",
            "\n"
          ]
        },
        {
          "output_type": "stream",
          "name": "stderr",
          "text": [
            "/usr/local/lib/python3.10/dist-packages/sklearn/linear_model/_logistic.py:458: ConvergenceWarning: lbfgs failed to converge (status=1):\n",
            "STOP: TOTAL NO. of ITERATIONS REACHED LIMIT.\n",
            "\n",
            "Increase the number of iterations (max_iter) or scale the data as shown in:\n",
            "    https://scikit-learn.org/stable/modules/preprocessing.html\n",
            "Please also refer to the documentation for alternative solver options:\n",
            "    https://scikit-learn.org/stable/modules/linear_model.html#logistic-regression\n",
            "  n_iter_i = _check_optimize_result(\n"
          ]
        },
        {
          "output_type": "stream",
          "name": "stdout",
          "text": [
            "Длина hash-вектора: 100000\n",
            "              precision    recall  f1-score   support\n",
            "\n",
            "    negative       0.72      0.75      0.73     26837\n",
            "    positive       0.77      0.74      0.75     29872\n",
            "\n",
            "    accuracy                           0.74     56709\n",
            "   macro avg       0.74      0.74      0.74     56709\n",
            "weighted avg       0.74      0.74      0.74     56709\n",
            "\n"
          ]
        },
        {
          "output_type": "stream",
          "name": "stderr",
          "text": [
            "/usr/local/lib/python3.10/dist-packages/sklearn/linear_model/_logistic.py:458: ConvergenceWarning: lbfgs failed to converge (status=1):\n",
            "STOP: TOTAL NO. of ITERATIONS REACHED LIMIT.\n",
            "\n",
            "Increase the number of iterations (max_iter) or scale the data as shown in:\n",
            "    https://scikit-learn.org/stable/modules/preprocessing.html\n",
            "Please also refer to the documentation for alternative solver options:\n",
            "    https://scikit-learn.org/stable/modules/linear_model.html#logistic-regression\n",
            "  n_iter_i = _check_optimize_result(\n"
          ]
        },
        {
          "output_type": "stream",
          "name": "stdout",
          "text": [
            "Длина hash-вектора: 1000000\n",
            "              precision    recall  f1-score   support\n",
            "\n",
            "    negative       0.72      0.75      0.74     26737\n",
            "    positive       0.77      0.74      0.76     29972\n",
            "\n",
            "    accuracy                           0.75     56709\n",
            "   macro avg       0.75      0.75      0.75     56709\n",
            "weighted avg       0.75      0.75      0.75     56709\n",
            "\n",
            "CPU times: user 1min 2s, sys: 28.7 s, total: 1min 30s\n",
            "Wall time: 1min 5s\n"
          ]
        }
      ]
    },
    {
      "cell_type": "markdown",
      "source": [
        "Чем больше длина hash-вектора, тем выше метрики."
      ],
      "metadata": {
        "id": "i68y3LmodB2j"
      }
    },
    {
      "cell_type": "code",
      "source": [
        "import tensorflow as tf\n",
        "\n",
        "from tensorflow.keras import Sequential\n",
        "from tensorflow.keras.layers import Dense, Embedding, GlobalAveragePooling1D, Conv1D, GRU, LSTM, Dropout\n",
        "from tensorflow.keras.layers import TextVectorization\n",
        "from sklearn.preprocessing import LabelEncoder"
      ],
      "metadata": {
        "id": "a_P1X3T5cloM"
      },
      "execution_count": 24,
      "outputs": []
    },
    {
      "cell_type": "code",
      "source": [
        "# приведем y к 0,1:\n",
        "\n",
        "encoder = LabelEncoder()\n",
        "y_train = encoder.fit_transform(y_train)\n",
        "y_test = encoder.fit_transform(y_test)"
      ],
      "metadata": {
        "id": "0WGTmfoadLUA"
      },
      "execution_count": 25,
      "outputs": []
    },
    {
      "cell_type": "code",
      "source": [
        "train_data = tf.data.Dataset.from_tensor_slices((X_train, y_train))\n",
        "valid_data = tf.data.Dataset.from_tensor_slices((X_test, y_test))"
      ],
      "metadata": {
        "id": "ehe5tfAVdPnR"
      },
      "execution_count": 26,
      "outputs": []
    },
    {
      "cell_type": "code",
      "source": [
        "train_data = train_data.batch(16)\n",
        "valid_data = valid_data.batch(16)"
      ],
      "metadata": {
        "id": "2x1ilJrcdTAO"
      },
      "execution_count": 27,
      "outputs": []
    },
    {
      "cell_type": "code",
      "source": [
        "for raw in train_data.take(1):\n",
        "    pass"
      ],
      "metadata": {
        "id": "-PtcwgE9dVmL"
      },
      "execution_count": 28,
      "outputs": []
    },
    {
      "cell_type": "code",
      "source": [
        "raw"
      ],
      "metadata": {
        "colab": {
          "base_uri": "https://localhost:8080/"
        },
        "id": "fmgTQNY0dXd6",
        "outputId": "e763475b-9321-4c34-e3b3-2fde8d79851c"
      },
      "execution_count": 29,
      "outputs": [
        {
          "output_type": "execute_result",
          "data": {
            "text/plain": [
              "(<tf.Tensor: shape=(16,), dtype=string, numpy=\n",
              " array([b'\\xd0\\x9d\\xd0\\xb5 \\xd0\\xbe\\xd1\\x88\\xd0\\xb8\\xd0\\xb1\\xd0\\xba\\xd1\\x83 \\xd0\\xbb\\xd0\\xb8 \\xd1\\x8f \\xd1\\x81\\xd0\\xbe\\xd0\\xb2\\xd0\\xb5\\xd1\\x80\\xd1\\x88\\xd0\\xb8\\xd0\\xbb\\xd0\\xb0.. \\xd1\\x87\\xd1\\x82\\xd0\\xbe-\\xd1\\x82\\xd0\\xbe \\xd0\\xbc\\xd0\\xbd\\xd0\\xb5 \\xd0\\xbd\\xd0\\xb5 \\xd0\\xbd\\xd1\\x80\\xd0\\xb0\\xd0\\xb2\\xd0\\xb8\\xd1\\x82\\xd1\\x81\\xd1\\x8f \\xd1\\x8d\\xd1\\x82\\xd0\\xbe \\xd0\\xb2\\xd1\\x81\\xd0\\xb5...((((',\n",
              "        b'\\xd0\\x9f\\xd0\\xbe\\xd1\\x81\\xd0\\xbb\\xd0\\xb5\\xd0\\xb4\\xd0\\xbd\\xd1\\x8f\\xd1\\x8f \\xd0\\xbf\\xd1\\x8f\\xd1\\x82\\xd0\\xbd\\xd0\\xb8\\xd1\\x86\\xd0\\xb0 \\xd1\\x82\\xd1\\x80\\xd0\\xb8\\xd0\\xbd\\xd0\\xb0\\xd0\\xb4\\xd1\\x86\\xd0\\xb0\\xd1\\x82\\xd0\\xbe\\xd0\\xb5 \\xd1\\x82\\xd1\\x80\\xd0\\xb8\\xd0\\xbd\\xd0\\xb0\\xd0\\xb4\\xd1\\x86\\xd0\\xb0\\xd1\\x82\\xd0\\xbe\\xd0\\xb3\\xd0\\xbe \\xd0\\xb3\\xd0\\xbe\\xd0\\xb4\\xd0\\xb0)\\xd0\\xa1\\xd1\\x83\\xd0\\xb4\\xd1\\x8f \\xd0\\xbf\\xd0\\xbe \\xd0\\xb4\\xd0\\xb0\\xd1\\x82\\xd0\\xb5 \\xd0\\xb8 \\xd1\\x82\\xd0\\xbe\\xd0\\xbc\\xd1\\x83,\\xd1\\x87\\xd1\\x82\\xd0\\xbe \\xd1\\x8f \\xd1\\x81\\xd0\\xbd\\xd0\\xbe\\xd0\\xb2\\xd0\\xb0 \\xd1\\x81\\xd0\\xbf\\xd0\\xb0\\xd0\\xbb\\xd0\\xb0 \\xd1\\x82\\xd1\\x80\\xd0\\xb8 \\xd1\\x87\\xd0\\xb0\\xd1\\x81\\xd0\\xb0,\\xd1\\x81\\xd0\\xb5\\xd0\\xb3\\xd0\\xbe\\xd0\\xb4\\xd0\\xbd\\xd1\\x8f \\xd0\\xb1\\xd1\\x83\\xd0\\xb4\\xd0\\xb5\\xd1\\x82 \\xd0\\xb2\\xd0\\xb5\\xd1\\x81\\xd0\\xb5\\xd0\\xbb\\xd0\\xbe',\n",
              "        b'\\xd0\\x92\\xd0\\xbe\\xd1\\x82 \\xd1\\x82\\xd0\\xb0\\xd0\\xba \\xd0\\xb2\\xd1\\x8b\\xd0\\xb9\\xd0\\xb4\\xd0\\xb5\\xd1\\x88\\xd1\\x8c \\xd1\\x81 \\xd0\\xb1\\xd0\\xbe\\xd0\\xbb\\xd1\\x8c\\xd1\\x88\\xd0\\xb8\\xd0\\xbc \\xd0\\xb7\\xd0\\xb0\\xd0\\xbf\\xd0\\xb0\\xd1\\x81\\xd0\\xbe\\xd0\\xbc, \\xd0\\xb0 \\xd0\\xbf\\xd1\\x80\\xd0\\xbe\\xd0\\xb5\\xd0\\xb4\\xd0\\xb5\\xd1\\x88\\xd1\\x8c \\xd0\\xbf\\xd0\\xbe \\xd0\\xbe\\xd0\\xb1\\xd1\\x8b\\xd1\\x87\\xd0\\xbd\\xd0\\xbe\\xd0\\xbc\\xd1\\x83 \\xd0\\xbc\\xd0\\xb0\\xd1\\x80\\xd1\\x88\\xd1\\x80\\xd1\\x83\\xd1\\x82\\xd1\\x83 \\xd0\\xb0 \\xd1\\x82\\xd1\\x80\\xd0\\xb8 \\xd1\\x80\\xd0\\xb0\\xd0\\xb7\\xd0\\xb0 \\xd0\\xb1\\xd0\\xbe\\xd0\\xbb\\xd1\\x8c\\xd1\\x88\\xd0\\xb5 :((',\n",
              "        b'=((( \\xd0\\xbd\\xd0\\xb0\\xd1\\x87\\xd0\\xb0\\xd0\\xbb\\xd0\\xbe\\xd1\\x81\\xd1\\x8c \\xd1\\x82\\xd0\\xbe \\xd0\\xb2\\xd1\\x80\\xd0\\xb5\\xd0\\xbc\\xd1\\x8f, \\xd0\\xba\\xd0\\xbe\\xd0\\xb3\\xd0\\xb4\\xd0\\xb0 \\xd0\\xbc\\xd1\\x83\\xd0\\xb6\\xd1\\x87\\xd0\\xb8\\xd0\\xbd\\xd1\\x8b, \\xd0\\xba\\xd0\\xbe\\xd1\\x82\\xd0\\xbe\\xd1\\x80\\xd1\\x8b\\xd0\\xb5 \\xd1\\x82\\xd0\\xb5\\xd0\\xb1\\xd0\\xb5 \\xd0\\xbd\\xd1\\x80\\xd0\\xb0\\xd0\\xb2\\xd1\\x8f\\xd1\\x82\\xd1\\x81\\xd1\\x8f \\xd0\\xbb\\xd0\\xb8\\xd0\\xb1\\xd0\\xbe \\xd1\\x83\\xd0\\xb6\\xd0\\xb5 \\xd0\\xb6\\xd0\\xb5\\xd0\\xbd\\xd0\\xb0\\xd1\\x82\\xd1\\x8b, \\xd0\\xbb\\xd0\\xb8\\xd0\\xb1\\xd0\\xbe \\xd0\\xbd\\xd0\\xb5\\xd0\\xb6\\xd0\\xb5\\xd0\\xbd\\xd0\\xb0\\xd1\\x82\\xd1\\x8b',\n",
              "        b'RT @tutby: 10 \\xd1\\x82\\xd1\\x8b\\xd1\\x81\\xd1\\x8f\\xd1\\x87 \\xd0\\xb4\\xd0\\xbe\\xd0\\xbb\\xd0\\xbb\\xd0\\xb0\\xd1\\x80\\xd0\\xbe\\xd0\\xb2 \\xd0\\xb7\\xd0\\xb0 \\xd0\\xbf\\xd0\\xb5\\xd1\\x80\\xd0\\xb2\\xd0\\xbe\\xd0\\xb3\\xd0\\xbe \\xd1\\x80\\xd0\\xb5\\xd0\\xb1\\xd0\\xb5\\xd0\\xbd\\xd0\\xba\\xd0\\xb0 \\xd0\\xb2 \\xd0\\x91\\xd0\\xb5\\xd0\\xbb\\xd0\\xb0\\xd1\\x80\\xd1\\x83\\xd1\\x81\\xd0\\xb8 \\xd0\\xb4\\xd0\\xb0\\xd0\\xb2\\xd0\\xb0\\xd1\\x82\\xd1\\x8c \\xd0\\xbd\\xd0\\xb5 \\xd0\\xb1\\xd1\\x83\\xd0\\xb4\\xd1\\x83\\xd1\\x82. http://t.co/FbmcFjVU22 \\xd0\\x9d\\xd0\\xb0\\xd0\\xb2\\xd1\\x80\\xd0\\xb0\\xd0\\xbb\\xd0\\xb8 :(',\n",
              "        b'\"@_marsi \\xd0\\xae.\\xd0\\xa8\\xd1\\x83\\xd1\\x82\\xd0\\xbe\\xd0\\xb2 \\xd0\\xbf\\xd0\\xb8\\xd1\\x81\\xd0\\xb0\\xd0\\xbb,\\xd1\\x87\\xd1\\x82\\xd0\\xbe \\xd0\\xb4\\xd0\\xb8\\xd1\\x81\\xd0\\xba\\xd1\\x80\\xd0\\xb5\\xd0\\xb4\\xd0\\xb8\\xd1\\x82\\xd0\\xb0\\xd1\\x86\\xd0\\xb8\\xd1\\x8f \\xd0\\xb3\\xd0\\xbe\\xd1\\x81\\xd1\\x83\\xd0\\xb4\\xd0\\xb0\\xd1\\x80\\xd1\\x81\\xd1\\x82\\xd0\\xb2. \\xd0\\xbd\\xd0\\xb0\\xd0\\xb3\\xd1\\x80\\xd0\\xb0\\xd0\\xb4 \\xd0\\xb1\\xd1\\x8b\\xd0\\xbb\\xd0\\xb0 \\xd0\\xbf\\xd0\\xbe\\xd1\\x81\\xd1\\x82\\xd0\\xb0\\xd0\\xb2\\xd0\\xbb\\xd0\\xb5\\xd0\\xbd\\xd0\\xb0 \\xd0\\xba\\xd0\\xb0\\xd0\\xba \\xd0\\xbe\\xd0\\xb4\\xd0\\xbd\\xd0\\xb0 \\xd0\\xb8\\xd0\\xb7 \\xd1\\x86\\xd0\\xb5\\xd0\\xbb\\xd0\\xb5\\xd0\\xb9 \\xd1\\x80\\xd0\\xb0\\xd0\\xb7\\xd0\\xb2\\xd0\\xb0\\xd0\\xbb\\xd0\\xb0 \\xd0\\xa0\\xd0\\xbe\\xd1\\x81\\xd1\\x81\\xd0\\xb8\\xd0\\xb8 \\xd0\\xbf\\xd0\\xb5\\xd1\\x80\\xd0\\xb5\\xd0\\xb4 \\xd0\\xa1\\xd0\\xbe\\xd0\\xb1\\xd1\\x87\\xd0\\xb0\\xd0\\xba\\xd0\\xbe\\xd0\\xbc \\xd0\\xb8 \\xd0\\xb5\\xd0\\xb3\\xd0\\xbe \\xd0\\xba\\xd0\\xbe\\xd0\\xbc\\xd0\\xb0\\xd0\\xbd\\xd0\\xb4\\xd0\\xbe\\xd0\\xb9.(',\n",
              "        b'@3171896 @Lusenka112 \\xd1\\x8d\\xd1\\x82\\xd0\\xbe \\xd0\\xbd\\xd0\\xb0\\xd0\\xb4\\xd0\\xbe \\xd1\\x80\\xd0\\xb0\\xd0\\xbd\\xd0\\xbe \\xd0\\xbb\\xd0\\xbe\\xd0\\xb6\\xd0\\xb8\\xd1\\x82\\xd1\\x8c\\xd1\\x81\\xd1\\x8f \\xd0\\xb8 \\xd1\\x80\\xd0\\xb0\\xd0\\xbd\\xd0\\xbe \\xd0\\xb2\\xd1\\x81\\xd1\\x82\\xd0\\xb0\\xd0\\xb2\\xd0\\xb0\\xd1\\x82\\xd1\\x8c ((',\n",
              "        b'\\xd0\\x9f\\xd1\\x80\\xd0\\xbe\\xd1\\x81\\xd0\\xbd\\xd1\\x83\\xd0\\xbb\\xd0\\xb0\\xd1\\x81\\xd1\\x8c \\xd0\\xb2 \\xd1\\x82\\xd1\\x80\\xd0\\xb8 \\xd1\\x87\\xd0\\xb0\\xd1\\x81\\xd0\\xb0 \\xd0\\xb4\\xd0\\xbd\\xd1\\x8f. \\xd0\\xad\\xd1\\x82\\xd0\\xbe\\xd0\\xb9 \\xd0\\xb7\\xd0\\xb8\\xd0\\xbc\\xd0\\xbe\\xd0\\xb9 \\xd1\\x8f \\xd0\\xb5\\xd1\\x89\\xd0\\xb5 \\xd0\\xbd\\xd0\\xb5 \\xd0\\xb1\\xd1\\x8b\\xd0\\xbb\\xd0\\xb0 \\xd0\\xbd\\xd0\\xb0 \\xd0\\xba\\xd0\\xb0\\xd1\\x82\\xd0\\xba\\xd0\\xb5, \\xd0\\xb3\\xd1\\x80\\xd1\\x83\\xd1\\x81\\xd1\\x82\\xd0\\xb8\\xd0\\xbd\\xd0\\xba\\xd0\\xb0(',\n",
              "        b'@verabramovich \\xd0\\xbd\\xd1\\x83 \\xd0\\xbf\\xd1\\x80\\xd0\\xbe\\xd1\\x81\\xd1\\x82\\xd0\\xb8) \\xd0\\xbd\\xd0\\xbe \\xd0\\xb4\\xd0\\xbb\\xd1\\x8f \\xd0\\xbc\\xd0\\xb5\\xd0\\xbd\\xd1\\x8f \\xd1\\x82\\xd1\\x8b \\xd0\\xb2\\xd1\\x81\\xd0\\xb5\\xd0\\xb3\\xd0\\xb4\\xd0\\xb0 \\xd0\\xbe\\xd1\\x81\\xd1\\x82\\xd0\\xb0\\xd0\\xbd\\xd0\\xb5\\xd1\\x88\\xd1\\x8c\\xd1\\x81\\xd1\\x8f \\xd0\\x9c\\xd0\\xb0\\xd0\\xbb\\xd0\\xb0\\xd1\\x85\\xd0\\xbe\\xd0\\xb2\\xd0\\xbe\\xd0\\xb9 \\xd0\\x92\\xd0\\xb5\\xd1\\x80\\xd0\\xbe\\xd0\\xbd\\xd0\\xb8\\xd0\\xba\\xd0\\xbe\\xd0\\xb9 ',\n",
              "        b'@RAD_AG \\xd1\\x8d\\xd1\\x82\\xd0\\xbe \\xd0\\xb8 \\xd0\\xb5\\xd1\\x81\\xd1\\x82\\xd1\\x8c \\xd0\\xb7\\xd0\\xbd\\xd0\\xb0\\xd0\\xbc\\xd0\\xb5\\xd0\\xbd\\xd0\\xb8\\xd1\\x82\\xd0\\xb0\\xd1\\x8f \\xd1\\x81\\xd0\\xbb\\xd0\\xb0\\xd0\\xb2\\xd1\\x8f\\xd0\\xbd\\xd1\\x81\\xd0\\xba\\xd0\\xb0\\xd1\\x8f \\xd1\\x81\\xd0\\xbc\\xd0\\xb5\\xd0\\xba\\xd0\\xb0\\xd0\\xbb\\xd0\\xba\\xd0\\xb0))',\n",
              "        b'\\xd0\\x90\\xd0\\xbb\\xd0\\xbb\\xd0\\xb5\\xd1\\x80\\xd0\\xb3\\xd0\\xb8\\xd0\\xb5\\xd0\\xb9 \\xd0\\xbc\\xd0\\xb5\\xd0\\xbd\\xd1\\x8f \\xd0\\xbd\\xd0\\xb5 \\xd0\\xb8\\xd1\\x81\\xd0\\xbf\\xd1\\x83\\xd0\\xb3\\xd0\\xb0\\xd0\\xb5\\xd1\\x88\\xd1\\x8c)\\n\\xd1\\x8f \\xd0\\xb2\\xd1\\x81\\xd0\\xb5 \\xd1\\x80\\xd0\\xb0\\xd0\\xb2\\xd0\\xbd\\xd0\\xbe \\xd0\\xb1\\xd1\\x83\\xd0\\xb4\\xd1\\x83 \\xd0\\xb5\\xd1\\x81\\xd1\\x82\\xd1\\x8c \\xd0\\xbc\\xd0\\xb0\\xd0\\xbd\\xd0\\xb4\\xd0\\xb0\\xd1\\x80\\xd0\\xb8\\xd0\\xbd\\xd1\\x8b!',\n",
              "        b'\\xd0\\x92\\xd1\\x81\\xd0\\xb5 \\xd0\\xbc\\xd0\\xbe\\xd0\\xb8 \\xd0\\xbf\\xd0\\xbb\\xd0\\xb0\\xd0\\xbd\\xd1\\x8b \\xd0\\xbd\\xd0\\xb0 \\xd0\\x9d\\xd0\\x93, \\xd0\\xbf\\xd0\\xbe\\xd0\\xbb\\xd0\\xb5\\xd1\\x82\\xd0\\xb5\\xd0\\xbb\\xd0\\xb8 \\xd0\\xba \\xd1\\x87\\xd1\\x91\\xd1\\x80\\xd1\\x82\\xd1\\x83....(',\n",
              "        b'@Sibir26  \\xd1\\x8f \\xd1\\x89\\xd0\\xb0\\xd1\\x81 \\xd0\\xbe\\xd1\\x82 \\xd0\\xb5\\xd0\\xb3\\xd0\\xbe \\xd1\\x81\\xd0\\xbb\\xd0\\xbe\\xd0\\xb2, \\xd1\\x87\\xd1\\x83\\xd1\\x82\\xd1\\x8c \\xd0\\xbd\\xd0\\xb5 \\xd0\\xb7\\xd0\\xb0\\xd0\\xbf\\xd0\\xbb\\xd0\\xb0\\xd0\\xba\\xd0\\xb0\\xd0\\xbb\\xd0\\xb0(',\n",
              "        b'RT @495rus: @Leshechkin21 \\xd0\\x9a\\xd0\\xbe\\xd0\\xbd\\xd0\\xb5\\xd1\\x87\\xd0\\xbd\\xd0\\xbe, \\xd1\\x8d\\xd1\\x82\\xd0\\xbe \\xd0\\xb8\\xd1\\x81\\xd0\\xba\\xd0\\xbb\\xd1\\x8e\\xd1\\x87\\xd0\\xb5\\xd0\\xbd\\xd0\\xb8\\xd1\\x8f ((( http://t.co/CARW5ZVLk0',\n",
              "        b'@nadyndel @grr_anya \\xd0\\xbd\\xd0\\xb5\\xd0\\xb0, \\xd1\\x8f \\xd0\\xbf\\xd0\\xbe\\xd1\\x81\\xd0\\xbb\\xd0\\xb5\\xd0\\xb4\\xd0\\xbd\\xd0\\xb8\\xd0\\xb5 \\xd0\\xba\\xd1\\x83\\xd0\\xbf\\xd0\\xb8\\xd0\\xbb\\xd0\\xb0 :(',\n",
              "        b'\\xd0\\x9c\\xd0\\xbe\\xd0\\xb9 \\xd0\\xbe\\xd1\\x80\\xd0\\xb0\\xd0\\xbd\\xd0\\xb6\\xd0\\xb5\\xd0\\xb2\\xd1\\x8b\\xd0\\xb9 \\xd0\\xb6\\xd0\\xb5\\xd0\\xbb\\xd0\\xb5\\xd0\\xb7\\xd0\\xbd\\xd1\\x8b\\xd0\\xb9 \\xd0\\xb4\\xd1\\x80\\xd1\\x83\\xd0\\xb3 \\xd0\\xbd\\xd0\\xb0\\xd0\\xba\\xd0\\xbe\\xd0\\xbd\\xd0\\xb5\\xd1\\x86-\\xd1\\x82\\xd0\\xbe \\xd1\\x81\\xd0\\xbd\\xd0\\xbe\\xd0\\xb2\\xd0\\xb0 \\xd1\\x81\\xd0\\xbe \\xd0\\xbc\\xd0\\xbd\\xd0\\xbe\\xd0\\xb9 ^_^'],\n",
              "       dtype=object)>,\n",
              " <tf.Tensor: shape=(16,), dtype=int64, numpy=array([0, 1, 0, 0, 0, 0, 0, 0, 1, 1, 1, 0, 0, 0, 0, 1])>)"
            ]
          },
          "metadata": {},
          "execution_count": 29
        }
      ]
    },
    {
      "cell_type": "code",
      "source": [
        "def custom_standardization(input_data):\n",
        "\n",
        "    return input_data\n",
        "\n",
        "vocab_size = 10000 # отбираем 10000 вместо 31000\n",
        "seq_len = 100 # сколько токенов в тексте проходят по всем текстам\n",
        "# и выбирают максимум или берут квантильное, могут быть выбросы по длинам\n",
        "\n",
        "vectorize_layer = TextVectorization(\n",
        "    standardize=custom_standardization,\n",
        "    max_tokens=vocab_size,\n",
        "    output_mode='int', # каждый токен будем переводить в индекс относительно нашего словаря vocab_size\n",
        "    output_sequence_length=seq_len)\n",
        "\n",
        "# Make a text-only dataset (no labels) and call adapt to build the vocabulary.\n",
        "text_data = train_data.map(lambda x, y: x)\n",
        "vectorize_layer.adapt(text_data)\n",
        "\n",
        "embedding_dim=200 # 200-мерные вектора будут у каждого токена"
      ],
      "metadata": {
        "id": "Pugn7AxFdZPk"
      },
      "execution_count": 30,
      "outputs": []
    },
    {
      "cell_type": "code",
      "source": [
        "class myNet(tf.keras.Model):\n",
        "    def __init__(self):\n",
        "        super(myNet, self).__init__()\n",
        "        self.emb = Embedding(vocab_size, embedding_dim, name=\"embedding\")\n",
        "        self.conv1 = Conv1D(200, (3))\n",
        "        self.conv2 = Conv1D(200, (3))\n",
        "        self.gPool = GlobalAveragePooling1D()\n",
        "        self.fc1 = Dense(100, activation='relu')\n",
        "        self.fc2 = Dense(1)\n",
        "\n",
        "\n",
        "    def call(self, x):\n",
        "        x = vectorize_layer(x)\n",
        "        x = self.emb(x)\n",
        "        x1 = self.conv1(x)\n",
        "        x = self.conv2(x)\n",
        "        x = self.gPool((x + x1)/2)\n",
        "        x = self.fc1(x)\n",
        "        return self.fc2(x)"
      ],
      "metadata": {
        "id": "m8xK2-fBd2kY"
      },
      "execution_count": 31,
      "outputs": []
    },
    {
      "cell_type": "code",
      "source": [
        "model = myNet()"
      ],
      "metadata": {
        "id": "Gib_Idx7d-45"
      },
      "execution_count": 32,
      "outputs": []
    },
    {
      "cell_type": "code",
      "source": [
        "model.compile(optimizer='adam',\n",
        "              loss=tf.keras.losses.BinaryCrossentropy(from_logits=True),\n",
        "              metrics=['accuracy'])"
      ],
      "metadata": {
        "id": "jHlEk3jVeBxJ"
      },
      "execution_count": 33,
      "outputs": []
    },
    {
      "cell_type": "code",
      "source": [
        "model.fit(train_data, validation_data=valid_data, epochs=3)"
      ],
      "metadata": {
        "colab": {
          "base_uri": "https://localhost:8080/"
        },
        "id": "3lmDib5CeEAi",
        "outputId": "2116662a-a211-4673-db47-5fa0891979e9"
      },
      "execution_count": 34,
      "outputs": [
        {
          "output_type": "stream",
          "name": "stdout",
          "text": [
            "Epoch 1/3\n",
            "10633/10633 [==============================] - 113s 10ms/step - loss: 0.3892 - accuracy: 0.7751 - val_loss: 0.3840 - val_accuracy: 0.7568\n",
            "Epoch 2/3\n",
            "10633/10633 [==============================] - 81s 8ms/step - loss: 0.3257 - accuracy: 0.8190 - val_loss: 0.3865 - val_accuracy: 0.7773\n",
            "Epoch 3/3\n",
            "10633/10633 [==============================] - 82s 8ms/step - loss: 0.3036 - accuracy: 0.8347 - val_loss: 0.4089 - val_accuracy: 0.7799\n"
          ]
        },
        {
          "output_type": "execute_result",
          "data": {
            "text/plain": [
              "<keras.callbacks.History at 0x7b6188406650>"
            ]
          },
          "metadata": {},
          "execution_count": 34
        }
      ]
    },
    {
      "cell_type": "code",
      "source": [
        "preds = model.predict(valid_data)"
      ],
      "metadata": {
        "colab": {
          "base_uri": "https://localhost:8080/"
        },
        "id": "1QcJRlHheGrh",
        "outputId": "296f9035-361c-485b-c12c-291c1599c420"
      },
      "execution_count": 35,
      "outputs": [
        {
          "output_type": "stream",
          "name": "stdout",
          "text": [
            "3545/3545 [==============================] - 9s 3ms/step\n"
          ]
        }
      ]
    },
    {
      "cell_type": "code",
      "source": [
        "preds"
      ],
      "metadata": {
        "colab": {
          "base_uri": "https://localhost:8080/"
        },
        "id": "X2sO5Lz5kzwe",
        "outputId": "886be7db-b121-470e-bf79-b5175394e21c"
      },
      "execution_count": 36,
      "outputs": [
        {
          "output_type": "execute_result",
          "data": {
            "text/plain": [
              "array([[-2.6517942 ],\n",
              "       [-1.3252225 ],\n",
              "       [ 1.5217838 ],\n",
              "       ...,\n",
              "       [-4.7884526 ],\n",
              "       [-1.0737562 ],\n",
              "       [ 0.16081455]], dtype=float32)"
            ]
          },
          "metadata": {},
          "execution_count": 36
        }
      ]
    },
    {
      "cell_type": "code",
      "source": [
        "# приведение preds в бинарный вид:\n",
        "\n",
        "preds = [int(i[0]>0) for i in preds]"
      ],
      "metadata": {
        "id": "oSF0nkMok1dX"
      },
      "execution_count": 37,
      "outputs": []
    },
    {
      "cell_type": "code",
      "source": [
        "print(classification_report(preds, y_test))"
      ],
      "metadata": {
        "colab": {
          "base_uri": "https://localhost:8080/"
        },
        "id": "DaBIWsNllBYo",
        "outputId": "f94a899b-ae95-431f-ad8d-ef20f3556cd4"
      },
      "execution_count": 38,
      "outputs": [
        {
          "output_type": "stream",
          "name": "stdout",
          "text": [
            "              precision    recall  f1-score   support\n",
            "\n",
            "           0       0.91      0.74      0.82     34239\n",
            "           1       0.69      0.89      0.78     22470\n",
            "\n",
            "    accuracy                           0.80     56709\n",
            "   macro avg       0.80      0.82      0.80     56709\n",
            "weighted avg       0.83      0.80      0.80     56709\n",
            "\n"
          ]
        }
      ]
    },
    {
      "cell_type": "markdown",
      "source": [
        "У полносвязанной сети лучшие результаты по метрикам."
      ],
      "metadata": {
        "id": "SvaSYbX4vYCW"
      }
    }
  ]
}